{
 "cells": [
  {
   "cell_type": "code",
   "execution_count": 63,
   "metadata": {},
   "outputs": [
    {
     "name": "stdout",
     "output_type": "stream",
     "text": [
      "The autoreload extension is already loaded. To reload it, use:\n",
      "  %reload_ext autoreload\n"
     ]
    }
   ],
   "source": [
    "import pandas as pd\n",
    "import numpy as np\n",
    "import math\n",
    "from lineardatamodels import *\n",
    "from lineartoydata import *\n",
    "from lineardatatools import *\n",
    "%load_ext autoreload\n",
    "%autoreload 2"
   ]
  },
  {
   "cell_type": "code",
   "execution_count": 535,
   "metadata": {},
   "outputs": [],
   "source": [
    "\"\"\"Let's define the model here\"\"\"\n",
    "c_x = np.array([1,1])\n",
    "s_x = np.array([0.1,0.1])#np.array([1,1])\n",
    "c_t = np.array([0.5])\n",
    "s_t = np.array([1])#np.array([1])\n",
    "c_yz = np.array([0.6])\n",
    "c_yt = np.array([1])\n",
    "s_y = np.array([1.5])#np.array([1.5])"
   ]
  },
  {
   "cell_type": "code",
   "execution_count": 536,
   "metadata": {},
   "outputs": [],
   "source": [
    "%autoreload 2\n",
    "BATCH_SIZE = 500\n",
    "num_samples = 5000\n",
    "df = linear_data_df(num_samples, c_x, c_t, c_yz, c_yt, s_x, s_t, s_y)\n",
    "dataset = LinearDataset(df)\n",
    "dataloader = LinearDataLoader(dataset, validation_split=0.0)\n",
    "train_loader, test_loader = dataloader.get_loaders(batch_size=BATCH_SIZE)\n",
    "#dummy test loader\n",
    "test_loader, _ = LinearDataLoader(LinearDataset(df[:1]), validation_split=0.0).get_loaders(batch_size=1)\n",
    "\n",
    "z_dim = 10\n",
    "input_dim = 2"
   ]
  },
  {
   "cell_type": "code",
   "execution_count": 550,
   "metadata": {
    "scrolled": true
   },
   "outputs": [
    {
     "name": "stdout",
     "output_type": "stream",
     "text": [
      "Training Results - Epoch 1 - y_reconc_loss: 951.1327 x_reconc_loss: 1608.5549 t_reconc_loss: 821.3742 kld_loss: 11.6087 total_loss: 3392.6705 learning rate: 0.0481\n",
      "Training Results - Epoch 2 - y_reconc_loss: 948.7077 x_reconc_loss: 1428.8104 t_reconc_loss: 754.6508 kld_loss: 3.8168 total_loss: 3135.9856 learning rate: 0.0462\n",
      "Training Results - Epoch 3 - y_reconc_loss: 940.9790 x_reconc_loss: 1437.0103 t_reconc_loss: 760.9417 kld_loss: 9.7588 total_loss: 3148.6897 learning rate: 0.0445\n",
      "Training Results - Epoch 4 - y_reconc_loss: 928.3997 x_reconc_loss: 1240.0373 t_reconc_loss: 752.9981 kld_loss: 138.9147 total_loss: 3060.3499 learning rate: 0.0428\n",
      "Training Results - Epoch 5 - y_reconc_loss: 893.7535 x_reconc_loss: 1102.6686 t_reconc_loss: 719.9151 kld_loss: 276.4237 total_loss: 2992.7608 learning rate: 0.0411\n",
      "Training Results - Epoch 6 - y_reconc_loss: 897.1227 x_reconc_loss: 869.1329 t_reconc_loss: 699.9638 kld_loss: 370.9073 total_loss: 2837.1266 learning rate: 0.0395\n",
      "Training Results - Epoch 7 - y_reconc_loss: 917.5462 x_reconc_loss: 648.0712 t_reconc_loss: 708.7253 kld_loss: 576.4766 total_loss: 2850.8193 learning rate: 0.0380\n",
      "Training Results - Epoch 8 - y_reconc_loss: 908.5515 x_reconc_loss: 572.3010 t_reconc_loss: 703.6836 kld_loss: 576.4492 total_loss: 2760.9852 learning rate: 0.0366\n",
      "Training Results - Epoch 9 - y_reconc_loss: 911.8640 x_reconc_loss: 471.2690 t_reconc_loss: 697.7854 kld_loss: 676.6374 total_loss: 2757.5558 learning rate: 0.0352\n",
      "Training Results - Epoch 10 - y_reconc_loss: 908.8206 x_reconc_loss: 345.7696 t_reconc_loss: 703.5413 kld_loss: 701.4709 total_loss: 2659.6025 learning rate: 0.0338\n",
      "Training Results - Epoch 11 - y_reconc_loss: 899.9223 x_reconc_loss: 220.5585 t_reconc_loss: 696.8643 kld_loss: 770.0022 total_loss: 2587.3473 learning rate: 0.0325\n",
      "Training Results - Epoch 12 - y_reconc_loss: 905.7682 x_reconc_loss: 3.9137 t_reconc_loss: 705.1936 kld_loss: 815.3127 total_loss: 2430.1882 learning rate: 0.0313\n",
      "Training Results - Epoch 13 - y_reconc_loss: 903.8446 x_reconc_loss: -197.4065 t_reconc_loss: 700.9472 kld_loss: 930.1539 total_loss: 2337.5392 learning rate: 0.0301\n",
      "Training Results - Epoch 14 - y_reconc_loss: 906.3737 x_reconc_loss: 300.8000 t_reconc_loss: 707.4604 kld_loss: 936.3940 total_loss: 2851.0282 learning rate: 0.0289\n",
      "Training Results - Epoch 15 - y_reconc_loss: 908.3943 x_reconc_loss: 8.8814 t_reconc_loss: 697.7821 kld_loss: 1007.1442 total_loss: 2622.2019 learning rate: 0.0278\n",
      "Training Results - Epoch 16 - y_reconc_loss: 905.3130 x_reconc_loss: -210.4594 t_reconc_loss: 700.4549 kld_loss: 979.3597 total_loss: 2374.6682 learning rate: 0.0267\n",
      "Training Results - Epoch 17 - y_reconc_loss: 905.2824 x_reconc_loss: -344.0232 t_reconc_loss: 701.1557 kld_loss: 998.4113 total_loss: 2260.8261 learning rate: 0.0257\n",
      "Training Results - Epoch 18 - y_reconc_loss: 906.3691 x_reconc_loss: -410.0181 t_reconc_loss: 702.8412 kld_loss: 1053.9305 total_loss: 2253.1226 learning rate: 0.0247\n",
      "Training Results - Epoch 19 - y_reconc_loss: 907.5701 x_reconc_loss: -453.2427 t_reconc_loss: 704.6592 kld_loss: 1115.3551 total_loss: 2274.3417 learning rate: 0.0238\n",
      "Training Results - Epoch 20 - y_reconc_loss: 907.2591 x_reconc_loss: -551.1538 t_reconc_loss: 701.7600 kld_loss: 1176.4540 total_loss: 2234.3193 learning rate: 0.0229\n",
      "Training Results - Epoch 21 - y_reconc_loss: 901.9929 x_reconc_loss: -623.9580 t_reconc_loss: 699.9972 kld_loss: 1164.6586 total_loss: 2142.6907 learning rate: 0.0220\n",
      "Training Results - Epoch 22 - y_reconc_loss: 903.3548 x_reconc_loss: -474.3644 t_reconc_loss: 698.1401 kld_loss: 1130.8487 total_loss: 2257.9793 learning rate: 0.0211\n",
      "Training Results - Epoch 23 - y_reconc_loss: 902.7605 x_reconc_loss: -458.7479 t_reconc_loss: 701.3408 kld_loss: 1100.9592 total_loss: 2246.3126 learning rate: 0.0203\n",
      "Training Results - Epoch 24 - y_reconc_loss: 903.9554 x_reconc_loss: -566.8749 t_reconc_loss: 703.7998 kld_loss: 1125.1735 total_loss: 2166.0537 learning rate: 0.0196\n",
      "Training Results - Epoch 25 - y_reconc_loss: 906.8743 x_reconc_loss: -621.6570 t_reconc_loss: 701.7487 kld_loss: 1160.1516 total_loss: 2147.1177 learning rate: 0.0188\n",
      "Training Results - Epoch 26 - y_reconc_loss: 903.4796 x_reconc_loss: -665.2584 t_reconc_loss: 701.1407 kld_loss: 1176.0225 total_loss: 2115.3844 learning rate: 0.0181\n",
      "Training Results - Epoch 27 - y_reconc_loss: 905.5796 x_reconc_loss: -711.3437 t_reconc_loss: 701.1801 kld_loss: 1207.7844 total_loss: 2103.2004 learning rate: 0.0174\n",
      "Training Results - Epoch 28 - y_reconc_loss: 904.1179 x_reconc_loss: -735.7988 t_reconc_loss: 700.4191 kld_loss: 1235.7401 total_loss: 2104.4782 learning rate: 0.0167\n",
      "Training Results - Epoch 29 - y_reconc_loss: 904.7264 x_reconc_loss: -803.9892 t_reconc_loss: 703.0161 kld_loss: 1279.1073 total_loss: 2082.8607 learning rate: 0.0161\n",
      "Training Results - Epoch 30 - y_reconc_loss: 903.4712 x_reconc_loss: -796.2512 t_reconc_loss: 701.5499 kld_loss: 1275.8741 total_loss: 2084.6440 learning rate: 0.0155\n",
      "Training Results - Epoch 31 - y_reconc_loss: 905.2101 x_reconc_loss: -776.2697 t_reconc_loss: 703.3301 kld_loss: 1262.9830 total_loss: 2095.2536 learning rate: 0.0149\n",
      "Training Results - Epoch 32 - y_reconc_loss: 903.7393 x_reconc_loss: -772.9817 t_reconc_loss: 700.7901 kld_loss: 1295.6441 total_loss: 2127.1917 learning rate: 0.0143\n",
      "Training Results - Epoch 33 - y_reconc_loss: 904.8955 x_reconc_loss: -755.5515 t_reconc_loss: 700.3987 kld_loss: 1276.3332 total_loss: 2126.0759 learning rate: 0.0138\n",
      "Training Results - Epoch 34 - y_reconc_loss: 904.6702 x_reconc_loss: -761.2791 t_reconc_loss: 701.2859 kld_loss: 1269.1814 total_loss: 2113.8584 learning rate: 0.0132\n",
      "Training Results - Epoch 35 - y_reconc_loss: 902.4792 x_reconc_loss: -825.9703 t_reconc_loss: 702.2457 kld_loss: 1292.9118 total_loss: 2071.6664 learning rate: 0.0127\n",
      "Training Results - Epoch 36 - y_reconc_loss: 902.9057 x_reconc_loss: -823.1167 t_reconc_loss: 701.1297 kld_loss: 1292.1634 total_loss: 2073.0822 learning rate: 0.0122\n",
      "Training Results - Epoch 37 - y_reconc_loss: 904.4760 x_reconc_loss: -820.1996 t_reconc_loss: 701.2713 kld_loss: 1291.5101 total_loss: 2077.0577 learning rate: 0.0118\n",
      "Training Results - Epoch 38 - y_reconc_loss: 903.7817 x_reconc_loss: -830.8445 t_reconc_loss: 702.0338 kld_loss: 1316.3128 total_loss: 2091.2838 learning rate: 0.0113\n",
      "Training Results - Epoch 39 - y_reconc_loss: 905.1934 x_reconc_loss: -841.5371 t_reconc_loss: 704.5780 kld_loss: 1288.3730 total_loss: 2056.6073 learning rate: 0.0109\n",
      "Training Results - Epoch 40 - y_reconc_loss: 905.4979 x_reconc_loss: -815.6495 t_reconc_loss: 702.8479 kld_loss: 1289.9628 total_loss: 2082.6592 learning rate: 0.0105\n",
      "Training Results - Epoch 41 - y_reconc_loss: 905.0089 x_reconc_loss: -844.3584 t_reconc_loss: 701.7668 kld_loss: 1290.6693 total_loss: 2053.0865 learning rate: 0.0101\n",
      "Training Results - Epoch 42 - y_reconc_loss: 904.1588 x_reconc_loss: -860.9176 t_reconc_loss: 702.3449 kld_loss: 1307.0126 total_loss: 2052.5987 learning rate: 0.0097\n",
      "Training Results - Epoch 43 - y_reconc_loss: 903.4785 x_reconc_loss: -853.6656 t_reconc_loss: 702.0454 kld_loss: 1302.2986 total_loss: 2054.1570 learning rate: 0.0093\n",
      "Training Results - Epoch 44 - y_reconc_loss: 903.5825 x_reconc_loss: -840.0336 t_reconc_loss: 702.0632 kld_loss: 1300.9754 total_loss: 2066.5875 learning rate: 0.0089\n",
      "Training Results - Epoch 45 - y_reconc_loss: 904.0318 x_reconc_loss: -831.7825 t_reconc_loss: 700.6340 kld_loss: 1300.7006 total_loss: 2073.5839 learning rate: 0.0086\n",
      "Training Results - Epoch 46 - y_reconc_loss: 902.5169 x_reconc_loss: -829.0048 t_reconc_loss: 700.4634 kld_loss: 1292.2593 total_loss: 2066.2348 learning rate: 0.0083\n",
      "Training Results - Epoch 47 - y_reconc_loss: 902.8778 x_reconc_loss: -846.3579 t_reconc_loss: 701.6383 kld_loss: 1306.9583 total_loss: 2065.1165 learning rate: 0.0080\n",
      "Training Results - Epoch 48 - y_reconc_loss: 905.3928 x_reconc_loss: -856.7135 t_reconc_loss: 703.2770 kld_loss: 1300.3614 total_loss: 2052.3177 learning rate: 0.0076\n",
      "Training Results - Epoch 49 - y_reconc_loss: 904.0916 x_reconc_loss: -828.2345 t_reconc_loss: 702.7710 kld_loss: 1305.7814 total_loss: 2084.4094 learning rate: 0.0074\n",
      "Training Results - Epoch 50 - y_reconc_loss: 903.5506 x_reconc_loss: -858.0492 t_reconc_loss: 700.9590 kld_loss: 1309.2869 total_loss: 2055.7473 learning rate: 0.0071\n"
     ]
    },
    {
     "name": "stdout",
     "output_type": "stream",
     "text": [
      "Training Results - Epoch 51 - y_reconc_loss: 902.2008 x_reconc_loss: -842.6771 t_reconc_loss: 701.6474 kld_loss: 1320.6053 total_loss: 2081.7763 learning rate: 0.0068\n",
      "Training Results - Epoch 52 - y_reconc_loss: 904.5922 x_reconc_loss: -828.3262 t_reconc_loss: 700.0010 kld_loss: 1310.1292 total_loss: 2086.3962 learning rate: 0.0065\n",
      "Training Results - Epoch 53 - y_reconc_loss: 904.0771 x_reconc_loss: -847.8949 t_reconc_loss: 701.9937 kld_loss: 1305.6354 total_loss: 2063.8114 learning rate: 0.0063\n",
      "Training Results - Epoch 54 - y_reconc_loss: 904.4447 x_reconc_loss: -866.0530 t_reconc_loss: 702.5594 kld_loss: 1319.7467 total_loss: 2060.6979 learning rate: 0.0060\n",
      "Training Results - Epoch 55 - y_reconc_loss: 902.8287 x_reconc_loss: -841.8794 t_reconc_loss: 700.6343 kld_loss: 1306.9434 total_loss: 2068.5271 learning rate: 0.0058\n",
      "Training Results - Epoch 56 - y_reconc_loss: 903.2811 x_reconc_loss: -851.9061 t_reconc_loss: 700.8212 kld_loss: 1316.3498 total_loss: 2068.5460 learning rate: 0.0056\n",
      "Training Results - Epoch 57 - y_reconc_loss: 903.8179 x_reconc_loss: -847.1172 t_reconc_loss: 703.1707 kld_loss: 1295.1568 total_loss: 2055.0282 learning rate: 0.0054\n",
      "Training Results - Epoch 58 - y_reconc_loss: 903.1181 x_reconc_loss: -871.7423 t_reconc_loss: 701.7287 kld_loss: 1324.4733 total_loss: 2057.5777 learning rate: 0.0052\n",
      "Training Results - Epoch 59 - y_reconc_loss: 903.8602 x_reconc_loss: -854.3808 t_reconc_loss: 701.0010 kld_loss: 1308.1684 total_loss: 2058.6487 learning rate: 0.0050\n",
      "Training Results - Epoch 60 - y_reconc_loss: 903.6225 x_reconc_loss: -864.0996 t_reconc_loss: 703.1305 kld_loss: 1313.2711 total_loss: 2055.9245 learning rate: 0.0048\n",
      "Training Results - Epoch 61 - y_reconc_loss: 903.7566 x_reconc_loss: -879.0428 t_reconc_loss: 701.9406 kld_loss: 1320.5498 total_loss: 2047.2043 learning rate: 0.0046\n",
      "Training Results - Epoch 62 - y_reconc_loss: 903.9526 x_reconc_loss: -868.3926 t_reconc_loss: 701.3978 kld_loss: 1315.5622 total_loss: 2052.5201 learning rate: 0.0044\n",
      "Training Results - Epoch 63 - y_reconc_loss: 904.0999 x_reconc_loss: -857.0585 t_reconc_loss: 701.7184 kld_loss: 1318.9235 total_loss: 2067.6833 learning rate: 0.0043\n",
      "Training Results - Epoch 64 - y_reconc_loss: 903.5501 x_reconc_loss: -864.1659 t_reconc_loss: 702.6057 kld_loss: 1308.1630 total_loss: 2050.1528 learning rate: 0.0041\n",
      "Training Results - Epoch 65 - y_reconc_loss: 903.9119 x_reconc_loss: -890.4963 t_reconc_loss: 701.1872 kld_loss: 1327.0911 total_loss: 2041.6938 learning rate: 0.0039\n",
      "Training Results - Epoch 66 - y_reconc_loss: 903.9259 x_reconc_loss: -887.9629 t_reconc_loss: 701.6083 kld_loss: 1335.3152 total_loss: 2052.8866 learning rate: 0.0038\n",
      "Training Results - Epoch 67 - y_reconc_loss: 903.9389 x_reconc_loss: -870.0091 t_reconc_loss: 701.4340 kld_loss: 1314.5010 total_loss: 2049.8647 learning rate: 0.0036\n",
      "Training Results - Epoch 68 - y_reconc_loss: 903.8132 x_reconc_loss: -878.8249 t_reconc_loss: 700.6249 kld_loss: 1321.9538 total_loss: 2047.5670 learning rate: 0.0035\n",
      "Training Results - Epoch 69 - y_reconc_loss: 903.8776 x_reconc_loss: -882.8037 t_reconc_loss: 702.1512 kld_loss: 1326.0847 total_loss: 2049.3098 learning rate: 0.0034\n",
      "Training Results - Epoch 70 - y_reconc_loss: 903.4312 x_reconc_loss: -863.8303 t_reconc_loss: 701.5295 kld_loss: 1314.2772 total_loss: 2055.4077 learning rate: 0.0032\n",
      "Training Results - Epoch 71 - y_reconc_loss: 903.0690 x_reconc_loss: -871.4720 t_reconc_loss: 700.4904 kld_loss: 1314.3874 total_loss: 2046.4748 learning rate: 0.0031\n",
      "Training Results - Epoch 72 - y_reconc_loss: 903.8940 x_reconc_loss: -887.8296 t_reconc_loss: 702.1974 kld_loss: 1322.6741 total_loss: 2040.9359 learning rate: 0.0030\n",
      "Training Results - Epoch 73 - y_reconc_loss: 903.5637 x_reconc_loss: -865.5725 t_reconc_loss: 701.2274 kld_loss: 1318.0423 total_loss: 2057.2610 learning rate: 0.0029\n",
      "Training Results - Epoch 74 - y_reconc_loss: 903.3595 x_reconc_loss: -881.7452 t_reconc_loss: 702.3011 kld_loss: 1320.2360 total_loss: 2044.1514 learning rate: 0.0028\n",
      "Training Results - Epoch 75 - y_reconc_loss: 903.3138 x_reconc_loss: -874.7976 t_reconc_loss: 701.5231 kld_loss: 1316.2113 total_loss: 2046.2506 learning rate: 0.0027\n",
      "Training Results - Epoch 76 - y_reconc_loss: 903.1691 x_reconc_loss: -864.1761 t_reconc_loss: 701.4767 kld_loss: 1313.5842 total_loss: 2054.0540 learning rate: 0.0026\n",
      "Training Results - Epoch 77 - y_reconc_loss: 903.7377 x_reconc_loss: -901.2543 t_reconc_loss: 701.8393 kld_loss: 1336.1922 total_loss: 2040.5149 learning rate: 0.0025\n",
      "Training Results - Epoch 78 - y_reconc_loss: 903.2949 x_reconc_loss: -873.1301 t_reconc_loss: 701.0466 kld_loss: 1323.6079 total_loss: 2054.8193 learning rate: 0.0024\n",
      "Training Results - Epoch 79 - y_reconc_loss: 903.9188 x_reconc_loss: -858.0165 t_reconc_loss: 702.3155 kld_loss: 1309.0032 total_loss: 2057.2209 learning rate: 0.0023\n",
      "Training Results - Epoch 80 - y_reconc_loss: 903.3949 x_reconc_loss: -876.0528 t_reconc_loss: 701.4438 kld_loss: 1318.8702 total_loss: 2047.6560 learning rate: 0.0022\n",
      "Training Results - Epoch 81 - y_reconc_loss: 903.8137 x_reconc_loss: -868.9636 t_reconc_loss: 702.5117 kld_loss: 1326.3579 total_loss: 2063.7198 learning rate: 0.0021\n",
      "Training Results - Epoch 82 - y_reconc_loss: 903.5928 x_reconc_loss: -895.2086 t_reconc_loss: 701.5457 kld_loss: 1335.9767 total_loss: 2045.9066 learning rate: 0.0020\n",
      "Training Results - Epoch 83 - y_reconc_loss: 903.2975 x_reconc_loss: -898.0463 t_reconc_loss: 701.4057 kld_loss: 1334.9606 total_loss: 2041.6175 learning rate: 0.0019\n",
      "Training Results - Epoch 84 - y_reconc_loss: 903.0401 x_reconc_loss: -869.0161 t_reconc_loss: 701.6912 kld_loss: 1319.0981 total_loss: 2054.8134 learning rate: 0.0019\n",
      "Training Results - Epoch 85 - y_reconc_loss: 903.3720 x_reconc_loss: -875.9047 t_reconc_loss: 701.2948 kld_loss: 1318.4787 total_loss: 2047.2408 learning rate: 0.0018\n",
      "Training Results - Epoch 86 - y_reconc_loss: 903.6943 x_reconc_loss: -880.2413 t_reconc_loss: 701.2030 kld_loss: 1322.1990 total_loss: 2046.8550 learning rate: 0.0017\n",
      "Training Results - Epoch 87 - y_reconc_loss: 903.0771 x_reconc_loss: -874.9314 t_reconc_loss: 701.2217 kld_loss: 1319.7077 total_loss: 2049.0751 learning rate: 0.0017\n",
      "Training Results - Epoch 88 - y_reconc_loss: 903.1410 x_reconc_loss: -876.9309 t_reconc_loss: 701.4321 kld_loss: 1324.0748 total_loss: 2051.7171 learning rate: 0.0016\n",
      "Training Results - Epoch 89 - y_reconc_loss: 903.9846 x_reconc_loss: -891.1541 t_reconc_loss: 702.0510 kld_loss: 1328.6479 total_loss: 2043.5293 learning rate: 0.0015\n",
      "Training Results - Epoch 90 - y_reconc_loss: 903.8847 x_reconc_loss: -892.8098 t_reconc_loss: 701.3297 kld_loss: 1329.6234 total_loss: 2042.0279 learning rate: 0.0015\n",
      "Training Results - Epoch 91 - y_reconc_loss: 903.5008 x_reconc_loss: -891.2771 t_reconc_loss: 702.3661 kld_loss: 1327.4492 total_loss: 2042.0390 learning rate: 0.0014\n",
      "Training Results - Epoch 92 - y_reconc_loss: 902.6054 x_reconc_loss: -887.0076 t_reconc_loss: 701.0842 kld_loss: 1322.8200 total_loss: 2039.5019 learning rate: 0.0014\n",
      "Training Results - Epoch 93 - y_reconc_loss: 903.4062 x_reconc_loss: -888.0401 t_reconc_loss: 701.6366 kld_loss: 1322.7205 total_loss: 2039.7232 learning rate: 0.0013\n",
      "Training Results - Epoch 94 - y_reconc_loss: 904.1493 x_reconc_loss: -872.7041 t_reconc_loss: 702.3846 kld_loss: 1318.4920 total_loss: 2052.3218 learning rate: 0.0013\n",
      "Training Results - Epoch 95 - y_reconc_loss: 903.9665 x_reconc_loss: -877.6572 t_reconc_loss: 702.5470 kld_loss: 1325.2506 total_loss: 2054.1068 learning rate: 0.0012\n",
      "Training Results - Epoch 96 - y_reconc_loss: 903.2876 x_reconc_loss: -885.3437 t_reconc_loss: 702.1392 kld_loss: 1329.6371 total_loss: 2049.7203 learning rate: 0.0012\n",
      "Training Results - Epoch 97 - y_reconc_loss: 903.7653 x_reconc_loss: -880.3815 t_reconc_loss: 701.5328 kld_loss: 1325.5227 total_loss: 2050.4392 learning rate: 0.0011\n",
      "Training Results - Epoch 98 - y_reconc_loss: 903.4942 x_reconc_loss: -884.1554 t_reconc_loss: 701.6610 kld_loss: 1323.7982 total_loss: 2044.7980 learning rate: 0.0011\n",
      "Training Results - Epoch 99 - y_reconc_loss: 903.3590 x_reconc_loss: -890.6623 t_reconc_loss: 701.2288 kld_loss: 1326.2203 total_loss: 2040.1458 learning rate: 0.0010\n",
      "Training Results - Epoch 100 - y_reconc_loss: 903.7146 x_reconc_loss: -884.7358 t_reconc_loss: 701.6260 kld_loss: 1324.8213 total_loss: 2045.4261 learning rate: 0.0010\n"
     ]
    },
    {
     "data": {
      "image/png": "[encoded data removed]",
      "text/plain": [
       "<Figure size 864x864 with 10 Axes>"
      ]
     },
     "metadata": {},
     "output_type": "display_data"
    }
   ],
   "source": [
    "#Running the model\n",
    "device = 'cpu'\n",
    "model = run_cevae(num_epochs=100, lr_start=0.05, lr_end=0.001,\n",
    "        train_loader=train_loader, test_loader=test_loader, input_dim=input_dim,\n",
    "        plot_curves=True, print_logs=True, device=device, z_dim=z_dim, q_z_xty_nn=True, p_y_zt_nn=True,\n",
    "        p_x_z_nn = True, p_t_z_nn = True, p_y_zt_std = False, p_x_z_std = False, p_t_z_std = False,\n",
    "        decoder_hidden_dim=12, encoder_hidden_dim=12)"
   ]
  },
  {
   "cell_type": "code",
   "execution_count": 544,
   "metadata": {
    "scrolled": true
   },
   "outputs": [
    {
     "name": "stdout",
     "output_type": "stream",
     "text": [
      "Parameter containing:\n",
      "tensor([[-0.0013, -0.0047, -0.0025, -0.0040,  0.6100,  0.0016, -0.0089,  0.0078,\n",
      "          0.0114, -0.0036,  1.0230]], requires_grad=True) tensor([1.4756], grad_fn=<ExpBackward>)\n",
      "Parameter containing:\n",
      "tensor([[-1.1892e-02,  4.7929e-04,  4.0731e-04, -1.0988e-03,  4.7284e-01,\n",
      "          7.9348e-04,  6.6120e-03, -5.0529e-03, -1.5312e-03,  2.0203e-03]],\n",
      "       requires_grad=True) tensor([0.9847], grad_fn=<ExpBackward>)\n",
      "Parameter containing:\n",
      "tensor([[ 2.1330e-04, -2.6378e-05,  3.0446e-03,  1.6483e-03,  9.9940e-01,\n",
      "          5.4206e-04, -7.6679e-04, -8.0179e-04,  9.0565e-04,  1.9185e-03]],\n",
      "       requires_grad=True)\n",
      "Parameter containing:\n",
      "tensor([[ 4.2510e-04, -2.1177e-03,  1.0186e-04,  1.2740e-03,  9.9841e-01,\n",
      "          8.3537e-04,  7.2328e-04, -4.0780e-04, -2.0638e-04,  2.2524e-03]],\n",
      "       requires_grad=True)\n"
     ]
    }
   ],
   "source": [
    "print(model.decoder.y_nn.weight, torch.exp(model.decoder.y_log_std))\n",
    "print(model.decoder.t_nn.weight, torch.exp(model.decoder.t_log_std))\n",
    "print(model.decoder.x_nns[0].weight)\n",
    "print(model.decoder.x_nns[1].weight)"
   ]
  },
  {
   "cell_type": "code",
   "execution_count": 545,
   "metadata": {
    "scrolled": true
   },
   "outputs": [
    {
     "data": {
      "text/plain": [
       "array([0.36885848, 0.23859884, 1.02443704])"
      ]
     },
     "execution_count": 545,
     "metadata": {},
     "output_type": "execute_result"
    }
   ],
   "source": [
    "from sklearn.linear_model import LinearRegression\n",
    "model_reg = LinearRegression(fit_intercept=False).fit(X=df.iloc[:,1:1+input_dim+1],y=df['y'])\n",
    "model_reg.coef_"
   ]
  },
  {
   "cell_type": "code",
   "execution_count": 546,
   "metadata": {
    "scrolled": false
   },
   "outputs": [
    {
     "name": "stdout",
     "output_type": "stream",
     "text": [
      "<built-in method size of Tensor object at 0x7fd8fb4afc18>\n"
     ]
    },
    {
     "data": {
      "text/html": [
       "<div>\n",
       "<style scoped>\n",
       "    .dataframe tbody tr th:only-of-type {\n",
       "        vertical-align: middle;\n",
       "    }\n",
       "\n",
       "    .dataframe tbody tr th {\n",
       "        vertical-align: top;\n",
       "    }\n",
       "\n",
       "    .dataframe thead th {\n",
       "        text-align: right;\n",
       "    }\n",
       "</style>\n",
       "<table border=\"1\" class=\"dataframe\">\n",
       "  <thead>\n",
       "    <tr style=\"text-align: right;\">\n",
       "      <th></th>\n",
       "      <th>x0</th>\n",
       "      <th>x1</th>\n",
       "      <th>t</th>\n",
       "      <th>y</th>\n",
       "    </tr>\n",
       "  </thead>\n",
       "  <tbody>\n",
       "    <tr>\n",
       "      <th>x0</th>\n",
       "      <td>1.010041</td>\n",
       "      <td>0.999444</td>\n",
       "      <td>0.477650</td>\n",
       "      <td>1.095308</td>\n",
       "    </tr>\n",
       "    <tr>\n",
       "      <th>x1</th>\n",
       "      <td>0.999444</td>\n",
       "      <td>1.008933</td>\n",
       "      <td>0.477362</td>\n",
       "      <td>1.094397</td>\n",
       "    </tr>\n",
       "    <tr>\n",
       "      <th>t</th>\n",
       "      <td>0.477650</td>\n",
       "      <td>0.477362</td>\n",
       "      <td>1.188393</td>\n",
       "      <td>1.506096</td>\n",
       "    </tr>\n",
       "    <tr>\n",
       "      <th>y</th>\n",
       "      <td>1.095308</td>\n",
       "      <td>1.094397</td>\n",
       "      <td>1.506096</td>\n",
       "      <td>4.400652</td>\n",
       "    </tr>\n",
       "  </tbody>\n",
       "</table>\n",
       "</div>"
      ],
      "text/plain": [
       "          x0        x1         t         y\n",
       "x0  1.010041  0.999444  0.477650  1.095308\n",
       "x1  0.999444  1.008933  0.477362  1.094397\n",
       "t   0.477650  0.477362  1.188393  1.506096\n",
       "y   1.095308  1.094397  1.506096  4.400652"
      ]
     },
     "execution_count": 546,
     "metadata": {},
     "output_type": "execute_result"
    }
   ],
   "source": [
    "z_sample, x_sample, t_sample, y_sample = model.decoder.sample(100000)\n",
    "y_sample.detach()\n",
    "df_sample = pd.DataFrame(torch.cat([z_sample, x_sample, t_sample, y_sample],1).detach().numpy(),\n",
    "                        columns=[\"z\"+str(i) for i in range(z_dim)] + [\"x\"+str(i) for i in range(input_dim)] + \\\n",
    "                        [\"t\", \"y\"])\n",
    "df_sample[['x0','x1','t','y']].cov()"
   ]
  },
  {
   "cell_type": "code",
   "execution_count": 547,
   "metadata": {
    "scrolled": false
   },
   "outputs": [
    {
     "name": "stdout",
     "output_type": "stream",
     "text": [
      "1.0227890286285415\n"
     ]
    },
    {
     "data": {
      "text/html": [
       "<div>\n",
       "<style scoped>\n",
       "    .dataframe tbody tr th:only-of-type {\n",
       "        vertical-align: middle;\n",
       "    }\n",
       "\n",
       "    .dataframe tbody tr th {\n",
       "        vertical-align: top;\n",
       "    }\n",
       "\n",
       "    .dataframe thead th {\n",
       "        text-align: right;\n",
       "    }\n",
       "</style>\n",
       "<table border=\"1\" class=\"dataframe\">\n",
       "  <thead>\n",
       "    <tr style=\"text-align: right;\">\n",
       "      <th></th>\n",
       "      <th>x0</th>\n",
       "      <th>x1</th>\n",
       "      <th>t</th>\n",
       "      <th>y</th>\n",
       "    </tr>\n",
       "  </thead>\n",
       "  <tbody>\n",
       "    <tr>\n",
       "      <th>x0</th>\n",
       "      <td>1.003827</td>\n",
       "      <td>0.994193</td>\n",
       "      <td>0.470000</td>\n",
       "      <td>1.089221</td>\n",
       "    </tr>\n",
       "    <tr>\n",
       "      <th>x1</th>\n",
       "      <td>0.994193</td>\n",
       "      <td>1.004086</td>\n",
       "      <td>0.470485</td>\n",
       "      <td>1.088445</td>\n",
       "    </tr>\n",
       "    <tr>\n",
       "      <th>t</th>\n",
       "      <td>0.470000</td>\n",
       "      <td>0.470485</td>\n",
       "      <td>1.192506</td>\n",
       "      <td>1.506751</td>\n",
       "    </tr>\n",
       "    <tr>\n",
       "      <th>y</th>\n",
       "      <td>1.089221</td>\n",
       "      <td>1.088445</td>\n",
       "      <td>1.506751</td>\n",
       "      <td>4.382092</td>\n",
       "    </tr>\n",
       "  </tbody>\n",
       "</table>\n",
       "</div>"
      ],
      "text/plain": [
       "          x0        x1         t         y\n",
       "x0  1.003827  0.994193  0.470000  1.089221\n",
       "x1  0.994193  1.004086  0.470485  1.088445\n",
       "t   0.470000  0.470485  1.192506  1.506751\n",
       "y   1.089221  1.088445  1.506751  4.382092"
      ]
     },
     "metadata": {},
     "output_type": "display_data"
    },
    {
     "data": {
      "text/html": [
       "<div>\n",
       "<style scoped>\n",
       "    .dataframe tbody tr th:only-of-type {\n",
       "        vertical-align: middle;\n",
       "    }\n",
       "\n",
       "    .dataframe tbody tr th {\n",
       "        vertical-align: top;\n",
       "    }\n",
       "\n",
       "    .dataframe thead th {\n",
       "        text-align: right;\n",
       "    }\n",
       "</style>\n",
       "<table border=\"1\" class=\"dataframe\">\n",
       "  <thead>\n",
       "    <tr style=\"text-align: right;\">\n",
       "      <th></th>\n",
       "      <th>z</th>\n",
       "      <th>x0</th>\n",
       "      <th>x1</th>\n",
       "      <th>t</th>\n",
       "      <th>y</th>\n",
       "    </tr>\n",
       "  </thead>\n",
       "  <tbody>\n",
       "    <tr>\n",
       "      <th>z</th>\n",
       "      <td>1.000000</td>\n",
       "      <td>0.995019</td>\n",
       "      <td>0.995184</td>\n",
       "      <td>0.433269</td>\n",
       "      <td>0.522056</td>\n",
       "    </tr>\n",
       "    <tr>\n",
       "      <th>x0</th>\n",
       "      <td>0.995019</td>\n",
       "      <td>1.000000</td>\n",
       "      <td>0.990275</td>\n",
       "      <td>0.429575</td>\n",
       "      <td>0.519333</td>\n",
       "    </tr>\n",
       "    <tr>\n",
       "      <th>x1</th>\n",
       "      <td>0.995184</td>\n",
       "      <td>0.990275</td>\n",
       "      <td>1.000000</td>\n",
       "      <td>0.429962</td>\n",
       "      <td>0.518896</td>\n",
       "    </tr>\n",
       "    <tr>\n",
       "      <th>t</th>\n",
       "      <td>0.433269</td>\n",
       "      <td>0.429575</td>\n",
       "      <td>0.429962</td>\n",
       "      <td>1.000000</td>\n",
       "      <td>0.659129</td>\n",
       "    </tr>\n",
       "    <tr>\n",
       "      <th>y</th>\n",
       "      <td>0.522056</td>\n",
       "      <td>0.519333</td>\n",
       "      <td>0.518896</td>\n",
       "      <td>0.659129</td>\n",
       "      <td>1.000000</td>\n",
       "    </tr>\n",
       "  </tbody>\n",
       "</table>\n",
       "</div>"
      ],
      "text/plain": [
       "           z        x0        x1         t         y\n",
       "z   1.000000  0.995019  0.995184  0.433269  0.522056\n",
       "x0  0.995019  1.000000  0.990275  0.429575  0.519333\n",
       "x1  0.995184  0.990275  1.000000  0.429962  0.518896\n",
       "t   0.433269  0.429575  0.429962  1.000000  0.659129\n",
       "y   0.522056  0.519333  0.518896  0.659129  1.000000"
      ]
     },
     "metadata": {},
     "output_type": "display_data"
    }
   ],
   "source": [
    "cov = df.cov()\n",
    "print((cov.loc['t','y'] * cov.loc['x0','x1'] - cov.loc['y','x1'] * cov.loc['x0','t']) \\\n",
    "    / (cov.loc['t','t'] * cov.loc['x0','x1'] - cov.loc['x0','t'] * cov.loc['t','x1']))\n",
    "display(cov.iloc[1:,1:])\n",
    "display(df.corr())"
   ]
  },
  {
   "cell_type": "code",
   "execution_count": 391,
   "metadata": {},
   "outputs": [
    {
     "name": "stdout",
     "output_type": "stream",
     "text": [
      "0.010459802150247945\n",
      "0.0060786641628241544\n",
      "0.5811452334860906\n"
     ]
    },
    {
     "data": {
      "text/html": [
       "<div>\n",
       "<style scoped>\n",
       "    .dataframe tbody tr th:only-of-type {\n",
       "        vertical-align: middle;\n",
       "    }\n",
       "\n",
       "    .dataframe tbody tr th {\n",
       "        vertical-align: top;\n",
       "    }\n",
       "\n",
       "    .dataframe thead th {\n",
       "        text-align: right;\n",
       "    }\n",
       "</style>\n",
       "<table border=\"1\" class=\"dataframe\">\n",
       "  <thead>\n",
       "    <tr style=\"text-align: right;\">\n",
       "      <th></th>\n",
       "      <th>x0</th>\n",
       "      <th>x1</th>\n",
       "      <th>t</th>\n",
       "      <th>y</th>\n",
       "    </tr>\n",
       "  </thead>\n",
       "  <tbody>\n",
       "    <tr>\n",
       "      <th>x0</th>\n",
       "      <td>1.951869</td>\n",
       "      <td>0.990493</td>\n",
       "      <td>0.012727</td>\n",
       "      <td>0.586642</td>\n",
       "    </tr>\n",
       "    <tr>\n",
       "      <th>x1</th>\n",
       "      <td>0.990493</td>\n",
       "      <td>1.955520</td>\n",
       "      <td>0.008626</td>\n",
       "      <td>0.628260</td>\n",
       "    </tr>\n",
       "    <tr>\n",
       "      <th>t</th>\n",
       "      <td>0.012727</td>\n",
       "      <td>0.008626</td>\n",
       "      <td>0.010671</td>\n",
       "      <td>0.014210</td>\n",
       "    </tr>\n",
       "    <tr>\n",
       "      <th>y</th>\n",
       "      <td>0.586642</td>\n",
       "      <td>0.628260</td>\n",
       "      <td>0.014210</td>\n",
       "      <td>2.772950</td>\n",
       "    </tr>\n",
       "  </tbody>\n",
       "</table>\n",
       "</div>"
      ],
      "text/plain": [
       "          x0        x1         t         y\n",
       "x0  1.951869  0.990493  0.012727  0.586642\n",
       "x1  0.990493  1.955520  0.008626  0.628260\n",
       "t   0.012727  0.008626  0.010671  0.014210\n",
       "y   0.586642  0.628260  0.014210  2.772950"
      ]
     },
     "metadata": {},
     "output_type": "display_data"
    },
    {
     "data": {
      "text/html": [
       "<div>\n",
       "<style scoped>\n",
       "    .dataframe tbody tr th:only-of-type {\n",
       "        vertical-align: middle;\n",
       "    }\n",
       "\n",
       "    .dataframe tbody tr th {\n",
       "        vertical-align: top;\n",
       "    }\n",
       "\n",
       "    .dataframe thead th {\n",
       "        text-align: right;\n",
       "    }\n",
       "</style>\n",
       "<table border=\"1\" class=\"dataframe\">\n",
       "  <thead>\n",
       "    <tr style=\"text-align: right;\">\n",
       "      <th></th>\n",
       "      <th>z</th>\n",
       "      <th>x0</th>\n",
       "      <th>x1</th>\n",
       "      <th>t</th>\n",
       "      <th>y</th>\n",
       "    </tr>\n",
       "  </thead>\n",
       "  <tbody>\n",
       "    <tr>\n",
       "      <th>z</th>\n",
       "      <td>1.000000</td>\n",
       "      <td>0.697549</td>\n",
       "      <td>0.704466</td>\n",
       "      <td>0.136886</td>\n",
       "      <td>0.377342</td>\n",
       "    </tr>\n",
       "    <tr>\n",
       "      <th>x0</th>\n",
       "      <td>0.697549</td>\n",
       "      <td>1.000000</td>\n",
       "      <td>0.506985</td>\n",
       "      <td>0.088187</td>\n",
       "      <td>0.252160</td>\n",
       "    </tr>\n",
       "    <tr>\n",
       "      <th>x1</th>\n",
       "      <td>0.704466</td>\n",
       "      <td>0.506985</td>\n",
       "      <td>1.000000</td>\n",
       "      <td>0.059711</td>\n",
       "      <td>0.269797</td>\n",
       "    </tr>\n",
       "    <tr>\n",
       "      <th>t</th>\n",
       "      <td>0.136886</td>\n",
       "      <td>0.088187</td>\n",
       "      <td>0.059711</td>\n",
       "      <td>1.000000</td>\n",
       "      <td>0.082606</td>\n",
       "    </tr>\n",
       "    <tr>\n",
       "      <th>y</th>\n",
       "      <td>0.377342</td>\n",
       "      <td>0.252160</td>\n",
       "      <td>0.269797</td>\n",
       "      <td>0.082606</td>\n",
       "      <td>1.000000</td>\n",
       "    </tr>\n",
       "  </tbody>\n",
       "</table>\n",
       "</div>"
      ],
      "text/plain": [
       "           z        x0        x1         t         y\n",
       "z   1.000000  0.697549  0.704466  0.136886  0.377342\n",
       "x0  0.697549  1.000000  0.506985  0.088187  0.252160\n",
       "x1  0.704466  0.506985  1.000000  0.059711  0.269797\n",
       "t   0.136886  0.088187  0.059711  1.000000  0.082606\n",
       "y   0.377342  0.252160  0.269797  0.082606  1.000000"
      ]
     },
     "metadata": {},
     "output_type": "display_data"
    }
   ],
   "source": [
    "df1 = linear_data_df(2000, c_x, c_t=0.01, c_yz=c_yz, c_yt=c_yt, s_x=s_x, s_t=0.1, s_y=s_y)\n",
    "cov = df1.cov()\n",
    "print(cov.loc['t','t'] * cov.loc['x0','x1'] - cov.loc['x0','t'] * cov.loc['t','x1'])\n",
    "print(cov.loc['t','y'] * cov.loc['x0','x1'] - cov.loc['y','x1'] * cov.loc['x0','t'])\n",
    "print((cov.loc['t','y'] * cov.loc['x0','x1'] - cov.loc['y','x1'] * cov.loc['x0','t']) \\\n",
    "    / (cov.loc['t','t'] * cov.loc['x0','x1'] - cov.loc['x0','t'] * cov.loc['t','x1']))\n",
    "display(cov.iloc[1:,1:])\n",
    "display(df1.corr())"
   ]
  },
  {
   "cell_type": "markdown",
   "metadata": {},
   "source": [
    "# Experiment with zdim=10, lots of data and linear model"
   ]
  },
  {
   "cell_type": "code",
   "execution_count": 701,
   "metadata": {},
   "outputs": [],
   "source": [
    "\"\"\"Let's define the model here\"\"\"\n",
    "c_x = np.array([1,2])\n",
    "s_x = np.array([0.5,0.7])\n",
    "c_t = np.array([0.5])\n",
    "s_t = np.array([1])\n",
    "c_yz = np.array([0.6])\n",
    "c_yt = np.array([1])\n",
    "s_y = np.array([1])"
   ]
  },
  {
   "cell_type": "code",
   "execution_count": 702,
   "metadata": {},
   "outputs": [],
   "source": [
    "\"\"\"define all kinds of other things\"\"\"\n",
    "datasizes = [5000]\n",
    "datasize_times = 20\n",
    "num_epochs = [200]\n",
    "lr_start = 0.05\n",
    "lr_end = 0.001\n",
    "input_dim = 2\n",
    "z_dim = 10\n",
    "folder = \"linear_data_zdim10_linear\"\n",
    "name = \"linear_data_zdim10_linear\"\n",
    "BATCH_SIZE = 500\n",
    "binary_t_y = False\n",
    "p_y_zt_nn = False\n",
    "q_z_xty_nn = False\n",
    "dataparameters = [c_x, c_t, c_yz, c_yt, s_x, s_t, s_y]#Be careful that these are the correct way around\n",
    "track_function = lambda model: model.decoder.y_nn.weight\n",
    "true_value = c_yt\n",
    "device = \"cpu\""
   ]
  },
  {
   "cell_type": "code",
   "execution_count": 556,
   "metadata": {
    "scrolled": true
   },
   "outputs": [
    {
     "name": "stdout",
     "output_type": "stream",
     "text": [
      "Creation of the directory data/linear_data_zdim10_linear/ failed. Trying to empty the same folder.\n",
      "Training data size 5000, run 1\n",
      "Estimated causal effect: Parameter containing:\n",
      "tensor([[ 0.0101,  0.0048, -0.0593,  0.6845,  0.0170,  0.0076, -0.0015,  0.0323,\n",
      "         -0.0039, -0.5071,  1.2320]], requires_grad=True) true value: [1]\n",
      "Training data size 5000, run 2\n",
      "Estimated causal effect: Parameter containing:\n",
      "tensor([[-0.0660, -0.6094, -0.0985, -0.0343, -0.0599,  0.0121,  0.0013,  0.0252,\n",
      "          0.0781, -0.0228,  0.9777]], requires_grad=True) true value: [1]\n",
      "Training data size 5000, run 3\n",
      "Estimated causal effect: Parameter containing:\n",
      "tensor([[ 0.0166,  0.0210,  0.0165,  0.0051,  0.0180, -0.2065,  0.0200, -0.0064,\n",
      "         -0.6338, -0.0427,  0.9841]], requires_grad=True) true value: [1]\n",
      "Training data size 5000, run 4\n",
      "Estimated causal effect: Parameter containing:\n",
      "tensor([[-0.1334, -0.5704,  0.0411, -0.0321, -0.0297, -0.0179,  0.0334,  0.0061,\n",
      "         -0.0097,  0.0181,  1.0175]], requires_grad=True) true value: [1]\n",
      "Training data size 5000, run 5\n",
      "Estimated causal effect: Parameter containing:\n",
      "tensor([[-0.0261, -0.0572, -0.0035,  0.0073,  0.0314,  0.0264, -0.0168,  0.1078,\n",
      "          0.0790,  0.6276,  0.9645]], requires_grad=True) true value: [1]\n",
      "Training data size 5000, run 6\n",
      "Estimated causal effect: Parameter containing:\n",
      "tensor([[ 0.5717, -0.0632,  0.0136, -0.0034,  0.0110,  0.0837, -0.0502, -0.0283,\n",
      "          0.1171, -0.0471,  1.0073]], requires_grad=True) true value: [1]\n",
      "Training data size 5000, run 7\n",
      "Estimated causal effect: Parameter containing:\n",
      "tensor([[-0.6039,  0.0684, -0.0599, -0.0016,  0.0850,  0.0574,  0.0358, -0.0132,\n",
      "          0.0480, -0.0992,  1.0126]], requires_grad=True) true value: [1]\n",
      "Training data size 5000, run 8\n",
      "Estimated causal effect: Parameter containing:\n",
      "tensor([[-0.0600,  0.1554,  0.0469,  0.0039,  0.5816, -0.0084,  0.0662,  0.0025,\n",
      "          0.0405,  0.0425,  1.0330]], requires_grad=True) true value: [1]\n",
      "Training data size 5000, run 9\n",
      "Estimated causal effect: Parameter containing:\n",
      "tensor([[ 0.0436,  0.0329,  0.6258, -0.0276, -0.2303,  0.0133,  0.0126,  0.0016,\n",
      "          0.0165,  0.0255,  1.0181]], requires_grad=True) true value: [1]\n",
      "Training data size 5000, run 10\n",
      "Estimated causal effect: Parameter containing:\n",
      "tensor([[ 0.1009, -0.0120,  0.0276,  0.0024, -0.0748, -0.0141,  0.0226, -0.5898,\n",
      "          0.0378, -0.0366,  0.9930]], requires_grad=True) true value: [1]\n",
      "Training data size 5000, run 11\n",
      "Estimated causal effect: Parameter containing:\n",
      "tensor([[-0.0223,  0.0143,  0.0557, -0.0051, -0.5647, -0.0904, -0.0280,  0.0207,\n",
      "          0.0409,  0.1619,  1.0315]], requires_grad=True) true value: [1]\n",
      "Training data size 5000, run 12\n",
      "Estimated causal effect: Parameter containing:\n",
      "tensor([[-0.6013,  0.2813,  0.0013, -0.0134, -0.0145, -0.0205, -0.0260, -0.0069,\n",
      "         -0.0615,  0.0114,  0.9938]], requires_grad=True) true value: [1]\n",
      "Training data size 5000, run 13\n",
      "Estimated causal effect: Parameter containing:\n",
      "tensor([[ 0.0147,  0.0014,  0.5955, -0.0324, -0.0219,  0.0281,  0.0402, -0.0130,\n",
      "          0.0077, -0.2286,  1.0174]], requires_grad=True) true value: [1]\n",
      "Training data size 5000, run 14\n",
      "Estimated causal effect: Parameter containing:\n",
      "tensor([[-1.0419e-01,  2.2672e-02, -1.9597e-02, -1.8398e-02, -6.0384e-03,\n",
      "          5.2835e-03,  6.4659e-04, -2.5109e-02,  2.5456e-01, -6.1998e-01,\n",
      "          9.7576e-01]], requires_grad=True) true value: [1]\n",
      "Training data size 5000, run 15\n",
      "Estimated causal effect: Parameter containing:\n",
      "tensor([[ 2.8168e-03,  7.7368e-04,  1.0054e-01, -5.3288e-02,  4.9889e-03,\n",
      "         -7.8104e-02,  6.2766e-01, -4.7140e-02,  2.0211e-02, -6.0014e-03,\n",
      "          9.7126e-01]], requires_grad=True) true value: [1]\n",
      "Training data size 5000, run 16\n",
      "Estimated causal effect: Parameter containing:\n",
      "tensor([[ 0.6128, -0.0285,  0.0718,  0.0249,  0.0115,  0.0769,  0.0253, -0.0313,\n",
      "         -0.1419, -0.0164,  0.9819]], requires_grad=True) true value: [1]\n",
      "Training data size 5000, run 17\n",
      "Estimated causal effect: Parameter containing:\n",
      "tensor([[-0.5784,  0.0123, -0.0196, -0.0565,  0.0380, -0.0457, -0.0368,  0.0671,\n",
      "         -0.0172, -1.0647,  2.1229]], requires_grad=True) true value: [1]\n",
      "Training data size 5000, run 18\n",
      "Estimated causal effect: Parameter containing:\n",
      "tensor([[-0.0109,  0.0144,  0.0086, -0.0313, -0.5820,  0.0131, -0.0124, -0.0136,\n",
      "         -0.3686,  0.0073,  0.9938]], requires_grad=True) true value: [1]\n",
      "Training data size 5000, run 19\n",
      "Estimated causal effect: Parameter containing:\n",
      "tensor([[-0.0268, -0.0239, -0.0045,  0.0192,  0.6119,  0.0134, -0.0377, -0.1938,\n",
      "         -0.0234, -0.0022,  0.9973]], requires_grad=True) true value: [1]\n",
      "Training data size 5000, run 20\n",
      "Estimated causal effect: Parameter containing:\n",
      "tensor([[ 0.0492, -0.0227, -0.6292,  0.0192, -0.0418,  0.0710, -0.0453, -0.0164,\n",
      "          0.0746,  0.0012,  0.9794]], requires_grad=True) true value: [1]\n"
     ]
    }
   ],
   "source": [
    "\"\"\"Run the training of the model. Skip this cell if you just want to reload the data.\"\"\"\n",
    "dfs, models = run_model_for_data_sets(datasizes,datasize_times,num_epochs,lr_start,lr_end,input_dim,z_dim,\n",
    "                       folder,name,BATCH_SIZE,binary_t_y,p_y_zt_nn,q_z_xty_nn,\n",
    "                        linear_data_df, dataparameters, track_function, true_value, device)"
   ]
  },
  {
   "cell_type": "code",
   "execution_count": 703,
   "metadata": {},
   "outputs": [],
   "source": [
    "dfs, models = load_dfs_models(folder, name,\n",
    "                   input_dim=input_dim, z_dim=z_dim, device=device, binary_t_y=binary_t_y,\n",
    "                  p_y_zt_nn=p_y_zt_nn, q_z_xty_nn=q_z_xty_nn)"
   ]
  },
  {
   "cell_type": "code",
   "execution_count": 705,
   "metadata": {},
   "outputs": [
    {
     "name": "stdout",
     "output_type": "stream",
     "text": [
      "0 calculated\n",
      "1 calculated\n",
      "2 calculated\n",
      "3 calculated\n",
      "4 calculated\n",
      "5 calculated\n",
      "6 calculated\n",
      "7 calculated\n",
      "8 calculated\n",
      "9 calculated\n",
      "10 calculated\n",
      "11 calculated\n",
      "12 calculated\n",
      "13 calculated\n",
      "14 calculated\n",
      "15 calculated\n",
      "16 calculated\n",
      "17 calculated\n",
      "18 calculated\n",
      "19 calculated\n"
     ]
    }
   ],
   "source": [
    "datasize = datasizes[0]\n",
    "AIDs = []\n",
    "for i in range(datasize_times):\n",
    "    model = models[datasize][i]\n",
    "    AID, py_dot_model, py_dot_true, t_sample= calculate_AID(models[5000][i], c_yt, c_yz, s_y, c_t, s_t,500,500)\n",
    "    AIDs.append(AID)\n",
    "    print(\"{} calculated\".format(i))"
   ]
  },
  {
   "cell_type": "code",
   "execution_count": 706,
   "metadata": {
    "scrolled": true
   },
   "outputs": [
    {
     "data": {
      "text/plain": [
       "[<matplotlib.lines.Line2D at 0x7fd8fa68f400>]"
      ]
     },
     "execution_count": 706,
     "metadata": {},
     "output_type": "execute_result"
    },
    {
     "data": {
      "image/png": "[encoded data removed]",
      "text/plain": [
       "<Figure size 432x288 with 1 Axes>"
      ]
     },
     "metadata": {},
     "output_type": "display_data"
    }
   ],
   "source": [
    "plt.figure()\n",
    "plt.plot([5000]*datasize_times,AIDs,'o')"
   ]
  },
  {
   "cell_type": "code",
   "execution_count": null,
   "metadata": {},
   "outputs": [],
   "source": []
  },
  {
   "cell_type": "markdown",
   "metadata": {},
   "source": [
    "# Experiment with zdim=10, lots of data and neural network model"
   ]
  },
  {
   "cell_type": "code",
   "execution_count": 707,
   "metadata": {},
   "outputs": [],
   "source": [
    "\"\"\"Let's define the model here\"\"\"\n",
    "c_x = np.array([1,2])\n",
    "s_x = np.array([0.5,0.7])\n",
    "c_t = np.array([0.5])\n",
    "s_t = np.array([1])\n",
    "c_yz = np.array([0.6])\n",
    "c_yt = np.array([1])\n",
    "s_y = np.array([1])"
   ]
  },
  {
   "cell_type": "code",
   "execution_count": 708,
   "metadata": {},
   "outputs": [],
   "source": [
    "\"\"\"define all kinds of other things\"\"\"\n",
    "datasizes = [5000]\n",
    "datasize_times = 20\n",
    "num_epochs = [200]\n",
    "lr_start = 0.05\n",
    "lr_end = 0.001\n",
    "input_dim = 2\n",
    "z_dim = 10\n",
    "folder = \"linear_data_zdim10_nn\"\n",
    "name = \"linear_data_zdim10_nn\"\n",
    "BATCH_SIZE = 500\n",
    "binary_t_y = False\n",
    "p_y_zt_nn = True\n",
    "q_z_xty_nn = True\n",
    "p_x_z_nn = True\n",
    "p_t_z_nn = True\n",
    "p_y_zt_std = True\n",
    "p_x_z_std = True\n",
    "p_t_z_std = True\n",
    "decoder_hidden_dim=12\n",
    "encoder_hidden_dim=12\n",
    "dataparameters = [c_x, c_t, c_yz, c_yt, s_x, s_t, s_y]#Be careful that these are the correct way around\n",
    "track_function = lambda model: model.decoder.y_nn.weight\n",
    "true_value = c_yt\n",
    "device = \"cpu\""
   ]
  },
  {
   "cell_type": "code",
   "execution_count": 560,
   "metadata": {
    "scrolled": true
   },
   "outputs": [
    {
     "name": "stdout",
     "output_type": "stream",
     "text": [
      "Training data size 5000, run 1\n",
      "Estimated causal effect: Parameter containing:\n",
      "tensor([[-0.2006, -0.2824, -0.0520, -0.0519,  0.0909, -0.0128,  0.0715,  0.1081,\n",
      "          0.1096, -0.2661, -0.1911]], requires_grad=True) true value: [1]\n",
      "Training data size 5000, run 2\n",
      "Estimated causal effect: Parameter containing:\n",
      "tensor([[ 0.1894, -0.1357, -0.0312, -0.2773,  0.1734,  0.1544,  0.1342, -0.2969,\n",
      "          0.0491, -0.2865,  0.2619]], requires_grad=True) true value: [1]\n",
      "Training data size 5000, run 3\n",
      "Estimated causal effect: Parameter containing:\n",
      "tensor([[-0.1198, -0.0842, -0.0584,  0.1936, -0.2928, -0.0689,  0.1405,  0.2908,\n",
      "          0.1861,  0.2182, -0.2319]], requires_grad=True) true value: [1]\n",
      "Training data size 5000, run 4\n",
      "Estimated causal effect: Parameter containing:\n",
      "tensor([[-0.0726, -0.2024, -0.0325,  0.1589, -0.2753,  0.0310,  0.1538,  0.0719,\n",
      "         -0.2157, -0.2771,  0.0134]], requires_grad=True) true value: [1]\n",
      "Training data size 5000, run 5\n",
      "Estimated causal effect: Parameter containing:\n",
      "tensor([[ 0.2516, -0.1861, -0.0574, -0.2230, -0.1890, -0.2559, -0.1158,  0.1277,\n",
      "          0.0289, -0.1321, -0.1657]], requires_grad=True) true value: [1]\n",
      "Training data size 5000, run 6\n",
      "Estimated causal effect: Parameter containing:\n",
      "tensor([[-0.2868, -0.1116,  0.0185,  0.1252,  0.1897,  0.1904,  0.1819,  0.0565,\n",
      "         -0.2479, -0.1083, -0.2839]], requires_grad=True) true value: [1]\n",
      "Training data size 5000, run 7\n",
      "Estimated causal effect: Parameter containing:\n",
      "tensor([[ 0.1389, -0.1733, -0.2857,  0.1735,  0.1052,  0.1798,  0.0934, -0.1573,\n",
      "          0.0993, -0.2181,  0.1509]], requires_grad=True) true value: [1]\n",
      "Training data size 5000, run 8\n",
      "Estimated causal effect: Parameter containing:\n",
      "tensor([[-0.2773, -0.0607,  0.0489, -0.1115,  0.2831,  0.0914, -0.0801, -0.2772,\n",
      "         -0.0406,  0.0296,  0.2569]], requires_grad=True) true value: [1]\n",
      "Training data size 5000, run 9\n",
      "Estimated causal effect: Parameter containing:\n",
      "tensor([[ 0.2804, -0.0271,  0.2884, -0.2123,  0.0533, -0.0904, -0.0882, -0.2822,\n",
      "          0.2427, -0.0020, -0.1293]], requires_grad=True) true value: [1]\n",
      "Training data size 5000, run 10\n",
      "Estimated causal effect: Parameter containing:\n",
      "tensor([[-0.1671,  0.2892, -0.0200, -0.2783, -0.1392,  0.2290,  0.2266, -0.2410,\n",
      "          0.0597,  0.2668,  0.1839]], requires_grad=True) true value: [1]\n",
      "Training data size 5000, run 11\n",
      "Estimated causal effect: Parameter containing:\n",
      "tensor([[-0.1584,  0.2616, -0.2824,  0.0789,  0.2193,  0.0352,  0.1655,  0.1552,\n",
      "          0.2861,  0.1941, -0.0803]], requires_grad=True) true value: [1]\n",
      "Training data size 5000, run 12\n",
      "Estimated causal effect: Parameter containing:\n",
      "tensor([[ 0.1425,  0.1735,  0.1299, -0.2962, -0.2912,  0.0154,  0.2080,  0.1082,\n",
      "          0.2944,  0.2411,  0.1265]], requires_grad=True) true value: [1]\n",
      "Training data size 5000, run 13\n",
      "Estimated causal effect: Parameter containing:\n",
      "tensor([[-0.0755,  0.2951, -0.1641, -0.0414,  0.0655, -0.2191,  0.0786, -0.2653,\n",
      "         -0.2016, -0.0867, -0.0348]], requires_grad=True) true value: [1]\n",
      "Training data size 5000, run 14\n",
      "Estimated causal effect: Parameter containing:\n",
      "tensor([[ 0.1544, -0.2051, -0.1947, -0.2356,  0.1200, -0.0202,  0.0363, -0.0668,\n",
      "          0.1450,  0.0384, -0.0600]], requires_grad=True) true value: [1]\n",
      "Training data size 5000, run 15\n",
      "Estimated causal effect: Parameter containing:\n",
      "tensor([[-0.2587, -0.2142,  0.2580,  0.1790, -0.1040, -0.1672,  0.1176,  0.1434,\n",
      "         -0.1297, -0.0420,  0.2443]], requires_grad=True) true value: [1]\n",
      "Training data size 5000, run 16\n",
      "Estimated causal effect: Parameter containing:\n",
      "tensor([[ 0.2577, -0.2503, -0.0044, -0.2421,  0.2228,  0.2882, -0.0084, -0.0870,\n",
      "          0.2973, -0.1147,  0.2738]], requires_grad=True) true value: [1]\n",
      "Training data size 5000, run 17\n",
      "Estimated causal effect: Parameter containing:\n",
      "tensor([[ 0.0604, -0.2206, -0.1673, -0.1079,  0.1567,  0.0531, -0.1187, -0.2450,\n",
      "         -0.1861, -0.0665,  0.0834]], requires_grad=True) true value: [1]\n",
      "Training data size 5000, run 18\n",
      "Estimated causal effect: Parameter containing:\n",
      "tensor([[ 0.1408, -0.0788, -0.0094, -0.0470,  0.2890,  0.2861, -0.1808, -0.1027,\n",
      "         -0.0433, -0.2002,  0.1188]], requires_grad=True) true value: [1]\n",
      "Training data size 5000, run 19\n",
      "Estimated causal effect: Parameter containing:\n",
      "tensor([[ 0.1139,  0.1229, -0.0076,  0.1108, -0.1082, -0.1407, -0.1574,  0.2074,\n",
      "         -0.1460,  0.0315, -0.2702]], requires_grad=True) true value: [1]\n",
      "Training data size 5000, run 20\n",
      "Estimated causal effect: Parameter containing:\n",
      "tensor([[-0.0668, -0.0210,  0.0607,  0.2826, -0.0242,  0.2888, -0.2085, -0.2010,\n",
      "         -0.2556,  0.0331, -0.0567]], requires_grad=True) true value: [1]\n"
     ]
    }
   ],
   "source": [
    "\"\"\"Run the training of the model. Skip this cell if you just want to reload the data.\"\"\"\n",
    "dfs, models = run_model_for_data_sets(datasizes,datasize_times,num_epochs,lr_start,lr_end,input_dim,z_dim,\n",
    "                       folder,name,BATCH_SIZE,binary_t_y,p_y_zt_nn,q_z_xty_nn,\n",
    "                        linear_data_df, dataparameters, track_function, true_value, device,\n",
    "                        p_x_z_nn = p_x_z_nn, p_t_z_nn = p_t_z_nn, p_y_zt_std = p_y_zt_std, p_x_z_std = p_x_z_std,\n",
    "                        p_t_z_std = p_t_z_std, decoder_hidden_dim=decoder_hidden_dim, encoder_hidden_dim=encoder_hidden_dim)"
   ]
  },
  {
   "cell_type": "code",
   "execution_count": 709,
   "metadata": {},
   "outputs": [],
   "source": [
    "dfs, models = load_dfs_models(folder, name,\n",
    "                input_dim=input_dim, z_dim=z_dim, device=device, binary_t_y=binary_t_y,\n",
    "                p_y_zt_nn=p_y_zt_nn, q_z_xty_nn=q_z_xty_nn, p_x_z_nn = p_x_z_nn, p_t_z_nn = p_t_z_nn, \n",
    "                p_y_zt_std = p_y_zt_std, p_x_z_std = p_x_z_std, p_t_z_std = p_t_z_std,\n",
    "                encoder_hidden_dim=encoder_hidden_dim,decoder_hidden_dim=decoder_hidden_dim)"
   ]
  },
  {
   "cell_type": "code",
   "execution_count": 612,
   "metadata": {},
   "outputs": [],
   "source": [
    "def calculate_AID(model, c_yt, c_yz, s_y, c_t, s_t, nsample_t, nsample_z):\n",
    "    t_sample = np.random.randn(nsample_t)*np.sqrt(c_t**2 + s_t**2)\n",
    "    \n",
    "    ngrid = 100\n",
    "    lim = 6\n",
    "    y_len = 2*lim/ngrid\n",
    "    y_range = np.linspace(-lim,lim,ngrid)\n",
    "    py_dot_model = np.zeros((nsample_t, ngrid))\n",
    "    py_dot_true = scipy.stats.norm.pdf(y_range[None,:], loc = t_sample[:,None] * c_yt, scale = np.sqrt(c_yz**2+s_y**2))\n",
    "    \n",
    "    #Sample from p(z) to get p(y|do(t))_model\n",
    "    for i in range(len(t_sample)):\n",
    "        t = t_sample[i]\n",
    "        z_sample = torch.Tensor(np.random.randn(nsample_z, model.z_dim))\n",
    "        x_pred, t_pred, y_pred, x_std, t_std, y_std = model.decoder(z_sample, torch.Tensor([[t]*nsample_z]).T)\n",
    "        py_dot_model[i,:] = scipy.stats.norm.pdf(y_range[None,:], loc=y_pred.detach().numpy(),\n",
    "                                                  scale=y_std.detach().numpy()).mean(0)\n",
    "    \n",
    "    causal_dist = np.abs(py_dot_model - py_dot_true).sum(axis=1)*y_len\n",
    "    AID = causal_dist.mean()\n",
    "    \n",
    "    return AID, py_dot_model, py_dot_true, t_sample"
   ]
  },
  {
   "cell_type": "code",
   "execution_count": 693,
   "metadata": {},
   "outputs": [
    {
     "name": "stdout",
     "output_type": "stream",
     "text": [
      "0.026279357366556177\n"
     ]
    }
   ],
   "source": [
    "AID, py_dot_model, py_dot_true, t_sample= calculate_AID(models[5000][3], c_yt, c_yz, s_y, c_t, s_t, 500,500)\n",
    "print(AID)"
   ]
  },
  {
   "cell_type": "code",
   "execution_count": 695,
   "metadata": {
    "scrolled": true
   },
   "outputs": [
    {
     "data": {
      "text/plain": [
       "[<matplotlib.lines.Line2D at 0x7fd8f9bde390>]"
      ]
     },
     "execution_count": 695,
     "metadata": {},
     "output_type": "execute_result"
    },
    {
     "data": {
      "image/png": "[encoded data removed]",
      "text/plain": [
       "<Figure size 432x288 with 1 Axes>"
      ]
     },
     "metadata": {},
     "output_type": "display_data"
    }
   ],
   "source": [
    "import matplotlib.pyplot as plt\n",
    "plt.plot(py_dot_model[2])\n",
    "plt.plot(py_dot_true[2])"
   ]
  },
  {
   "cell_type": "code",
   "execution_count": 710,
   "metadata": {},
   "outputs": [
    {
     "name": "stdout",
     "output_type": "stream",
     "text": [
      "0 calculated\n",
      "1 calculated\n",
      "2 calculated\n",
      "3 calculated\n",
      "4 calculated\n",
      "5 calculated\n",
      "6 calculated\n",
      "7 calculated\n",
      "8 calculated\n",
      "9 calculated\n",
      "10 calculated\n",
      "11 calculated\n",
      "12 calculated\n",
      "13 calculated\n",
      "14 calculated\n",
      "15 calculated\n",
      "16 calculated\n",
      "17 calculated\n",
      "18 calculated\n",
      "19 calculated\n"
     ]
    }
   ],
   "source": [
    "datasize = datasizes[0]\n",
    "AIDs = []\n",
    "for i in range(datasize_times):\n",
    "    model = models[datasize][i]\n",
    "    AID, py_dot_model, py_dot_true, t_sample= calculate_AID(models[5000][i], c_yt, c_yz, s_y, c_t, s_t, 500,500)\n",
    "    AIDs.append(AID)\n",
    "    print(\"{} calculated\".format(i))"
   ]
  },
  {
   "cell_type": "code",
   "execution_count": 711,
   "metadata": {
    "scrolled": true
   },
   "outputs": [
    {
     "data": {
      "text/plain": [
       "[<matplotlib.lines.Line2D at 0x7fd8f8f63438>]"
      ]
     },
     "execution_count": 711,
     "metadata": {},
     "output_type": "execute_result"
    },
    {
     "data": {
      "image/png": "[encoded data removed]",
      "text/plain": [
       "<Figure size 432x288 with 1 Axes>"
      ]
     },
     "metadata": {},
     "output_type": "display_data"
    }
   ],
   "source": [
    "plt.figure()\n",
    "plt.plot([5000]*datasize_times,AIDs,'o')"
   ]
  }
 ],
 "metadata": {
  "anaconda-cloud": {},
  "kernelspec": {
   "display_name": "Python 3",
   "language": "python",
   "name": "python3"
  },
  "language_info": {
   "codemirror_mode": {
    "name": "ipython",
    "version": 3
   },
   "file_extension": ".py",
   "mimetype": "text/x-python",
   "name": "python",
   "nbconvert_exporter": "python",
   "pygments_lexer": "ipython3",
   "version": "3.7.3"
  }
 },
 "nbformat": 4,
 "nbformat_minor": 4
}
