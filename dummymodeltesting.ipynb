{
 "cells": [
  {
   "cell_type": "code",
   "execution_count": 1,
   "metadata": {},
   "outputs": [],
   "source": [
    "from binarytoydata import *\n",
    "from dummymodels import *\n",
    "%load_ext autoreload\n",
    "import pandas as pd\n",
    "import torch.distributions as dist\n",
    "import torch\n",
    "import pandas as pd\n",
    "import numpy as np\n",
    "import sklearn\n",
    "import itertools\n",
    "from binary_data_tools import *"
   ]
  },
  {
   "cell_type": "markdown",
   "metadata": {},
   "source": [
    "# Setup\n",
    "- z, x0, x1, t and y all binary\n",
    "- two x so that the data is identifiable by Pearl's method\n",
    "- Expectation value in ELBO calculated exactly since z has just one of two values\n",
    "- VAE prior on z is P(z) = 0.5\n",
    "- z->x0, z->x1, z->t, z->y|t=0 and z->y|t=1 networks are just logistic regression since it should be enough\n",
    "- (x0,x1,t,y)->z is 8 different logistic regressions where the regression is is done on y for all different (x0,x1,t) combinations\n",
    "    - So the actual expression is something like $q_{000}(z|y) (1-x_0)(1-x_1)(1-t) + q_{001}(z|y) (1-x_0)(1-x_1)t ...$ \n",
    "    - Should be enough in principle to represent p(z|x0,x1,t,y)\n",
    "- Questions:\n",
    "    - Do we get the right ATE?\n",
    "    - Do we get the right P(z,x,t,y)?\n",
    "    - Does the entire method break if the data generating process doesn't match with prior P(z)?"
   ]
  },
  {
   "cell_type": "markdown",
   "metadata": {},
   "source": [
    "# Experiment 1, P_z = 0.5"
   ]
  },
  {
   "cell_type": "code",
   "execution_count": 2,
   "metadata": {},
   "outputs": [],
   "source": [
    "num_samples = 10000\n",
    "z_expectation = torch.Tensor([0.5])\n",
    "x_expectations = torch.Tensor([[0.1,0.9],\n",
    "                              [0.9,0.1]])\n",
    "x_dim = len(x_expectations)\n",
    "t_expectations = torch.Tensor([[0.3,0.7]])\n",
    "y_expectations = torch.Tensor([[0.85,0.9,0.1,0.95]])\n",
    "#df = binary_data_df(num_samples, z_expectation, x_expectations, t_expectations, y_expectations)"
   ]
  },
  {
   "cell_type": "code",
   "execution_count": 3,
   "metadata": {},
   "outputs": [],
   "source": [
    "\"\"\"Get the convenience function and define the corresponding dataframe\"\"\"\n",
    "calculate_prob = generate_calculate_prob(z_expectation, x_expectations, t_expectations, y_expectations)\n",
    "prob_df = pd.DataFrame([c + (calculate_prob(c[0], c[1:3], c[3], c[4]),) for c in itertools.product([0,1],repeat=5)], \n",
    "                       columns=['z'] + ['x{}'.format(i) for i in range(x_dim)] + ['t', 'yf', 'P'])"
   ]
  },
  {
   "cell_type": "code",
   "execution_count": 4,
   "metadata": {},
   "outputs": [
    {
     "name": "stdout",
     "output_type": "stream",
     "text": [
      "True and proxy based ATEs: 0.450, 0.418\n"
     ]
    }
   ],
   "source": [
    "\"\"\"Calculating the true ATE and the ATE we get by adjusting just for the proxies\"\"\"\n",
    "print(\"True and proxy based ATEs: {:.3f}, {:.3f}\".format(calculate_true_ate(prob_df), \n",
    "    calculate_proxy_ate(prob_df)))"
   ]
  },
  {
   "cell_type": "code",
   "execution_count": 6,
   "metadata": {},
   "outputs": [],
   "source": [
    "\"\"\"Functions that do P(y=1|X,t) and P(y=1|t) predictions perfectly\"\"\"\n",
    "%autoreload 2\n",
    "p_y_xt_f = generate_p_y_xt(prob_df)\n",
    "p_t_x_f = generate_p_t_x(prob_df)\n",
    "#q_y_xt_f = generate_q_y_xt(df)\n",
    "#q_t_x_f = generate_q_t_x(df)"
   ]
  },
  {
   "cell_type": "code",
   "execution_count": 9,
   "metadata": {},
   "outputs": [],
   "source": [
    "\"\"\"Run this before the first time running the next cell\"\"\"\n",
    "datasizes = [1000,2000,6000,10000,20000]\n",
    "i = 0\n",
    "j = 0\n",
    "dfs = [[0 for j in range(10)] for i in range(len(datasizes))]\n",
    "models = [[0 for j in range(10)] for i in range(len(datasizes))]"
   ]
  },
  {
   "cell_type": "code",
   "execution_count": 10,
   "metadata": {
    "scrolled": true
   },
   "outputs": [
    {
     "name": "stdout",
     "output_type": "stream",
     "text": [
      "Training data size 1000, run 1\n",
      "Estimated ATE: 0.45423194766044617\n",
      "Training data size 1000, run 2\n",
      "Estimated ATE: 0.4356464445590973\n",
      "Training data size 1000, run 3\n",
      "Estimated ATE: 0.4364688992500305\n",
      "Training data size 1000, run 4\n",
      "Estimated ATE: 0.455522358417511\n",
      "Training data size 1000, run 5\n",
      "Estimated ATE: 0.415048211812973\n",
      "Training data size 1000, run 6\n",
      "Estimated ATE: 0.4189612865447998\n",
      "Training data size 1000, run 7\n",
      "Estimated ATE: 0.42437586188316345\n",
      "Training data size 1000, run 8\n",
      "Estimated ATE: 0.44249293208122253\n",
      "Training data size 1000, run 9\n",
      "Estimated ATE: 0.43653813004493713\n",
      "Training data size 1000, run 10\n",
      "Estimated ATE: 0.4339786171913147\n",
      "Training data size 2000, run 1\n",
      "Estimated ATE: 0.4673721492290497\n",
      "Training data size 2000, run 2\n",
      "Estimated ATE: 0.44041529297828674\n",
      "Training data size 2000, run 3\n",
      "Estimated ATE: 0.4734886586666107\n",
      "Training data size 2000, run 4\n",
      "Estimated ATE: 0.42266684770584106\n",
      "Training data size 2000, run 5\n",
      "Estimated ATE: 0.4323132634162903\n",
      "Training data size 2000, run 6\n",
      "Estimated ATE: 0.44773203134536743\n",
      "Training data size 2000, run 7\n",
      "Estimated ATE: 0.4603938162326813\n",
      "Training data size 2000, run 8\n",
      "Estimated ATE: 0.4531451165676117\n",
      "Training data size 2000, run 9\n",
      "Estimated ATE: 0.41902267932891846\n",
      "Training data size 2000, run 10\n",
      "Estimated ATE: 0.4730672836303711\n",
      "Training data size 6000, run 1\n",
      "Estimated ATE: 0.4365933835506439\n",
      "Training data size 6000, run 2\n",
      "Estimated ATE: 0.43758824467658997\n",
      "Training data size 6000, run 3\n",
      "Estimated ATE: 0.44747820496559143\n",
      "Training data size 6000, run 4\n",
      "Estimated ATE: 0.45539867877960205\n",
      "Training data size 6000, run 5\n",
      "Estimated ATE: 0.44542554020881653\n",
      "Training data size 6000, run 6\n",
      "Estimated ATE: 0.4463074803352356\n",
      "Training data size 6000, run 7\n",
      "Estimated ATE: 0.4489350914955139\n",
      "Training data size 6000, run 8\n",
      "Estimated ATE: 0.4293307662010193\n",
      "Training data size 6000, run 9\n",
      "Estimated ATE: 0.44815710186958313\n",
      "Training data size 6000, run 10\n",
      "Estimated ATE: 0.44739434123039246\n",
      "Training data size 10000, run 1\n",
      "Estimated ATE: 0.4539875388145447\n",
      "Training data size 10000, run 2\n",
      "Estimated ATE: 0.4519643485546112\n",
      "Training data size 10000, run 3\n",
      "Estimated ATE: 0.4717249870300293\n",
      "Training data size 10000, run 4\n",
      "Estimated ATE: 0.4483715891838074\n",
      "Training data size 10000, run 5\n",
      "Estimated ATE: 0.45461463928222656\n",
      "Training data size 10000, run 6\n",
      "Estimated ATE: 0.44525542855262756\n",
      "Training data size 10000, run 7\n",
      "Estimated ATE: 0.4500032365322113\n",
      "Training data size 10000, run 8\n",
      "Estimated ATE: 0.43384355306625366\n",
      "Training data size 10000, run 9\n",
      "Estimated ATE: 0.43804723024368286\n",
      "Training data size 10000, run 10\n",
      "Estimated ATE: 0.44772958755493164\n",
      "Training data size 20000, run 1\n",
      "Estimated ATE: 0.44042012095451355\n",
      "Training data size 20000, run 2\n",
      "Estimated ATE: 0.45198461413383484\n",
      "Training data size 20000, run 3\n",
      "Estimated ATE: 0.4416666030883789\n",
      "Training data size 20000, run 4\n",
      "Estimated ATE: 0.43055260181427\n",
      "Training data size 20000, run 5\n",
      "Estimated ATE: 0.45224902033805847\n",
      "Training data size 20000, run 6\n",
      "Estimated ATE: 0.4492526948451996\n",
      "Training data size 20000, run 7\n",
      "Estimated ATE: 0.44299522042274475\n",
      "Training data size 20000, run 8\n",
      "Estimated ATE: 0.4470399022102356\n",
      "Training data size 20000, run 9\n",
      "Estimated ATE: 0.4549308121204376\n",
      "Training data size 20000, run 10\n",
      "Estimated ATE: 0.45991846919059753\n"
     ]
    }
   ],
   "source": [
    "\"\"\"Runs the model for different datasets multiple times\"\"\"\n",
    "%autoreload 2\n",
    "BATCH_SIZE = 1000\n",
    "datasize_times = 10\n",
    "device = 'cpu'\n",
    "#what results are we gathering?\n",
    "\n",
    "#Simulating datasets and training models\n",
    "while i < len(datasizes):\n",
    "    #dfs.append([])\n",
    "    #models.append([])\n",
    "    while j < datasize_times:\n",
    "        num_samples = datasizes[i]\n",
    "        print(\"Training data size {}, run {}\".format(num_samples, j+1))\n",
    "        df = binary_data_df(num_samples, z_expectation, x_expectations, t_expectations, y_expectations)\n",
    "        dataset = BinaryDataset(df)\n",
    "        dataloader = BinaryDataLoader(dataset, validation_split=0.0)\n",
    "        train_loader, test_loader = dataloader.get_loaders(batch_size=BATCH_SIZE)\n",
    "        #dummy test loader\n",
    "        test_loader, _ = BinaryDataLoader(BinaryDataset(df[:1]), validation_split=0.0).get_loaders(batch_size=1)\n",
    "        #Running the model\n",
    "        model = run_cevae(num_epochs=50, lr_start=0.3, lr_end=0.1,\n",
    "                train_loader=train_loader, test_loader=test_loader, input_dim=2,\n",
    "                plot_curves=False, print_logs=False, device=device)\n",
    "    \n",
    "        dfs[i][j] = df\n",
    "        models[i][j] = model\n",
    "        \n",
    "        torch.save(model.state_dict(), \"./dummy_data/model_{}_{}\".format(num_samples,j))\n",
    "        df.to_pickle(\"./dummy_data/data_{}_{}\".format(num_samples,j))\n",
    "        \n",
    "        x = torch.Tensor(df[['x0','x1']].values).to(device)\n",
    "        print(\"Estimated ATE: {}\".format(modelITE(model, x, p_y_xt_f, p_t_x_f).mean()))\n",
    "        \n",
    "        j += 1\n",
    "    j = 0\n",
    "    i += 1"
   ]
  },
  {
   "cell_type": "code",
   "execution_count": 11,
   "metadata": {
    "scrolled": true
   },
   "outputs": [],
   "source": [
    "#Calculating results from the models\n",
    "model_ITEs_1 = [[] for n in range(len(datasizes))]\n",
    "model_ITEs_2 = [[] for n in range(len(datasizes))]\n",
    "model_ATEs_1 = [[] for n in range(len(datasizes))]\n",
    "model_ATEs_2 = [[] for n in range(len(datasizes))]\n",
    "model_ATEs_3 = [[] for n in range(len(datasizes))]\n",
    "proxy_ITEs = [[] for n in range(len(datasizes))]\n",
    "proxy_ATEs = [[] for n in range(len(datasizes))]\n",
    "dists_VAE = [[] for n in range(len(datasizes))]\n",
    "dists_data = [[] for n in range(len(datasizes))]\n",
    "dists_true = [[] for n in range(len(datasizes))]\n",
    "\n",
    "for n in range(len(datasizes)):\n",
    "    for i in range(datasize_times):\n",
    "        #P(y=1|X,t) and P(t=1|X) estimates directly from the data\n",
    "        df = dfs[n][i]\n",
    "        model = models[n][i]\n",
    "        q_y_xt_f = generate_q_y_xt(df)\n",
    "        q_t_x_f = generate_q_t_x(df)\n",
    "\n",
    "        #Getting the ITE and ATE estimates\n",
    "        x = torch.Tensor(df[['x0','x1']].values)\n",
    "        p_y_xt_f(x[0][0].item(),x[0][1].item(),1)\n",
    "        model_ITEs_1[n].append(modelITE(model, x, p_y_xt_f, p_t_x_f))\n",
    "        model_ITEs_2[n].append(modelITE(model, x, q_y_xt_f, q_t_x_f))\n",
    "        proxy_ITEs[n].append(proxyITE(x, q_y_xt_f))\n",
    "        model_ATEs_1[n].append(model_ITEs_1[n][i].mean())\n",
    "        model_ATEs_2[n].append(model_ITEs_2[n][i].mean())\n",
    "        proxy_ATEs[n].append(proxy_ITEs[n][i].mean())\n",
    "        z_sample = dist.Bernoulli(torch.Tensor([0.5])).sample((50000,))\n",
    "        p_y_do1_model = torch.sigmoid(model.decoder.y1_nn(z_sample)).mean()\n",
    "        p_y_do0_model =torch.sigmoid(model.decoder.y0_nn(z_sample)).mean()\n",
    "        model_ATEs_3[n].append(p_y_do1_model - p_y_do0_model)\n",
    "\n",
    "        #Getting probability distribution estimates\n",
    "        zs, xs, ts, ys = model.decoder.sample(1000000)\n",
    "        sample_data = torch.cat([zs, xs,ts,ys],axis=1)\n",
    "        dist_VAE, dist_data, dist_true = getJointDistributions(sample_data, df[['z','x0','x1','t','yf']],prob_df)\n",
    "        #Choosing the assignment for z\n",
    "        dist_VAE_1 = dist_VAE\n",
    "        dist_VAE_2 = dist_VAE.copy()\n",
    "        dist_VAE_2.z = 1-dist_VAE_2.z\n",
    "        dist_VAE_2.sort_values(by=['z','x0','x1','t','yf'], inplace=True, ignore_index=True)\n",
    "        err_1 = (dist_VAE_1.P - dist_true.P).abs().sum()\n",
    "        err_2 = (dist_VAE_2.P - dist_true.P).abs().sum()\n",
    "        if err_1 < err_2:\n",
    "            dists_VAE[n].append(dist_VAE_1)\n",
    "        else:\n",
    "            dists_VAE[n].append(dist_VAE_2)\n",
    "        dists_data[n].append(dist_data)\n",
    "        dists_true[n].append(dist_true)"
   ]
  },
  {
   "cell_type": "code",
   "execution_count": 12,
   "metadata": {
    "scrolled": false
   },
   "outputs": [
    {
     "data": {
      "text/plain": [
       "Text(0.5, 1.0, 'sum(|P_data(z,x,t,y) - P_true(z,x,t,y)|)')"
      ]
     },
     "execution_count": 12,
     "metadata": {},
     "output_type": "execute_result"
    },
    {
     "data": {
      "image/png": "[encoded data removed]",
      "text/plain": [
       "<Figure size 720x576 with 4 Axes>"
      ]
     },
     "metadata": {},
     "output_type": "display_data"
    },
    {
     "data": {
      "image/png": "[encoded data removed]",
      "text/plain": [
       "<Figure size 720x288 with 2 Axes>"
      ]
     },
     "metadata": {},
     "output_type": "display_data"
    }
   ],
   "source": [
    "\"\"\"Plot results\"\"\"\n",
    "fig, ax = plt.subplots(2, 2, figsize=(10,8), sharey=True)\n",
    "for n in range(len(datasizes)):\n",
    "    ax[0,0].plot(datasize_times*[datasizes[n]], model_ATEs_1[n], 'o')\n",
    "ax[0,0].plot([datasizes[0], datasizes[-1]], 2*[calculate_true_ate(prob_df)], '--')\n",
    "ax[0,0].set_title(\"Model ATEs got with P(y=1|X,t) and P(t=1|X)\")\n",
    "\n",
    "for n in range(len(datasizes)):\n",
    "    ax[0,1].plot(datasize_times*[datasizes[n]], model_ATEs_3[n], 'o')\n",
    "ax[0,1].plot([datasizes[0], datasizes[-1]], 2*[calculate_true_ate(prob_df)], '--')\n",
    "ax[0,1].set_title(\"Model ATEs got from the generative model directly\")\n",
    "\n",
    "for n in range(len(datasizes)):\n",
    "    ax[1,0].plot(datasize_times*[datasizes[n]], proxy_ATEs[n], 'o')\n",
    "ax[1,0].plot([datasizes[0], datasizes[-1]], 2*[calculate_true_ate(prob_df)], '--')\n",
    "ax[1,0].plot([datasizes[0], datasizes[-1]], 2*[calculate_proxy_ate(prob_df)], '--')\n",
    "ax[1,0].set_title(\"ATEs got by adjusting to proxies directly\")\n",
    "\n",
    "fig, ax = plt.subplots(1,2, figsize=(10,4), sharey=True)\n",
    "for n in range(len(datasizes)):\n",
    "    for i in range(len(dists_VAE[n])):\n",
    "        ax[0].plot(datasizes[n], (dists_VAE[n][i].P - dists_true[n][i].P).abs().sum(), 'o', c='r')\n",
    "        ax[1].plot(datasizes[n], (dists_data[n][i].P - dists_true[n][i].P).abs().sum(), 'o', c='b')\n",
    "ax[0].set_title(\"sum(|P_vae(z,x,t,y) - P_true(z,x,t,y)|)\")\n",
    "ax[1].set_title(\"sum(|P_data(z,x,t,y) - P_true(z,x,t,y)|)\")"
   ]
  },
  {
   "cell_type": "markdown",
   "metadata": {},
   "source": [
    "## Problems\n",
    "- Optimization not tuned for every sample size, doesn't seem to be completely reliable\n",
    "- Estimation of the prob dist created by the VAE isn't done optimally here (also the generative ATE)"
   ]
  },
  {
   "cell_type": "markdown",
   "metadata": {},
   "source": [
    "# Version with P_z != 0.5"
   ]
  },
  {
   "cell_type": "code",
   "execution_count": 732,
   "metadata": {},
   "outputs": [],
   "source": [
    "num_samples = 10000\n",
    "z_expectation = torch.Tensor([0.1])\n",
    "x_expectations = torch.Tensor([[0.1,0.9],\n",
    "                              [0.9,0.1]])\n",
    "x_dim = len(x_expectations)\n",
    "t_expectations = torch.Tensor([[0.3,0.7]])\n",
    "y_expectations = torch.Tensor([[0.85,0.9,0.1,0.95]])\n",
    "df = binary_data_df(num_samples, z_expectation, x_expectations, t_expectations, y_expectations)"
   ]
  },
  {
   "cell_type": "code",
   "execution_count": 733,
   "metadata": {},
   "outputs": [],
   "source": [
    "\"\"\"Get the convenience function and define the corresponding dataframe\"\"\"\n",
    "calculate_prob = generate_calculate_prob(z_expectation, x_expectations, t_expectations, y_expectations)\n",
    "prob_df = pd.DataFrame([c + (calculate_prob(c[0], c[1:3], c[3], c[4]),) for c in itertools.product([0,1],repeat=5)], \n",
    "                       columns=['z'] + ['x{}'.format(i) for i in range(x_dim)] + ['t', 'yf', 'P'])"
   ]
  },
  {
   "cell_type": "code",
   "execution_count": 734,
   "metadata": {},
   "outputs": [
    {
     "name": "stdout",
     "output_type": "stream",
     "text": [
      "True and proxy based ATEs: 0.130, 0.116\n"
     ]
    }
   ],
   "source": [
    "\"\"\"Calculating the true ATE and the ATE we get by adjusting just for the proxies\"\"\"\n",
    "print(\"True and proxy based ATEs: {:.3f}, {:.3f}\".format(calculate_true_ate(prob_df), \n",
    "    calculate_proxy_ate(prob_df)))"
   ]
  },
  {
   "cell_type": "code",
   "execution_count": 735,
   "metadata": {},
   "outputs": [],
   "source": [
    "\"\"\"Functions that do P(y=1|X,t) and P(y=1|t) predictions perfectly\"\"\"\n",
    "%autoreload 2\n",
    "p_y_xt_f = generate_p_y_xt(prob_df)\n",
    "p_t_x_f = generate_p_t_x(prob_df)\n",
    "q_y_xt_f = generate_q_y_xt(df)\n",
    "q_t_x_f = generate_q_t_x(df)"
   ]
  },
  {
   "cell_type": "code",
   "execution_count": 737,
   "metadata": {},
   "outputs": [],
   "source": [
    "\"\"\"Run this before the first time running the next cell\"\"\"\n",
    "i = 0\n",
    "j = 0\n",
    "datasizes = [1000,2000,6000,10000,20000]\n",
    "dfs2 = [[0 for j in range(10)] for i in range(len(datasizes))]\n",
    "models2 = [[0 for j in range(10)] for i in range(len(datasizes))]"
   ]
  },
  {
   "cell_type": "code",
   "execution_count": 738,
   "metadata": {
    "scrolled": true
   },
   "outputs": [
    {
     "name": "stdout",
     "output_type": "stream",
     "text": [
      "Training data size 1000, run 1\n",
      "Estimated ATE: 0.12550917267799377\n",
      "Training data size 1000, run 2\n",
      "Estimated ATE: 0.11354806274175644\n",
      "Training data size 1000, run 3\n",
      "Estimated ATE: 0.12599819898605347\n",
      "Training data size 1000, run 4\n",
      "Estimated ATE: 0.1128421500325203\n",
      "Training data size 1000, run 5\n",
      "Estimated ATE: 0.13909602165222168\n",
      "Training data size 1000, run 6\n",
      "Estimated ATE: 0.11091256886720657\n",
      "Training data size 1000, run 7\n",
      "Estimated ATE: 0.11296261101961136\n",
      "Training data size 1000, run 8\n",
      "Estimated ATE: 0.13183560967445374\n",
      "Training data size 1000, run 9\n",
      "Estimated ATE: 0.1593983918428421\n",
      "Training data size 1000, run 10\n",
      "Estimated ATE: 0.13019824028015137\n",
      "Training data size 2000, run 1\n",
      "Estimated ATE: 0.11453839391469955\n",
      "Training data size 2000, run 2\n",
      "Estimated ATE: 0.09886398911476135\n",
      "Training data size 2000, run 3\n",
      "Estimated ATE: 0.13764040172100067\n",
      "Training data size 2000, run 4\n",
      "Estimated ATE: 0.11378956586122513\n",
      "Training data size 2000, run 5\n",
      "Estimated ATE: 0.13544490933418274\n",
      "Training data size 2000, run 6\n",
      "Estimated ATE: 0.11341073364019394\n",
      "Training data size 2000, run 7\n",
      "Estimated ATE: 0.12414112687110901\n",
      "Training data size 2000, run 8\n",
      "Estimated ATE: 0.11466037482023239\n",
      "Training data size 2000, run 9\n",
      "Estimated ATE: 0.12104964256286621\n",
      "Training data size 2000, run 10\n",
      "Estimated ATE: 0.09543641656637192\n",
      "Training data size 6000, run 1\n",
      "Estimated ATE: 0.10762016475200653\n",
      "Training data size 6000, run 2\n",
      "Estimated ATE: 0.11955661326646805\n",
      "Training data size 6000, run 3\n",
      "Estimated ATE: 0.1082988902926445\n",
      "Training data size 6000, run 4\n",
      "Estimated ATE: 0.10357813537120819\n",
      "Training data size 6000, run 5\n",
      "Estimated ATE: 0.11226029694080353\n",
      "Training data size 6000, run 6\n",
      "Estimated ATE: 0.1274562031030655\n",
      "Training data size 6000, run 7\n",
      "Estimated ATE: 0.09528782963752747\n",
      "Training data size 6000, run 8\n",
      "Estimated ATE: 0.11742066591978073\n",
      "Training data size 6000, run 9\n",
      "Estimated ATE: 0.10933322459459305\n",
      "Training data size 6000, run 10\n",
      "Estimated ATE: 0.09686312079429626\n",
      "Training data size 10000, run 1\n",
      "Estimated ATE: 0.10001605749130249\n",
      "Training data size 10000, run 2\n",
      "Estimated ATE: 0.08957444131374359\n",
      "Training data size 10000, run 3\n",
      "Estimated ATE: 0.11544190347194672\n",
      "Training data size 10000, run 4\n",
      "Estimated ATE: 0.08913885802030563\n",
      "Training data size 10000, run 5\n",
      "Estimated ATE: 0.09918160736560822\n",
      "Training data size 10000, run 6\n",
      "Estimated ATE: 0.09739280492067337\n",
      "Training data size 10000, run 7\n",
      "Estimated ATE: 0.0879000648856163\n",
      "Training data size 10000, run 8\n",
      "Estimated ATE: 0.09336689859628677\n",
      "Training data size 10000, run 9\n",
      "Estimated ATE: 0.09829757362604141\n",
      "Training data size 10000, run 10\n",
      "Estimated ATE: 0.11216366291046143\n",
      "Training data size 20000, run 1\n",
      "Estimated ATE: 0.11843409389257431\n",
      "Training data size 20000, run 2\n",
      "Estimated ATE: 0.09336017817258835\n",
      "Training data size 20000, run 3\n",
      "Estimated ATE: 0.08984331786632538\n",
      "Training data size 20000, run 4\n",
      "Estimated ATE: 0.10034384578466415\n",
      "Training data size 20000, run 5\n",
      "Estimated ATE: 0.1131676733493805\n",
      "Training data size 20000, run 6\n",
      "Estimated ATE: 0.09818655252456665\n",
      "Training data size 20000, run 7\n",
      "Estimated ATE: 0.10745655745267868\n",
      "Training data size 20000, run 8\n",
      "Estimated ATE: 0.08659733831882477\n",
      "Training data size 20000, run 9\n",
      "Estimated ATE: 0.1002320796251297\n",
      "Training data size 20000, run 10\n",
      "Estimated ATE: 0.087124764919281\n"
     ]
    }
   ],
   "source": [
    "\"\"\"Runs the model for different datasets multiple times\"\"\"\n",
    "BATCH_SIZE = 1000\n",
    "datasize_times = 10\n",
    "device = 'cpu'\n",
    "#what results are we gathering?\n",
    "\n",
    "#Simulating datasets and training models\n",
    "while i < len(datasizes):\n",
    "    #dfs.append([])\n",
    "    #models.append([])\n",
    "    while j < datasize_times:\n",
    "        num_samples = datasizes[i]\n",
    "        print(\"Training data size {}, run {}\".format(num_samples, j+1))\n",
    "        df = binary_data_df(num_samples, z_expectation, x_expectations, t_expectations, y_expectations)\n",
    "        dataset = BinaryDataset(df)\n",
    "        dataloader = BinaryDataLoader(dataset, validation_split=0.0)\n",
    "        train_loader, test_loader = dataloader.get_loaders(batch_size=BATCH_SIZE)\n",
    "        #dummy test loader\n",
    "        test_loader, _ = BinaryDataLoader(BinaryDataset(df[:1]), validation_split=0.0).get_loaders(batch_size=1)\n",
    "        #Running the model\n",
    "        model = run_cevae(num_epochs=70, lr_start=0.3, lr_end=0.1,\n",
    "                train_loader=train_loader, test_loader=test_loader, input_dim=2,\n",
    "                plot_curves=False, print_logs=False)\n",
    "    \n",
    "        dfs2[i][j] = df\n",
    "        models2[i][j] = model\n",
    "        \n",
    "        torch.save(model.state_dict(), \"./dummy_data/model2_{}_{}\".format(num_samples,j))\n",
    "        df.to_pickle(\"./dummy_data/data2_{}_{}\".format(num_samples,j))\n",
    "        \n",
    "        x = torch.Tensor(df[['x0','x1']].values)\n",
    "        print(\"Estimated ATE: {}\".format(modelITE(model, x, p_y_xt_f, p_t_x_f).mean()))\n",
    "        \n",
    "        j += 1\n",
    "    j = 0\n",
    "    i += 1"
   ]
  },
  {
   "cell_type": "code",
   "execution_count": 739,
   "metadata": {},
   "outputs": [],
   "source": [
    "#Calculating results from the models\n",
    "model_ITEs_1 = [[] for n in range(len(datasizes))]\n",
    "model_ITEs_2 = [[] for n in range(len(datasizes))]\n",
    "model_ATEs_1 = [[] for n in range(len(datasizes))]\n",
    "model_ATEs_2 = [[] for n in range(len(datasizes))]\n",
    "model_ATEs_3 = [[] for n in range(len(datasizes))]\n",
    "proxy_ITEs = [[] for n in range(len(datasizes))]\n",
    "proxy_ATEs = [[] for n in range(len(datasizes))]\n",
    "dists_VAE = [[] for n in range(len(datasizes))]\n",
    "dists_data = [[] for n in range(len(datasizes))]\n",
    "dists_true = [[] for n in range(len(datasizes))]\n",
    "\n",
    "for n in range(len(datasizes)):\n",
    "    for i in range(datasize_times):\n",
    "        #P(y=1|X,t) and P(t=1|X) estimates directly from the data\n",
    "        df = dfs2[n][i]\n",
    "        model = models2[n][i]\n",
    "        q_y_xt_f = generate_q_y_xt(df)\n",
    "        q_t_x_f = generate_q_t_x(df)\n",
    "\n",
    "        #Getting the ITE and ATE estimates\n",
    "        x = torch.Tensor(df[['x0','x1']].values)\n",
    "        p_y_xt_f(x[0][0].item(),x[0][1].item(),1)\n",
    "        model_ITEs_1[n].append(modelITE(model, x, p_y_xt_f, p_t_x_f))\n",
    "        model_ITEs_2[n].append(modelITE(model, x, q_y_xt_f, q_t_x_f))\n",
    "        proxy_ITEs[n].append(proxyITE(x, q_y_xt_f))\n",
    "        model_ATEs_1[n].append(model_ITEs_1[n][i].mean())\n",
    "        model_ATEs_2[n].append(model_ITEs_2[n][i].mean())\n",
    "        proxy_ATEs[n].append(proxy_ITEs[n][i].mean())\n",
    "        z_sample = dist.Bernoulli(torch.Tensor([0.5])).sample((50000,))\n",
    "        p_y_do1_model = torch.sigmoid(model.decoder.y1_nn(z_sample)).mean()\n",
    "        p_y_do0_model =torch.sigmoid(model.decoder.y0_nn(z_sample)).mean()\n",
    "        model_ATEs_3[n].append(p_y_do1_model - p_y_do0_model)\n",
    "\n",
    "        #Getting probability distribution estimates\n",
    "        zs, xs, ts, ys = model.decoder.sample(1000000)\n",
    "        sample_data = torch.cat([zs, xs,ts,ys],axis=1)\n",
    "        dist_VAE, dist_data, dist_true = getJointDistributions(sample_data, df[['z','x0','x1','t','yf']],prob_df)\n",
    "        #Choosing the assignment for z\n",
    "        dist_VAE_1 = dist_VAE\n",
    "        dist_VAE_2 = dist_VAE.copy()\n",
    "        dist_VAE_2.z = 1-dist_VAE_2.z\n",
    "        dist_VAE_2.sort_values(by=['z','x0','x1','t','yf'], inplace=True, ignore_index=True)\n",
    "        err_1 = (dist_VAE_1.P - dist_true.P).abs().sum()\n",
    "        err_2 = (dist_VAE_2.P - dist_true.P).abs().sum()\n",
    "        if err_1 < err_2:\n",
    "            dists_VAE[n].append(dist_VAE_1)\n",
    "        else:\n",
    "            dists_VAE[n].append(dist_VAE_2)\n",
    "        dists_data[n].append(dist_data)\n",
    "        dists_true[n].append(dist_true)"
   ]
  },
  {
   "cell_type": "code",
   "execution_count": 740,
   "metadata": {},
   "outputs": [
    {
     "data": {
      "text/plain": [
       "Text(0.5, 1.0, 'sum(|P_data(z,x,t,y) - P_true(z,x,t,y)|)')"
      ]
     },
     "execution_count": 740,
     "metadata": {},
     "output_type": "execute_result"
    },
    {
     "data": {
      "image/png": "[encoded data removed]",
      "text/plain": [
       "<Figure size 720x576 with 4 Axes>"
      ]
     },
     "metadata": {},
     "output_type": "display_data"
    },
    {
     "data": {
      "image/png": "[encoded data removed]",
      "text/plain": [
       "<Figure size 720x288 with 2 Axes>"
      ]
     },
     "metadata": {},
     "output_type": "display_data"
    }
   ],
   "source": [
    "\"\"\"Plot results\"\"\"\n",
    "fig, ax = plt.subplots(2, 2, figsize=(10,8), sharey=True)\n",
    "for n in range(len(datasizes)):\n",
    "    ax[0,0].plot(datasize_times*[datasizes[n]], model_ATEs_1[n], 'o')\n",
    "ax[0,0].plot([datasizes[0], datasizes[-1]+0.1], 2*[calculate_true_ate(prob_df)], '--')\n",
    "ax[0,0].set_title(\"Model ATEs got with P(y=1|X,t) and P(t=1|X)\")\n",
    "\n",
    "for n in range(len(datasizes)):\n",
    "    ax[0,1].plot(datasize_times*[datasizes[n]], model_ATEs_3[n], 'o')\n",
    "ax[0,1].plot([datasizes[0], datasizes[-1]+0.1], 2*[calculate_true_ate(prob_df)], '--')\n",
    "ax[0,1].set_title(\"Model ATEs got from the generative model directly\")\n",
    "\n",
    "for n in range(len(datasizes)):\n",
    "    ax[1,0].plot(datasize_times*[datasizes[n]], proxy_ATEs[n], 'o')\n",
    "ax[1,0].plot([datasizes[0], datasizes[-1]+0.1], 2*[calculate_true_ate(prob_df)], '--')\n",
    "ax[1,0].plot([datasizes[0], datasizes[-1]+0.1], 2*[calculate_proxy_ate(prob_df)], '--')\n",
    "ax[1,0].set_title(\"ATEs got by adjusting to proxies directly\")\n",
    "\n",
    "fig, ax = plt.subplots(1,2, figsize=(10,4), sharey=True)\n",
    "for n in range(len(datasizes)):\n",
    "    for i in range(len(dists_VAE[n])):\n",
    "        ax[0].plot(datasizes[n], (dists_VAE[n][i].P - dists_true[n][i].P).abs().sum(), 'o', c='r')\n",
    "        ax[1].plot(datasizes[n], (dists_data[n][i].P - dists_true[n][i].P).abs().sum(), 'o', c='b')\n",
    "ax[0].set_title(\"sum(|P_vae(z,x,t,y) - P_true(z,x,t,y)|)\")\n",
    "ax[1].set_title(\"sum(|P_data(z,x,t,y) - P_true(z,x,t,y)|)\")"
   ]
  },
  {
   "cell_type": "code",
   "execution_count": null,
   "metadata": {},
   "outputs": [],
   "source": []
  },
  {
   "cell_type": "markdown",
   "metadata": {},
   "source": [
    "## Thoughts\n",
    "- Treat P(z) as a parameter also?\n",
    "- What happens when P(z) is Gaussian again?"
   ]
  },
  {
   "cell_type": "markdown",
   "metadata": {},
   "source": [
    "# Test where P(z)!=0.5 and we learn it as a parameter"
   ]
  },
  {
   "cell_type": "code",
   "execution_count": 13,
   "metadata": {},
   "outputs": [],
   "source": [
    "num_samples = 10000\n",
    "z_expectation = torch.Tensor([0.1])\n",
    "x_expectations = torch.Tensor([[0.1,0.9],\n",
    "                              [0.9,0.1]])\n",
    "x_dim = len(x_expectations)\n",
    "t_expectations = torch.Tensor([[0.3,0.7]])\n",
    "y_expectations = torch.Tensor([[0.85,0.9,0.1,0.95]])\n",
    "df = binary_data_df(num_samples, z_expectation, x_expectations, t_expectations, y_expectations)"
   ]
  },
  {
   "cell_type": "code",
   "execution_count": 14,
   "metadata": {},
   "outputs": [],
   "source": [
    "\"\"\"Get the convenience function and define the corresponding dataframe\"\"\"\n",
    "calculate_prob = generate_calculate_prob(z_expectation, x_expectations, t_expectations, y_expectations)\n",
    "prob_df = pd.DataFrame([c + (calculate_prob(c[0], c[1:3], c[3], c[4]),) for c in itertools.product([0,1],repeat=5)], \n",
    "                       columns=['z'] + ['x{}'.format(i) for i in range(x_dim)] + ['t', 'yf', 'P'])"
   ]
  },
  {
   "cell_type": "code",
   "execution_count": 15,
   "metadata": {},
   "outputs": [
    {
     "name": "stdout",
     "output_type": "stream",
     "text": [
      "True and proxy based ATEs: 0.130, 0.116\n"
     ]
    }
   ],
   "source": [
    "\"\"\"Calculating the true ATE and the ATE we get by adjusting just for the proxies\"\"\"\n",
    "print(\"True and proxy based ATEs: {:.3f}, {:.3f}\".format(calculate_true_ate(prob_df), \n",
    "    calculate_proxy_ate(prob_df)))"
   ]
  },
  {
   "cell_type": "code",
   "execution_count": 16,
   "metadata": {},
   "outputs": [],
   "source": [
    "\"\"\"Functions that do P(y=1|X,t) and P(y=1|t) predictions perfectly\"\"\"\n",
    "%autoreload 2\n",
    "p_y_xt_f = generate_p_y_xt(prob_df)\n",
    "p_t_x_f = generate_p_t_x(prob_df)\n",
    "q_y_xt_f = generate_q_y_xt(df)\n",
    "q_t_x_f = generate_q_t_x(df)"
   ]
  },
  {
   "cell_type": "code",
   "execution_count": 24,
   "metadata": {},
   "outputs": [],
   "source": [
    "\"\"\"Run this before the first time running the next cell\"\"\"\n",
    "datasizes = [1000,2000,6000,10000,20000]\n",
    "i = 0\n",
    "j = 0\n",
    "dfs3 = [[0 for j in range(10)] for i in range(len(datasizes))]\n",
    "models3 = [[0 for j in range(10)] for i in range(len(datasizes))]"
   ]
  },
  {
   "cell_type": "code",
   "execution_count": 25,
   "metadata": {
    "scrolled": true
   },
   "outputs": [
    {
     "name": "stdout",
     "output_type": "stream",
     "text": [
      "Training data size 1000, run 1\n",
      "Estimated ATE: 0.06037258729338646\n",
      "Training data size 1000, run 2\n",
      "Estimated ATE: 0.08345131576061249\n",
      "Training data size 1000, run 3\n",
      "Estimated ATE: 0.13518881797790527\n",
      "Training data size 1000, run 4\n",
      "Estimated ATE: 0.07200326025485992\n",
      "Training data size 1000, run 5\n",
      "Estimated ATE: 0.08870348334312439\n",
      "Training data size 1000, run 6\n",
      "Estimated ATE: 0.1142318993806839\n",
      "Training data size 1000, run 7\n",
      "Estimated ATE: 0.07915034145116806\n",
      "Training data size 1000, run 8\n",
      "Estimated ATE: 0.1168426051735878\n",
      "Training data size 1000, run 9\n",
      "Estimated ATE: 0.13232114911079407\n",
      "Training data size 1000, run 10\n",
      "Estimated ATE: 0.14050640165805817\n",
      "Training data size 2000, run 1\n",
      "Estimated ATE: 0.1250748336315155\n",
      "Training data size 2000, run 2\n",
      "Estimated ATE: 0.1310959905385971\n",
      "Training data size 2000, run 3\n",
      "Estimated ATE: 0.13827206194400787\n",
      "Training data size 2000, run 4\n",
      "Estimated ATE: 0.1136372908949852\n",
      "Training data size 2000, run 5\n",
      "Estimated ATE: 0.11792141944169998\n",
      "Training data size 2000, run 6\n",
      "Estimated ATE: 0.09988600760698318\n",
      "Training data size 2000, run 7\n",
      "Estimated ATE: 0.10647762566804886\n",
      "Training data size 2000, run 8\n",
      "Estimated ATE: 0.1125662550330162\n",
      "Training data size 2000, run 9\n",
      "Estimated ATE: 0.10095181316137314\n",
      "Training data size 2000, run 10\n",
      "Estimated ATE: 0.12491060048341751\n",
      "Training data size 6000, run 1\n",
      "Estimated ATE: 0.1375722885131836\n",
      "Training data size 6000, run 2\n",
      "Estimated ATE: 0.1440388560295105\n",
      "Training data size 6000, run 3\n",
      "Estimated ATE: 0.10928579419851303\n",
      "Training data size 6000, run 4\n",
      "Estimated ATE: 0.13056680560112\n",
      "Training data size 6000, run 5\n",
      "Estimated ATE: 0.1098315641283989\n",
      "Training data size 6000, run 6\n",
      "Estimated ATE: 0.13309068977832794\n",
      "Training data size 6000, run 7\n",
      "Estimated ATE: 0.12660783529281616\n",
      "Training data size 6000, run 8\n",
      "Estimated ATE: 0.13706859946250916\n",
      "Training data size 6000, run 9\n",
      "Estimated ATE: 0.1129901334643364\n",
      "Training data size 6000, run 10\n",
      "Estimated ATE: 0.13392481207847595\n",
      "Training data size 10000, run 1\n",
      "Estimated ATE: 0.1375843733549118\n",
      "Training data size 10000, run 2\n",
      "Estimated ATE: 0.1336655169725418\n",
      "Training data size 10000, run 3\n",
      "Estimated ATE: 0.1506125032901764\n",
      "Training data size 10000, run 4\n",
      "Estimated ATE: 0.13224124908447266\n",
      "Training data size 10000, run 5\n",
      "Estimated ATE: 0.13990233838558197\n",
      "Training data size 10000, run 6\n",
      "Estimated ATE: 0.12544550001621246\n",
      "Training data size 10000, run 7\n",
      "Estimated ATE: 0.12645818293094635\n",
      "Training data size 10000, run 8\n",
      "Estimated ATE: 0.12507295608520508\n",
      "Training data size 10000, run 9\n",
      "Estimated ATE: 0.13085265457630157\n",
      "Training data size 10000, run 10\n",
      "Estimated ATE: 0.12252568453550339\n",
      "Training data size 20000, run 1\n",
      "Estimated ATE: 0.12596113979816437\n",
      "Training data size 20000, run 2\n",
      "Estimated ATE: 0.12505799531936646\n",
      "Training data size 20000, run 3\n",
      "Estimated ATE: 0.11921839416027069\n",
      "Training data size 20000, run 4\n",
      "Estimated ATE: 0.11166339367628098\n",
      "Training data size 20000, run 5\n",
      "Estimated ATE: 0.12080104649066925\n",
      "Training data size 20000, run 6\n",
      "Estimated ATE: 0.12265077978372574\n",
      "Training data size 20000, run 7\n",
      "Estimated ATE: 0.1425957828760147\n",
      "Training data size 20000, run 8\n",
      "Estimated ATE: 0.11226193606853485\n",
      "Training data size 20000, run 9\n",
      "Estimated ATE: 0.12022185325622559\n",
      "Training data size 20000, run 10\n",
      "Estimated ATE: 0.12537658214569092\n"
     ]
    }
   ],
   "source": [
    "\"\"\"Runs the model for different datasets multiple times\"\"\"\n",
    "%autoreload 2\n",
    "BATCH_SIZE = 1000\n",
    "datasize_times = 10\n",
    "device = 'cpu'\n",
    "#what results are we gathering?\n",
    "\n",
    "#Simulating datasets and training models\n",
    "while i < len(datasizes):\n",
    "    #dfs.append([])\n",
    "    #models.append([])\n",
    "    while j < datasize_times:\n",
    "        num_samples = datasizes[i]\n",
    "        print(\"Training data size {}, run {}\".format(num_samples, j+1))\n",
    "        df = binary_data_df(num_samples, z_expectation, x_expectations, t_expectations, y_expectations)\n",
    "        dataset = BinaryDataset(df)\n",
    "        dataloader = BinaryDataLoader(dataset, validation_split=0.0)\n",
    "        train_loader, test_loader = dataloader.get_loaders(batch_size=BATCH_SIZE)\n",
    "        #dummy test loader\n",
    "        test_loader, _ = BinaryDataLoader(BinaryDataset(df[:1]), validation_split=0.0).get_loaders(batch_size=1)\n",
    "        #Running the model\n",
    "        model = run_cevae(num_epochs=150, lr_start=0.3, lr_end=0.05,\n",
    "                train_loader=train_loader, test_loader=test_loader, input_dim=2,\n",
    "                plot_curves=False, print_logs=False, device=device, learn_pz=True)\n",
    "    \n",
    "        dfs3[i][j] = df\n",
    "        models3[i][j] = model\n",
    "        \n",
    "        torch.save(model.state_dict(), \"./dummy_data/model3_{}_{}\".format(num_samples,j))\n",
    "        df.to_pickle(\"./dummy_data/data3_{}_{}\".format(num_samples,j))\n",
    "        \n",
    "        x = torch.Tensor(df[['x0','x1']].values).to(device)\n",
    "        print(\"Estimated ATE: {}\".format(modelITE(model, x, p_y_xt_f, p_t_x_f).mean()))\n",
    "        \n",
    "        j += 1\n",
    "    j = 0\n",
    "    i += 1"
   ]
  },
  {
   "cell_type": "code",
   "execution_count": 26,
   "metadata": {
    "scrolled": true
   },
   "outputs": [],
   "source": [
    "%autoreload 2\n",
    "#Calculating results from the models\n",
    "model_ITEs_1 = [[] for n in range(len(datasizes))]\n",
    "model_ITEs_2 = [[] for n in range(len(datasizes))]\n",
    "model_ATEs_1 = [[] for n in range(len(datasizes))]\n",
    "model_ATEs_2 = [[] for n in range(len(datasizes))]\n",
    "model_ATEs_3 = [[] for n in range(len(datasizes))]\n",
    "proxy_ITEs = [[] for n in range(len(datasizes))]\n",
    "proxy_ATEs = [[] for n in range(len(datasizes))]\n",
    "dists_VAE = [[] for n in range(len(datasizes))]\n",
    "dists_data = [[] for n in range(len(datasizes))]\n",
    "dists_true = [[] for n in range(len(datasizes))]\n",
    "\n",
    "for n in range(len(datasizes)):\n",
    "    for i in range(datasize_times):\n",
    "        #P(y=1|X,t) and P(t=1|X) estimates directly from the data\n",
    "        df = dfs3[n][i]\n",
    "        model = models3[n][i]\n",
    "        q_y_xt_f = generate_q_y_xt(df)\n",
    "        q_t_x_f = generate_q_t_x(df)\n",
    "\n",
    "        #Getting the ITE and ATE estimates\n",
    "        x = torch.Tensor(df[['x0','x1']].values).to(device)\n",
    "        p_y_xt_f(x[0][0].item(),x[0][1].item(),1)\n",
    "        model_ITEs_1[n].append(modelITE(model, x, p_y_xt_f, p_t_x_f))\n",
    "        model_ITEs_2[n].append(modelITE(model, x, q_y_xt_f, q_t_x_f))\n",
    "        proxy_ITEs[n].append(proxyITE(x, q_y_xt_f))\n",
    "        model_ATEs_1[n].append(model_ITEs_1[n][i].mean())\n",
    "        model_ATEs_2[n].append(model_ITEs_2[n][i].mean())\n",
    "        proxy_ATEs[n].append(proxy_ITEs[n][i].mean())\n",
    "        z_sample = dist.Bernoulli(torch.sigmoid(model.pz_logit)).sample((50000,))\n",
    "        p_y_do1_model = torch.sigmoid(model.decoder.y1_nn(z_sample)).mean()\n",
    "        p_y_do0_model =torch.sigmoid(model.decoder.y0_nn(z_sample)).mean()\n",
    "        model_ATEs_3[n].append(p_y_do1_model - p_y_do0_model)\n",
    "\n",
    "        #Getting probability distribution estimates\n",
    "        zs, xs, ts, ys = model.decoder.sample(1000000, torch.sigmoid(model.pz_logit))\n",
    "        sample_data = torch.cat([zs, xs,ts,ys],axis=1)\n",
    "        dist_VAE, dist_data, dist_true = getJointDistributions(sample_data, df[['z','x0','x1','t','yf']],prob_df)\n",
    "        #Choosing the assignment for z\n",
    "        dist_VAE_1 = dist_VAE\n",
    "        dist_VAE_2 = dist_VAE.copy()\n",
    "        dist_VAE_2.z = 1-dist_VAE_2.z\n",
    "        dist_VAE_2.sort_values(by=['z','x0','x1','t','yf'], inplace=True, ignore_index=True)\n",
    "        err_1 = (dist_VAE_1.P - dist_true.P).abs().sum()\n",
    "        err_2 = (dist_VAE_2.P - dist_true.P).abs().sum()\n",
    "        if err_1 < err_2:\n",
    "            dists_VAE[n].append(dist_VAE_1)\n",
    "        else:\n",
    "            dists_VAE[n].append(dist_VAE_2)\n",
    "        dists_data[n].append(dist_data)\n",
    "        dists_true[n].append(dist_true)"
   ]
  },
  {
   "cell_type": "code",
   "execution_count": 27,
   "metadata": {
    "scrolled": false
   },
   "outputs": [
    {
     "data": {
      "text/plain": [
       "Text(0.5, 1.0, 'sum(|P_data(z,x,t,y) - P_true(z,x,t,y)|)')"
      ]
     },
     "execution_count": 27,
     "metadata": {},
     "output_type": "execute_result"
    },
    {
     "data": {
      "image/png": "[encoded data removed]",
      "text/plain": [
       "<Figure size 720x576 with 4 Axes>"
      ]
     },
     "metadata": {},
     "output_type": "display_data"
    },
    {
     "data": {
      "image/png": "[encoded data removed]",
      "text/plain": [
       "<Figure size 720x288 with 2 Axes>"
      ]
     },
     "metadata": {},
     "output_type": "display_data"
    }
   ],
   "source": [
    "\"\"\"Plot results\"\"\"\n",
    "fig, ax = plt.subplots(2, 2, figsize=(10,8), sharey=True)\n",
    "for n in range(len(datasizes)):\n",
    "    ax[0,0].plot(datasize_times*[datasizes[n]], model_ATEs_1[n], 'o')\n",
    "ax[0,0].plot([datasizes[0], datasizes[-1]+0.1], 2*[calculate_true_ate(prob_df)], '--')\n",
    "ax[0,0].set_title(\"Model ATEs got with P(y=1|X,t) and P(t=1|X)\")\n",
    "\n",
    "for n in range(len(datasizes)):\n",
    "    ax[0,1].plot(datasize_times*[datasizes[n]], model_ATEs_3[n], 'o')\n",
    "ax[0,1].plot([datasizes[0], datasizes[-1]+0.1], 2*[calculate_true_ate(prob_df)], '--')\n",
    "ax[0,1].set_title(\"Model ATEs got from the generative model directly\")\n",
    "\n",
    "for n in range(len(datasizes)):\n",
    "    ax[1,0].plot(datasize_times*[datasizes[n]], proxy_ATEs[n], 'o')\n",
    "ax[1,0].plot([datasizes[0], datasizes[-1]+0.1], 2*[calculate_true_ate(prob_df)], '--')\n",
    "ax[1,0].plot([datasizes[0], datasizes[-1]+0.1], 2*[calculate_proxy_ate(prob_df)], '--')\n",
    "ax[1,0].set_title(\"ATEs got by adjusting to proxies directly\")\n",
    "\n",
    "fig, ax = plt.subplots(1,2, figsize=(10,4), sharey=True)\n",
    "for n in range(len(datasizes)):\n",
    "    for i in range(len(dists_VAE[n])):\n",
    "        ax[0].plot(datasizes[n], (dists_VAE[n][i].P - dists_true[n][i].P).abs().sum(), 'o', c='r')\n",
    "        ax[1].plot(datasizes[n], (dists_data[n][i].P - dists_true[n][i].P).abs().sum(), 'o', c='b')\n",
    "ax[0].set_title(\"sum(|P_vae(z,x,t,y) - P_true(z,x,t,y)|)\")\n",
    "ax[1].set_title(\"sum(|P_data(z,x,t,y) - P_true(z,x,t,y)|)\")"
   ]
  },
  {
   "cell_type": "markdown",
   "metadata": {},
   "source": [
    "# Free-form testing"
   ]
  },
  {
   "cell_type": "code",
   "execution_count": 713,
   "metadata": {},
   "outputs": [],
   "source": [
    "num_samples = 10000\n",
    "z_expectation = torch.Tensor([0.1])\n",
    "x_expectations = torch.Tensor([[0.1,0.9],\n",
    "                              [0.9,0.1]])\n",
    "x_dim = len(x_expectations)\n",
    "t_expectations = torch.Tensor([[0.3,0.7]])\n",
    "y_expectations = torch.Tensor([[0.85,0.9,0.1,0.95]])\n",
    "df = binary_data_df(num_samples, z_expectation, x_expectations, t_expectations, y_expectations)"
   ]
  },
  {
   "cell_type": "code",
   "execution_count": 714,
   "metadata": {},
   "outputs": [],
   "source": [
    "\"\"\"Get the convenience function and define the corresponding dataframe\"\"\"\n",
    "calculate_prob = generate_calculate_prob(z_expectation, x_expectations, t_expectations, y_expectations)\n",
    "prob_df = pd.DataFrame([c + (calculate_prob(c[0], c[1:3], c[3], c[4]),) for c in itertools.product([0,1],repeat=5)], \n",
    "                       columns=['z'] + ['x{}'.format(i) for i in range(x_dim)] + ['t', 'yf', 'P'])"
   ]
  },
  {
   "cell_type": "code",
   "execution_count": 715,
   "metadata": {},
   "outputs": [],
   "source": [
    "\"\"\"Functions that do P(y=1|X,t) and P(y=1|t) predictions perfectly\"\"\"\n",
    "%autoreload 2\n",
    "p_y_xt_f = generate_p_y_xt(prob_df)\n",
    "p_t_x_f = generate_p_t_x(prob_df)\n",
    "q_y_xt_f = generate_q_y_xt(df)\n",
    "q_t_x_f = generate_q_t_x(df)"
   ]
  },
  {
   "cell_type": "code",
   "execution_count": 716,
   "metadata": {},
   "outputs": [
    {
     "name": "stdout",
     "output_type": "stream",
     "text": [
      "True and proxy based ATEs: 0.130, 0.116\n"
     ]
    }
   ],
   "source": [
    "\"\"\"Calculating the true ATE and the ATE we get by adjusting just for the proxies\"\"\"\n",
    "print(\"True and proxy based ATEs: {:.3f}, {:.3f}\".format(calculate_true_ate(prob_df), \n",
    "    calculate_proxy_ate(prob_df)))"
   ]
  },
  {
   "cell_type": "code",
   "execution_count": 717,
   "metadata": {},
   "outputs": [],
   "source": [
    "%autoreload 2\n",
    "BATCH_SIZE = 1000\n",
    "device = 'cpu'\n",
    "dataset = BinaryDataset(df)\n",
    "dataloader = BinaryDataLoader(dataset, validation_split=0.0)\n",
    "train_loader, test_loader = dataloader.get_loaders(batch_size=BATCH_SIZE)\n",
    "#dummy test loader\n",
    "test_loader, _ = BinaryDataLoader(BinaryDataset(df[:1]), validation_split=0.0).get_loaders(batch_size=1)"
   ]
  },
  {
   "cell_type": "code",
   "execution_count": 718,
   "metadata": {
    "scrolled": true
   },
   "outputs": [
    {
     "name": "stdout",
     "output_type": "stream",
     "text": [
      "Training Results - Epoch 1 - y_reconc_loss: 458.3580 x_reconc_loss: 815.9202 t_reconc_loss: 616.8801 kld_loss: 157.6438 total_loss: 2048.8021 learning rate: 0.2935\n",
      "Training Results - Epoch 2 - y_reconc_loss: 422.0773 x_reconc_loss: 807.0325 t_reconc_loss: 608.3333 kld_loss: 144.9333 total_loss: 1982.3763 learning rate: 0.2871\n",
      "Training Results - Epoch 3 - y_reconc_loss: 389.5636 x_reconc_loss: 713.5597 t_reconc_loss: 605.6646 kld_loss: 238.5459 total_loss: 1947.3338 learning rate: 0.2809\n",
      "Training Results - Epoch 4 - y_reconc_loss: 389.6310 x_reconc_loss: 687.4725 t_reconc_loss: 595.5050 kld_loss: 251.8814 total_loss: 1924.4898 learning rate: 0.2748\n",
      "Training Results - Epoch 5 - y_reconc_loss: 393.2153 x_reconc_loss: 610.1551 t_reconc_loss: 612.1914 kld_loss: 300.8564 total_loss: 1916.4182 learning rate: 0.2688\n",
      "Training Results - Epoch 6 - y_reconc_loss: 392.0871 x_reconc_loss: 591.8490 t_reconc_loss: 618.0354 kld_loss: 306.6479 total_loss: 1908.6193 learning rate: 0.2629\n",
      "Training Results - Epoch 7 - y_reconc_loss: 393.2159 x_reconc_loss: 574.9819 t_reconc_loss: 616.5602 kld_loss: 319.9991 total_loss: 1904.7570 learning rate: 0.2572\n",
      "Training Results - Epoch 8 - y_reconc_loss: 393.1724 x_reconc_loss: 591.8602 t_reconc_loss: 617.3821 kld_loss: 300.8679 total_loss: 1903.2826 learning rate: 0.2516\n",
      "Training Results - Epoch 9 - y_reconc_loss: 391.6320 x_reconc_loss: 606.6495 t_reconc_loss: 611.5636 kld_loss: 289.5379 total_loss: 1899.3830 learning rate: 0.2462\n",
      "Training Results - Epoch 10 - y_reconc_loss: 390.8306 x_reconc_loss: 610.4988 t_reconc_loss: 610.2786 kld_loss: 285.4396 total_loss: 1897.0477 learning rate: 0.2408\n",
      "Training Results - Epoch 11 - y_reconc_loss: 389.7053 x_reconc_loss: 609.6837 t_reconc_loss: 609.5362 kld_loss: 287.7184 total_loss: 1896.6437 learning rate: 0.2356\n",
      "Training Results - Epoch 12 - y_reconc_loss: 387.6378 x_reconc_loss: 610.8887 t_reconc_loss: 604.5134 kld_loss: 290.2333 total_loss: 1893.2731 learning rate: 0.2305\n",
      "Training Results - Epoch 13 - y_reconc_loss: 386.1738 x_reconc_loss: 614.0073 t_reconc_loss: 603.7115 kld_loss: 286.4067 total_loss: 1890.2993 learning rate: 0.2255\n",
      "Training Results - Epoch 14 - y_reconc_loss: 385.7246 x_reconc_loss: 615.5989 t_reconc_loss: 605.2553 kld_loss: 281.2083 total_loss: 1887.7871 learning rate: 0.2206\n",
      "Training Results - Epoch 15 - y_reconc_loss: 383.7987 x_reconc_loss: 624.3341 t_reconc_loss: 607.6710 kld_loss: 271.1254 total_loss: 1886.9293 learning rate: 0.2158\n",
      "Training Results - Epoch 16 - y_reconc_loss: 382.8485 x_reconc_loss: 624.3843 t_reconc_loss: 608.3610 kld_loss: 268.7174 total_loss: 1884.3112 learning rate: 0.2111\n",
      "Training Results - Epoch 17 - y_reconc_loss: 381.9026 x_reconc_loss: 629.0866 t_reconc_loss: 608.5793 kld_loss: 264.5279 total_loss: 1884.0964 learning rate: 0.2065\n",
      "Training Results - Epoch 18 - y_reconc_loss: 380.4557 x_reconc_loss: 638.9733 t_reconc_loss: 608.9211 kld_loss: 256.8735 total_loss: 1885.2235 learning rate: 0.2020\n",
      "Training Results - Epoch 19 - y_reconc_loss: 381.3753 x_reconc_loss: 628.2753 t_reconc_loss: 608.5949 kld_loss: 264.2888 total_loss: 1882.5343 learning rate: 0.1976\n",
      "Training Results - Epoch 20 - y_reconc_loss: 380.1832 x_reconc_loss: 636.3624 t_reconc_loss: 605.9341 kld_loss: 258.7233 total_loss: 1881.2031 learning rate: 0.1933\n",
      "Training Results - Epoch 21 - y_reconc_loss: 380.0395 x_reconc_loss: 632.5002 t_reconc_loss: 604.6569 kld_loss: 264.1917 total_loss: 1881.3884 learning rate: 0.1891\n",
      "Training Results - Epoch 22 - y_reconc_loss: 379.9743 x_reconc_loss: 633.8180 t_reconc_loss: 605.2100 kld_loss: 262.0393 total_loss: 1881.0416 learning rate: 0.1850\n",
      "Training Results - Epoch 23 - y_reconc_loss: 379.7651 x_reconc_loss: 636.1456 t_reconc_loss: 605.9367 kld_loss: 259.2882 total_loss: 1881.1356 learning rate: 0.1810\n",
      "Training Results - Epoch 24 - y_reconc_loss: 379.2683 x_reconc_loss: 639.3231 t_reconc_loss: 606.5403 kld_loss: 255.2185 total_loss: 1880.3502 learning rate: 0.1771\n",
      "Training Results - Epoch 25 - y_reconc_loss: 380.1092 x_reconc_loss: 634.9403 t_reconc_loss: 607.6962 kld_loss: 256.7426 total_loss: 1879.4883 learning rate: 0.1732\n",
      "Training Results - Epoch 26 - y_reconc_loss: 379.4939 x_reconc_loss: 632.4939 t_reconc_loss: 605.7690 kld_loss: 263.8436 total_loss: 1881.6004 learning rate: 0.1694\n",
      "Training Results - Epoch 27 - y_reconc_loss: 379.1698 x_reconc_loss: 637.6445 t_reconc_loss: 605.5454 kld_loss: 257.0991 total_loss: 1879.4589 learning rate: 0.1658\n",
      "Training Results - Epoch 28 - y_reconc_loss: 379.1539 x_reconc_loss: 637.1311 t_reconc_loss: 607.5853 kld_loss: 255.0192 total_loss: 1878.8896 learning rate: 0.1622\n",
      "Training Results - Epoch 29 - y_reconc_loss: 379.1117 x_reconc_loss: 637.8155 t_reconc_loss: 607.5212 kld_loss: 255.4331 total_loss: 1879.8814 learning rate: 0.1586\n",
      "Training Results - Epoch 30 - y_reconc_loss: 379.2618 x_reconc_loss: 632.2162 t_reconc_loss: 606.2106 kld_loss: 261.8447 total_loss: 1879.5332 learning rate: 0.1552\n",
      "Training Results - Epoch 31 - y_reconc_loss: 379.1490 x_reconc_loss: 637.5010 t_reconc_loss: 606.5040 kld_loss: 256.0203 total_loss: 1879.1743 learning rate: 0.1518\n",
      "Training Results - Epoch 32 - y_reconc_loss: 378.7994 x_reconc_loss: 639.8415 t_reconc_loss: 608.1488 kld_loss: 252.7849 total_loss: 1879.5747 learning rate: 0.1485\n",
      "Training Results - Epoch 33 - y_reconc_loss: 379.2082 x_reconc_loss: 634.6774 t_reconc_loss: 606.9727 kld_loss: 257.7975 total_loss: 1878.6557 learning rate: 0.1453\n",
      "Training Results - Epoch 34 - y_reconc_loss: 378.7338 x_reconc_loss: 638.6187 t_reconc_loss: 609.2541 kld_loss: 253.5228 total_loss: 1880.1294 learning rate: 0.1421\n",
      "Training Results - Epoch 35 - y_reconc_loss: 379.2496 x_reconc_loss: 634.1453 t_reconc_loss: 608.5075 kld_loss: 257.6519 total_loss: 1879.5543 learning rate: 0.1390\n",
      "Training Results - Epoch 36 - y_reconc_loss: 378.6586 x_reconc_loss: 638.3082 t_reconc_loss: 607.6672 kld_loss: 254.2824 total_loss: 1878.9164 learning rate: 0.1360\n",
      "Training Results - Epoch 37 - y_reconc_loss: 379.1183 x_reconc_loss: 639.3215 t_reconc_loss: 607.5075 kld_loss: 253.9212 total_loss: 1879.8684 learning rate: 0.1331\n",
      "Training Results - Epoch 38 - y_reconc_loss: 378.5834 x_reconc_loss: 639.5045 t_reconc_loss: 608.0685 kld_loss: 252.3440 total_loss: 1878.5003 learning rate: 0.1302\n",
      "Training Results - Epoch 39 - y_reconc_loss: 379.0364 x_reconc_loss: 634.5055 t_reconc_loss: 607.4028 kld_loss: 259.1765 total_loss: 1880.1212 learning rate: 0.1273\n",
      "Training Results - Epoch 40 - y_reconc_loss: 379.0900 x_reconc_loss: 637.1801 t_reconc_loss: 610.7693 kld_loss: 254.6504 total_loss: 1881.6899 learning rate: 0.1246\n",
      "Training Results - Epoch 41 - y_reconc_loss: 378.4590 x_reconc_loss: 641.9451 t_reconc_loss: 609.5912 kld_loss: 250.1963 total_loss: 1880.1916 learning rate: 0.1219\n",
      "Training Results - Epoch 42 - y_reconc_loss: 379.0113 x_reconc_loss: 635.5419 t_reconc_loss: 606.6935 kld_loss: 257.1125 total_loss: 1878.3592 learning rate: 0.1192\n",
      "Training Results - Epoch 43 - y_reconc_loss: 379.1932 x_reconc_loss: 637.8497 t_reconc_loss: 608.0299 kld_loss: 253.9837 total_loss: 1879.0565 learning rate: 0.1166\n",
      "Training Results - Epoch 44 - y_reconc_loss: 378.7727 x_reconc_loss: 637.3520 t_reconc_loss: 608.3420 kld_loss: 254.2768 total_loss: 1878.7436 learning rate: 0.1141\n",
      "Training Results - Epoch 45 - y_reconc_loss: 379.1884 x_reconc_loss: 637.0995 t_reconc_loss: 606.9535 kld_loss: 255.1152 total_loss: 1878.3566 learning rate: 0.1116\n",
      "Training Results - Epoch 46 - y_reconc_loss: 378.6560 x_reconc_loss: 636.3090 t_reconc_loss: 609.6791 kld_loss: 255.0580 total_loss: 1879.7021 learning rate: 0.1092\n",
      "Training Results - Epoch 47 - y_reconc_loss: 378.2045 x_reconc_loss: 641.4660 t_reconc_loss: 607.3999 kld_loss: 251.6928 total_loss: 1878.7633 learning rate: 0.1068\n",
      "Training Results - Epoch 48 - y_reconc_loss: 379.4646 x_reconc_loss: 632.9612 t_reconc_loss: 607.7187 kld_loss: 258.5951 total_loss: 1878.7396 learning rate: 0.1045\n",
      "Training Results - Epoch 49 - y_reconc_loss: 378.1685 x_reconc_loss: 642.9155 t_reconc_loss: 610.3862 kld_loss: 247.9265 total_loss: 1879.3968 learning rate: 0.1022\n",
      "Training Results - Epoch 50 - y_reconc_loss: 379.0842 x_reconc_loss: 636.0251 t_reconc_loss: 609.1289 kld_loss: 256.4075 total_loss: 1880.6457 learning rate: 0.1000\n"
     ]
    },
    {
     "data": {
      "image/png": "[encoded data removed]",
      "text/plain": [
       "<Figure size 864x864 with 10 Axes>"
      ]
     },
     "metadata": {},
     "output_type": "display_data"
    }
   ],
   "source": [
    "%autoreload 2\n",
    "model = run_cevae(num_epochs=50, lr_start=0.3, lr_end=0.1,\n",
    "                  train_loader=train_loader, test_loader=test_loader, input_dim=2,\n",
    "                 plot_curves=True, print_logs=True, learn_pz=True, device=\"cpu\")"
   ]
  },
  {
   "cell_type": "code",
   "execution_count": 724,
   "metadata": {},
   "outputs": [
    {
     "name": "stdout",
     "output_type": "stream",
     "text": [
      "tensor(0.1256, grad_fn=<MeanBackward0>)\n",
      "tensor(0.1210, grad_fn=<SubBackward0>)\n"
     ]
    },
    {
     "data": {
      "text/plain": [
       "0.09212075396874564"
      ]
     },
     "execution_count": 724,
     "metadata": {},
     "output_type": "execute_result"
    }
   ],
   "source": [
    "x = torch.Tensor(df[['x0','x1']].values)\n",
    "print(modelITE(model, x, p_y_xt_f, p_t_x_f).mean())\n",
    "\n",
    "z_sample = dist.Bernoulli(torch.sigmoid(model.pz_logit)).sample((50000,))\n",
    "p_y_do1_model = torch.sigmoid(model.decoder.y1_nn(z_sample)).mean()\n",
    "p_y_do0_model =torch.sigmoid(model.decoder.y0_nn(z_sample)).mean()\n",
    "print(p_y_do1_model-p_y_do0_model)"
   ]
  },
  {
   "cell_type": "code",
   "execution_count": 657,
   "metadata": {},
   "outputs": [
    {
     "name": "stdout",
     "output_type": "stream",
     "text": [
      "tensor([0.7843], grad_fn=<SigmoidBackward>)\n",
      "P(z=1|x0:0,x1:0,t:0,y:0)\t0.8610304980990452\t0.08411217088585166\n",
      "P(z=1|x0:0,x1:0,t:0,y:1)\t0.9771644824446156\t0.005464482250322708\n",
      "P(z=1|x0:0,x1:0,t:1,y:0)\t0.8495053214844471\t0.11111111820852235\n",
      "P(z=1|x0:0,x1:0,t:1,y:1)\t0.3781767551497956\t0.5044247582308709\n",
      "P(z=1|x0:0,x1:1,t:0,y:0)\t0.9953488144013494\t0.001132503423519874\n",
      "P(z=1|x0:0,x1:1,t:0,y:1)\t0.9994117936027269\t6.782884041725017e-05\n",
      "P(z=1|x0:0,x1:1,t:1,y:0)\t0.9957594619925308\t0.0015408326742528484\n",
      "P(z=1|x0:0,x1:1,t:1,y:1)\t0.9772148890441731\t0.012410192080781795\n",
      "P(z=1|x0:1,x1:0,t:0,y:0)\t0.08835655991896733\t0.881499378332467\n",
      "P(z=1|x0:1,x1:0,t:0,y:1)\t0.4043931334387843\t0.30798478111280053\n",
      "P(z=1|x0:1,x1:0,t:1,y:0)\t0.07628049873635441\t0.9101123499974817\n",
      "P(z=1|x0:1,x1:0,t:1,y:1)\t0.009024316895300123\t0.9880162590423297\n",
      "P(z=1|x0:1,x1:1,t:0,y:0)\t0.8708516715560657\t0.08411216241238434\n",
      "P(z=1|x0:1,x1:1,t:0,y:1)\t0.9790592447882865\t0.005464481989605953\n",
      "P(z=1|x0:1,x1:1,t:1,y:0)\t0.8549970544434061\t0.11111112530593754\n",
      "P(z=1|x0:1,x1:1,t:1,y:1)\t0.3989501752710619\t0.5044247747090495\n"
     ]
    },
    {
     "data": {
      "image/png": "[encoded data removed]",
      "text/plain": [
       "<Figure size 432x288 with 1 Axes>"
      ]
     },
     "metadata": {},
     "output_type": "display_data"
    }
   ],
   "source": [
    "\"\"\"TODO: write code that tests the encoder in some way. Ideas:\n",
    "-Is the conditional distribution that it models correct?\n",
    "    -Need to get the conditional distribution from the data (generating process) and the model\n",
    "-Plot some new stuff during training time.\n",
    "-Check the ITE calculation again in case it is wrong\"\"\"\n",
    "x = torch.Tensor(df[['x0','x1']].values)\n",
    "t = torch.Tensor(df[['t']].values)\n",
    "y = torch.Tensor(df[['yf']].values)\n",
    "#dfs3[4][0][['x0','x1']].values\n",
    "plt.hist(torch.sigmoid(model.encoder(x,t,y)[2]).detach().numpy(), bins=100)\n",
    "\n",
    "def pz_given(x0,x1,t,yf):\n",
    "    return prob_df[(prob_df.z==1)&(prob_df.x0==x0)&(prob_df.x1==x1)&(prob_df.t==t)&(prob_df.yf==yf)].P.sum() \\\n",
    "            / prob_df[(prob_df.x0==x0)&(prob_df.x1==x1)&(prob_df.t==t)&(prob_df.yf==yf)].P.sum()\n",
    "print(torch.sigmoid(model.pz_logit))\n",
    "\n",
    "for (x0,x1,t,y) in itertools.product([0,1], repeat=4):\n",
    "    xt, tt, yt = torch.cat([torch.Tensor([[x0]]), torch.Tensor([[x1]])], 1), torch.Tensor([[t]]), torch.Tensor([[y]])\n",
    "    encoder_prob = torch.sigmoid(model.encoder(xt,tt,yt)[2]).item()\n",
    "    print(\"P(z=1|x0:{},x1:{},t:{},y:{})\\t{}\\t{}\".format(x0,x1,t,y,encoder_prob,pz_given(x0,x1,t,y)))"
   ]
  },
  {
   "cell_type": "code",
   "execution_count": 198,
   "metadata": {},
   "outputs": [],
   "source": [
    "def _prepare_batch(batch):\n",
    "    x = batch['X'].to(device)\n",
    "    t = batch['t'].to(device)\n",
    "    yf = batch['yf'].to(device)\n",
    "    if len(x.shape) == 1:#Temporary, making sure that shapes are bs x dim\n",
    "        x = x[:,None]\n",
    "        yf = yf[:,None]\n",
    "        t = t[:,None]\n",
    "    return x, t, yf\n",
    "\n",
    "def kld_loss_bernoulli(logits, prior=0.5):\n",
    "    # Assumes that the prior p(z=1) = 0.5\n",
    "    probs = torch.sigmoid(logits)\n",
    "    #kld = -(torch.log(probs) + torch.log(1-probs) - 2*np.log(0.5)).sum()\n",
    "    kld = (probs*torch.log(probs/prior) + (1-probs)*torch.log((1-probs)/(1-prior))).sum()\n",
    "    return kld\n",
    "\n",
    "\"\"\"Testing the optimization procedure\"\"\"\n",
    "optimizer = Adam(model.parameters(), lr=0.1)"
   ]
  },
  {
   "cell_type": "code",
   "execution_count": 268,
   "metadata": {},
   "outputs": [
    {
     "name": "stdout",
     "output_type": "stream",
     "text": [
      "tensor(1966.2356, dtype=torch.float64, grad_fn=<AddBackward0>)\n",
      "tensor(1924.3913, dtype=torch.float64, grad_fn=<AddBackward0>)\n",
      "tensor(1978.1708, dtype=torch.float64, grad_fn=<AddBackward0>)\n",
      "tensor(1971.6271, dtype=torch.float64, grad_fn=<AddBackward0>)\n",
      "tensor(1949.2959, dtype=torch.float64, grad_fn=<AddBackward0>)\n",
      "tensor(1943.2719, dtype=torch.float64, grad_fn=<AddBackward0>)\n",
      "tensor(1968.1165, dtype=torch.float64, grad_fn=<AddBackward0>)\n",
      "tensor(1873.6696, dtype=torch.float64, grad_fn=<AddBackward0>)\n",
      "tensor(1843.4486, dtype=torch.float64, grad_fn=<AddBackward0>)\n",
      "tensor(1872.9930, dtype=torch.float64, grad_fn=<AddBackward0>)\n"
     ]
    }
   ],
   "source": [
    "\n",
    "for batch in train_loader:\n",
    "    x, t, yf = _prepare_batch(batch)\n",
    "    (z_logits, x_logits0, x_logits1, t_logits0, \n",
    "             t_logits1, y_logits0, y_logits1, pz_logit) = model(x,t,yf)\n",
    "    optimizer.zero_grad()\n",
    "    kld = kld_loss_bernoulli(z_logits, prior=torch.sigmoid(pz_logit))\n",
    "    z_probs = torch.sigmoid(z_logits)\n",
    "    t_loss = -(z_probs*dist.Bernoulli(logits=t_logits1).log_prob(t) + \n",
    "                (1-z_probs)*dist.Bernoulli(logits=t_logits0).log_prob(t)).sum()\n",
    "    yf_loss = -(z_probs*dist.Bernoulli(logits=y_logits1).log_prob(yf) + \n",
    "                (1-z_probs)*dist.Bernoulli(logits=y_logits0).log_prob(yf)).sum()\n",
    "    x_loss = -(z_probs*dist.Bernoulli(logits=x_logits1).log_prob(x) + \n",
    "                (1-z_probs)*dist.Bernoulli(logits=x_logits0).log_prob(x)).sum()\n",
    "    tr_loss = x_loss + t_loss + yf_loss + kld\n",
    "    tr_loss.backward()\n",
    "    optimizer.step()\n",
    "    print(tr_loss)"
   ]
  },
  {
   "cell_type": "code",
   "execution_count": 269,
   "metadata": {},
   "outputs": [
    {
     "name": "stdout",
     "output_type": "stream",
     "text": [
      "tensor([0.7490], grad_fn=<SigmoidBackward>)\n",
      "P(z=1|x0:0,x1:0,t:0,y:0)\t0.9627679815173285\t0.9599999911696836\n",
      "P(z=1|x0:0,x1:0,t:0,y:1)\t0.9852399307112067\t0.9818181754041154\n",
      "P(z=1|x0:0,x1:0,t:1,y:0)\t0.09555018779351682\t0.07692311366163761\n",
      "P(z=1|x0:0,x1:0,t:1,y:1)\t0.3164562632285494\t0.28358209201111506\n",
      "P(z=1|x0:0,x1:1,t:0,y:0)\t0.253866155266181\t0.2285714342030078\n",
      "P(z=1|x0:0,x1:1,t:0,y:1)\t0.4746907779381085\t0.3999999862026317\n",
      "P(z=1|x0:0,x1:1,t:1,y:0)\t0.001437071581314072\t0.0010277500247772215\n",
      "P(z=1|x0:0,x1:1,t:1,y:1)\t0.006702310618792873\t0.004863067841783608\n",
      "P(z=1|x0:1,x1:0,t:0,y:0)\t0.9995459771708585\t0.9994858608359459\n",
      "P(z=1|x0:1,x1:0,t:0,y:1)\t0.9997944879701522\t0.9997714284210029\n",
      "P(z=1|x0:1,x1:0,t:1,y:0)\t0.894522765465058\t0.8709677537802593\n",
      "P(z=1|x0:1,x1:0,t:1,y:1)\t0.9713333395464633\t0.9697542438527904\n",
      "P(z=1|x0:1,x1:1,t:0,y:0)\t0.9707179553284883\t0.9599999867545224\n",
      "P(z=1|x0:1,x1:1,t:0,y:1)\t0.9881386331962361\t0.9818181759172394\n",
      "P(z=1|x0:1,x1:1,t:1,y:0)\t0.10539735820861854\t0.07692311162061452\n",
      "P(z=1|x0:1,x1:1,t:1,y:1)\t0.3401364726796605\t0.28358209446999244\n"
     ]
    },
    {
     "data": {
      "image/png": "[encoded data removed]",
      "text/plain": [
       "<Figure size 432x288 with 1 Axes>"
      ]
     },
     "metadata": {},
     "output_type": "display_data"
    }
   ],
   "source": [
    "x = torch.Tensor(df[['x0','x1']].values)\n",
    "t = torch.Tensor(df[['t']].values)\n",
    "y = torch.Tensor(df[['yf']].values)\n",
    "#dfs3[4][0][['x0','x1']].values\n",
    "plt.hist(torch.sigmoid(model.encoder(x,t,y)[2]).detach().numpy(), bins=100)\n",
    "\n",
    "def pz_given(x0,x1,t,yf):\n",
    "    return prob_df[(prob_df.z==1)&(prob_df.x0==x0)&(prob_df.x1==x1)&(prob_df.t==t)&(prob_df.yf==yf)].P.sum() \\\n",
    "            / prob_df[(prob_df.x0==x0)&(prob_df.x1==x1)&(prob_df.t==t)&(prob_df.yf==yf)].P.sum()\n",
    "print(torch.sigmoid(model.pz_logit))\n",
    "\n",
    "for (x0,x1,t,y) in itertools.product([0,1], repeat=4):\n",
    "    xt, tt, yt = torch.cat([torch.Tensor([[x0]]), torch.Tensor([[x1]])], 1), torch.Tensor([[t]]), torch.Tensor([[y]])\n",
    "    encoder_prob = torch.sigmoid(model.encoder(xt,tt,yt)[2]).item()\n",
    "    print(\"P(z=1|x0:{},x1:{},t:{},y:{})\\t{}\\t{}\".format(x0,x1,t,y,encoder_prob,pz_given(x0,x1,t,y)))"
   ]
  },
  {
   "cell_type": "code",
   "execution_count": 176,
   "metadata": {},
   "outputs": [
    {
     "data": {
      "text/plain": [
       "tensor(0.7232, device='cuda:0', grad_fn=<SubBackward0>)"
      ]
     },
     "execution_count": 176,
     "metadata": {},
     "output_type": "execute_result"
    }
   ],
   "source": [
    "z_sample = dist.Bernoulli(torch.sigmoid(model.pz_logit)).sample((50000,))\n",
    "p_y_do1_model = torch.sigmoid(model.decoder.y1_nn(z_sample)).mean()\n",
    "p_y_do0_model =torch.sigmoid(model.decoder.y0_nn(z_sample)).mean()\n",
    "p_y_do1_model - p_y_do0_model"
   ]
  },
  {
   "cell_type": "code",
   "execution_count": 175,
   "metadata": {},
   "outputs": [
    {
     "data": {
      "text/plain": [
       "tensor([0.7428], device='cuda:0', grad_fn=<SigmoidBackward>)"
      ]
     },
     "execution_count": 175,
     "metadata": {},
     "output_type": "execute_result"
    }
   ],
   "source": [
    "torch.sigmoid(model.pz_logit)"
   ]
  },
  {
   "cell_type": "code",
   "execution_count": 173,
   "metadata": {},
   "outputs": [
    {
     "data": {
      "text/plain": [
       "tensor([0.5000], device='cuda:0')"
      ]
     },
     "execution_count": 173,
     "metadata": {},
     "output_type": "execute_result"
    }
   ],
   "source": [
    "torch.Tensor([0.5]).to(\"cuda\")"
   ]
  },
  {
   "cell_type": "code",
   "execution_count": 101,
   "metadata": {},
   "outputs": [],
   "source": [
    "%autoreload 2\n",
    "zs, xs, ts, ys = model.decoder.sample(20000)"
   ]
  },
  {
   "cell_type": "code",
   "execution_count": 104,
   "metadata": {},
   "outputs": [
    {
     "name": "stdout",
     "output_type": "stream",
     "text": [
      "Marginal probs according to VAE and according to the data\n",
      "P(x0=0,x1=0,t=0,yf=0)\t0.0375(VAE)\t=0.0389(data)\t0.0365(true)\n",
      "P(x0=0,x1=0,t=0,yf=1)\t0.00935(VAE)\t=0.0067(data)\t0.0086(true)\n",
      "P(x0=0,x1=0,t=1,yf=0)\t0.00905(VAE)\t=0.0085(data)\t0.0083(true)\n",
      "P(x0=0,x1=0,t=1,yf=1)\t0.03555(VAE)\t=0.0355(data)\t0.0367(true)\n",
      "P(x0=0,x1=1,t=0,yf=0)\t0.03695(VAE)\t=0.0402(data)\t0.0401(true)\n",
      "P(x0=0,x1=1,t=0,yf=1)\t0.0067(VAE)\t=0.0052(data)\t0.0050(true)\n",
      "P(x0=0,x1=1,t=1,yf=0)\t0.06975(VAE)\t=0.0703(data)\t0.0729(true)\n",
      "P(x0=0,x1=1,t=1,yf=1)\t0.29225(VAE)\t=0.2937(data)\t0.2921(true)\n",
      "P(x0=1,x1=0,t=0,yf=0)\t0.29475(VAE)\t=0.291(data)\t0.2920(true)\n",
      "P(x0=1,x1=0,t=0,yf=1)\t0.0738(VAE)\t=0.0733(data)\t0.0729(true)\n",
      "P(x0=1,x1=0,t=1,yf=0)\t0.00415(VAE)\t=0.0031(data)\t0.0029(true)\n",
      "P(x0=1,x1=0,t=1,yf=1)\t0.03415(VAE)\t=0.036(data)\t0.0421(true)\n",
      "P(x0=1,x1=1,t=0,yf=0)\t0.03745(VAE)\t=0.039(data)\t0.0364(true)\n",
      "P(x0=1,x1=1,t=0,yf=1)\t0.0099(VAE)\t=0.0092(data)\t0.0085(true)\n",
      "P(x0=1,x1=1,t=1,yf=0)\t0.00835(VAE)\t=0.0087(data)\t0.0083(true)\n",
      "P(x0=1,x1=1,t=1,yf=1)\t0.04035(VAE)\t=0.0407(data)\t0.0367(true)\n",
      "P(t=0,yf=0)\t0.40665(VAE)\t=0.4091(data)\t0.4050(true)\n",
      "P(t=0,yf=1)\t0.09975(VAE)\t=0.0944(data)\t0.0950(true)\n",
      "P(t=1,yf=0)\t0.0913(VAE)\t=0.0906(data)\t0.0925(true)\n",
      "P(t=1,yf=1)\t0.4023(VAE)\t=0.4059(data)\t0.4075(true)\n",
      "P(t=0,yf=0,z=0)\t0.04145(VAE)\t=0.0463(data)\t0.0450(true)\n",
      "P(t=0,yf=0,z=1)\t0.3652(VAE)\t=0.3628(data)\t0.3600(true)\n",
      "P(t=0,yf=1,z=0)\t0.0078(VAE)\t=0.0058(data)\t0.0050(true)\n",
      "P(t=0,yf=1,z=1)\t0.09195(VAE)\t=0.0886(data)\t0.0900(true)\n",
      "P(t=1,yf=0,z=0)\t0.08685(VAE)\t=0.088(data)\t0.0900(true)\n",
      "P(t=1,yf=0,z=1)\t0.00445(VAE)\t=0.0026(data)\t0.0025(true)\n",
      "P(t=1,yf=1,z=0)\t0.36355(VAE)\t=0.3639(data)\t0.3600(true)\n",
      "P(t=1,yf=1,z=1)\t0.03875(VAE)\t=0.042(data)\t0.0475(true)\n"
     ]
    }
   ],
   "source": [
    "print(\"Marginal probs according to VAE and according to the data\")\n",
    "\n",
    "sample_data = torch.cat([xs,ts,ys],axis=1)\n",
    "printCombinations(sample_data, df[['x0','x1','t','yf']],prob_df)\n",
    "\n",
    "sample_data = torch.cat([ts,ys],axis=1)\n",
    "printCombinations(sample_data, df[['t','yf']],prob_df)\n",
    "\n",
    "sample_data = torch.cat([ts,ys,zs],axis=1)\n",
    "printCombinations(sample_data, df[['t','yf','z']],prob_df)"
   ]
  },
  {
   "cell_type": "code",
   "execution_count": null,
   "metadata": {},
   "outputs": [],
   "source": [
    "sample_data = torch.cat([xs,ts,ys,zs],axis=1)\n",
    "printCombinations(sample_data, df[['x0','x1','t','yf','z']])"
   ]
  }
 ],
 "metadata": {
  "anaconda-cloud": {},
  "kernelspec": {
   "display_name": "Python 3",
   "language": "python",
   "name": "python3"
  },
  "language_info": {
   "codemirror_mode": {
    "name": "ipython",
    "version": 3
   },
   "file_extension": ".py",
   "mimetype": "text/x-python",
   "name": "python",
   "nbconvert_exporter": "python",
   "pygments_lexer": "ipython3",
   "version": "3.7.6"
  }
 },
 "nbformat": 4,
 "nbformat_minor": 4
}
