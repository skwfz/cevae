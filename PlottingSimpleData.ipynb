{
 "cells": [
  {
   "cell_type": "markdown",
   "metadata": {},
   "source": [
    "# Ideas\n",
    "- Compare against analytical methods\n",
    "- Try to take in to account whether the randomness in generated data set is just bad and causes systematic error, or is it the methods\n",
    "- Looks like it's a good idea to sample the data sets as well, because there's not that much randomness in the training and AID graph can randomly increase with sample size\n",
    "- For binary data, convergence is slow for analytical methods as well as for gaussian VAE. binary VAE is really good, actually.\n",
    "\n",
    "## TODO:\n",
    "- Load the models here and plot results\n",
    "- Code new AID calculation for linear model as well"
   ]
  },
  {
   "cell_type": "code",
   "execution_count": 190,
   "metadata": {},
   "outputs": [
    {
     "name": "stdout",
     "output_type": "stream",
     "text": [
      "The autoreload extension is already loaded. To reload it, use:\n",
      "  %reload_ext autoreload\n"
     ]
    }
   ],
   "source": [
    "import numpy as np\n",
    "import pandas as pd\n",
    "import matplotlib.pyplot as plt\n",
    "from CEVAE import *\n",
    "from cevaetools import *\n",
    "from lineartoydata import *\n",
    "%load_ext autoreload\n",
    "%autoreload 2"
   ]
  },
  {
   "cell_type": "markdown",
   "metadata": {},
   "source": [
    "# Linear data param1 experiment"
   ]
  },
  {
   "cell_type": "code",
   "execution_count": 4,
   "metadata": {},
   "outputs": [],
   "source": [
    "main_folder = \"linear_data_tests\""
   ]
  },
  {
   "cell_type": "code",
   "execution_count": 6,
   "metadata": {},
   "outputs": [],
   "source": [
    "# Load data gen parameters\n",
    "sub_folder_params = \"params1\"\n",
    "[c_x, c_t, c_yz, c_yt, s_x, s_t, s_y] = load_dataparameters(main_folder, sub_folder_params)"
   ]
  },
  {
   "cell_type": "code",
   "execution_count": 7,
   "metadata": {},
   "outputs": [],
   "source": [
    "data_sub_folder = \"params1data500to8000\"\n",
    "param_times = 10\n",
    "dfs, datasets = load_dfs(main_folder, data_sub_folder, param_times=param_times)"
   ]
  },
  {
   "cell_type": "code",
   "execution_count": 16,
   "metadata": {},
   "outputs": [],
   "source": [
    "device=\"cpu\"\n",
    "\n",
    "num_epochs=100\n",
    "lr_start=0.01\n",
    "lr_end=0.001\n",
    "z_dim=10\n",
    "p_y_zt_nn_layers=3\n",
    "p_y_zt_nn_width=30\n",
    "p_t_z_nn_layers=3\n",
    "p_t_z_nn_width=30\n",
    "p_x_z_nn_layers=3\n",
    "p_x_z_nn_width=30\n",
    "q_z_nn_layers=3\n",
    "q_z_nn_width=30\n",
    "t_mode=0\n",
    "y_mode=0\n",
    "x_mode=np.array([0,0])\n",
    "x_dim = 2\n",
    "ty_separate_enc=False\n",
    "z_mode=0\n",
    "common_stds = False\n",
    "\n",
    "train_arguments = [num_epochs, lr_start, lr_end, x_dim, z_dim,\n",
    "                p_y_zt_nn_layers, p_y_zt_nn_width, \n",
    "                p_t_z_nn_layers, p_t_z_nn_width,\n",
    "                p_x_z_nn_layers, p_x_z_nn_width,\n",
    "                q_z_nn_layers, q_z_nn_width, t_mode, y_mode,\n",
    "                x_mode, ty_separate_enc, z_mode, common_stds]\n",
    "datasize = [500,1000,2000,3000,4000,5000,6000,7000,8000]\n",
    "labels = [str(dsize) for dsize in datasize]\n",
    "\n",
    "sub_folder_model = \"params1data500to8000NNmodels\"\n",
    "models_NN, losses_NN = load_models_losses(main_folder, sub_folder_model, train_arguments, labels, device)"
   ]
  },
  {
   "cell_type": "code",
   "execution_count": 19,
   "metadata": {},
   "outputs": [],
   "source": [
    "num_epochs=100\n",
    "lr_start=0.01\n",
    "lr_end=0.01\n",
    "z_dim=1\n",
    "p_y_zt_nn_layers=0\n",
    "p_y_zt_nn_width=30\n",
    "p_t_z_nn_layers=0\n",
    "p_t_z_nn_width=30\n",
    "p_x_z_nn_layers=0\n",
    "p_x_z_nn_width=30\n",
    "q_z_nn_layers=0\n",
    "q_z_nn_width=30\n",
    "t_mode=0\n",
    "y_mode=0\n",
    "x_mode=np.array([0,0])\n",
    "x_dim = 2\n",
    "ty_separate_enc=False\n",
    "z_mode=0\n",
    "common_stds = True\n",
    "x_loss_scaling = 1\n",
    "\n",
    "train_arguments = [num_epochs, lr_start, lr_end, x_dim, z_dim,\n",
    "                p_y_zt_nn_layers, p_y_zt_nn_width, \n",
    "                p_t_z_nn_layers, p_t_z_nn_width,\n",
    "                p_x_z_nn_layers, p_x_z_nn_width,\n",
    "                q_z_nn_layers, q_z_nn_width, t_mode, y_mode,\n",
    "                x_mode, ty_separate_enc, z_mode, x_loss_scaling, common_stds]\n",
    "\n",
    "sub_folder_model = \"params1data500to8000linearmodels\"\n",
    "models_linear, losses_linear = load_models_losses(main_folder, sub_folder_model, train_arguments, labels, device)"
   ]
  },
  {
   "cell_type": "code",
   "execution_count": 18,
   "metadata": {},
   "outputs": [],
   "source": [
    "num_epochs=100\n",
    "lr_start=0.01\n",
    "lr_end=0.01\n",
    "z_dim=2\n",
    "p_y_zt_nn_layers=0\n",
    "p_y_zt_nn_width=30\n",
    "p_t_z_nn_layers=0\n",
    "p_t_z_nn_width=30\n",
    "p_x_z_nn_layers=0\n",
    "p_x_z_nn_width=30\n",
    "q_z_nn_layers=0\n",
    "q_z_nn_width=30\n",
    "t_mode=0\n",
    "y_mode=0\n",
    "x_mode=np.array([0,0])\n",
    "x_dim = 2\n",
    "ty_separate_enc=False\n",
    "z_mode=0\n",
    "common_stds = True\n",
    "x_loss_scaling = 1\n",
    "\n",
    "train_arguments = [num_epochs, lr_start, lr_end, x_dim, z_dim,\n",
    "                p_y_zt_nn_layers, p_y_zt_nn_width, \n",
    "                p_t_z_nn_layers, p_t_z_nn_width,\n",
    "                p_x_z_nn_layers, p_x_z_nn_width,\n",
    "                q_z_nn_layers, q_z_nn_width, t_mode, y_mode,\n",
    "                x_mode, ty_separate_enc, z_mode, x_loss_scaling, common_stds]\n",
    "\n",
    "sub_folder_model = \"params1data500to8000linearmodelszdim2\"\n",
    "models_linear_zdim2, losses_linear_zdim2 = load_models_losses(main_folder, sub_folder_model, train_arguments, labels, device)"
   ]
  },
  {
   "cell_type": "code",
   "execution_count": 23,
   "metadata": {
    "scrolled": true
   },
   "outputs": [
    {
     "data": {
      "text/plain": [
       "(0.027517254436682025,\n",
       " array([[3.46953532e-48, 1.20684194e-46, 3.93773939e-45, ...,\n",
       "         2.05225802e-02, 1.42554039e-02, 9.72338002e-03],\n",
       "        [2.47363873e-41, 6.33809710e-40, 1.52365479e-38, ...,\n",
       "         1.58212694e-02, 1.06229464e-02, 6.94331860e-03],\n",
       "        [8.36797678e-49, 2.98931380e-47, 1.00190573e-45, ...,\n",
       "         1.37478818e-02, 9.49685813e-03, 6.43706429e-03],\n",
       "        ...,\n",
       "        [6.28945131e-03, 9.23859201e-03, 1.33324436e-02, ...,\n",
       "         5.77144510e-37, 2.88692284e-38, 1.36088292e-39],\n",
       "        [7.36254307e-03, 1.10342484e-02, 1.61809805e-02, ...,\n",
       "         1.09250844e-44, 3.85802724e-46, 1.28474224e-47],\n",
       "        [9.88625173e-03, 1.42070237e-02, 2.00873120e-02, ...,\n",
       "         3.53522897e-45, 1.24188777e-46, 4.11343774e-48]]),\n",
       " array([[4.36804261e-37, 7.10396517e-36, 1.08636500e-34, ...,\n",
       "         2.68982992e-02, 1.90519683e-02, 1.32300308e-02],\n",
       "        [2.46313202e-36, 3.85641679e-35, 5.67755536e-34, ...,\n",
       "         2.17887824e-02, 1.52454536e-02, 1.04581223e-02],\n",
       "        [1.35670358e-35, 2.04491748e-34, 2.89847192e-33, ...,\n",
       "         1.75171368e-02, 1.21077340e-02, 8.20481128e-03],\n",
       "        ...,\n",
       "        [8.20481128e-03, 1.21077340e-02, 1.75171368e-02, ...,\n",
       "         2.89847192e-33, 2.04491748e-34, 1.35670358e-35],\n",
       "        [1.04581223e-02, 1.52454536e-02, 2.17887824e-02, ...,\n",
       "         5.67755536e-34, 3.85641679e-35, 2.46313202e-36],\n",
       "        [1.32300308e-02, 1.90519683e-02, 2.68982992e-02, ...,\n",
       "         1.08636500e-34, 7.10396517e-36, 4.36804261e-37]]),\n",
       " array([-6.        , -5.87878788, -5.75757576, -5.63636364, -5.51515152,\n",
       "        -5.39393939, -5.27272727, -5.15151515, -5.03030303, -4.90909091,\n",
       "        -4.78787879, -4.66666667, -4.54545455, -4.42424242, -4.3030303 ,\n",
       "        -4.18181818, -4.06060606, -3.93939394, -3.81818182, -3.6969697 ,\n",
       "        -3.57575758, -3.45454545, -3.33333333, -3.21212121, -3.09090909,\n",
       "        -2.96969697, -2.84848485, -2.72727273, -2.60606061, -2.48484848,\n",
       "        -2.36363636, -2.24242424, -2.12121212, -2.        , -1.87878788,\n",
       "        -1.75757576, -1.63636364, -1.51515152, -1.39393939, -1.27272727,\n",
       "        -1.15151515, -1.03030303, -0.90909091, -0.78787879, -0.66666667,\n",
       "        -0.54545455, -0.42424242, -0.3030303 , -0.18181818, -0.06060606,\n",
       "         0.06060606,  0.18181818,  0.3030303 ,  0.42424242,  0.54545455,\n",
       "         0.66666667,  0.78787879,  0.90909091,  1.03030303,  1.15151515,\n",
       "         1.27272727,  1.39393939,  1.51515152,  1.63636364,  1.75757576,\n",
       "         1.87878788,  2.        ,  2.12121212,  2.24242424,  2.36363636,\n",
       "         2.48484848,  2.60606061,  2.72727273,  2.84848485,  2.96969697,\n",
       "         3.09090909,  3.21212121,  3.33333333,  3.45454545,  3.57575758,\n",
       "         3.6969697 ,  3.81818182,  3.93939394,  4.06060606,  4.18181818,\n",
       "         4.3030303 ,  4.42424242,  4.54545455,  4.66666667,  4.78787879,\n",
       "         4.90909091,  5.03030303,  5.15151515,  5.27272727,  5.39393939,\n",
       "         5.51515152,  5.63636364,  5.75757576,  5.87878788,  6.        ]),\n",
       " array([-6.        , -5.87878788, -5.75757576, -5.63636364, -5.51515152,\n",
       "        -5.39393939, -5.27272727, -5.15151515, -5.03030303, -4.90909091,\n",
       "        -4.78787879, -4.66666667, -4.54545455, -4.42424242, -4.3030303 ,\n",
       "        -4.18181818, -4.06060606, -3.93939394, -3.81818182, -3.6969697 ,\n",
       "        -3.57575758, -3.45454545, -3.33333333, -3.21212121, -3.09090909,\n",
       "        -2.96969697, -2.84848485, -2.72727273, -2.60606061, -2.48484848,\n",
       "        -2.36363636, -2.24242424, -2.12121212, -2.        , -1.87878788,\n",
       "        -1.75757576, -1.63636364, -1.51515152, -1.39393939, -1.27272727,\n",
       "        -1.15151515, -1.03030303, -0.90909091, -0.78787879, -0.66666667,\n",
       "        -0.54545455, -0.42424242, -0.3030303 , -0.18181818, -0.06060606,\n",
       "         0.06060606,  0.18181818,  0.3030303 ,  0.42424242,  0.54545455,\n",
       "         0.66666667,  0.78787879,  0.90909091,  1.03030303,  1.15151515,\n",
       "         1.27272727,  1.39393939,  1.51515152,  1.63636364,  1.75757576,\n",
       "         1.87878788,  2.        ,  2.12121212,  2.24242424,  2.36363636,\n",
       "         2.48484848,  2.60606061,  2.72727273,  2.84848485,  2.96969697,\n",
       "         3.09090909,  3.21212121,  3.33333333,  3.45454545,  3.57575758,\n",
       "         3.6969697 ,  3.81818182,  3.93939394,  4.06060606,  4.18181818,\n",
       "         4.3030303 ,  4.42424242,  4.54545455,  4.66666667,  4.78787879,\n",
       "         4.90909091,  5.03030303,  5.15151515,  5.27272727,  5.39393939,\n",
       "         5.51515152,  5.63636364,  5.75757576,  5.87878788,  6.        ]),\n",
       " array([6.68812045e-05, 9.31990423e-05, 1.28996465e-04, 1.77338558e-04,\n",
       "        2.42151715e-04, 3.28421016e-04, 4.42418575e-04, 5.91963311e-04,\n",
       "        7.86711059e-04, 1.03847190e-03, 1.36154900e-03, 1.77309021e-03,\n",
       "        2.29344022e-03, 2.94647697e-03, 3.75991228e-03, 4.76553221e-03,\n",
       "        5.99934922e-03, 7.50163471e-03, 9.31679884e-03, 1.14930835e-02,\n",
       "        1.40820357e-02, 1.71377325e-02, 2.07157334e-02, 2.48717477e-02,\n",
       "        2.96600127e-02, 3.51313953e-02, 4.13312463e-02, 4.82970541e-02,\n",
       "        5.60559632e-02, 6.46222440e-02, 7.39948148e-02, 8.41549327e-02,\n",
       "        9.50641795e-02, 1.06662871e-01, 1.18869017e-01, 1.31577948e-01,\n",
       "        1.44662707e-01, 1.57975268e-01, 1.71348636e-01, 1.84599806e-01,\n",
       "        1.97533549e-01, 2.09946931e-01, 2.21634432e-01, 2.32393497e-01,\n",
       "        2.42030304e-01, 2.50365544e-01, 2.57239946e-01, 2.62519336e-01,\n",
       "        2.66098988e-01, 2.67907077e-01, 2.67907077e-01, 2.66098988e-01,\n",
       "        2.62519336e-01, 2.57239946e-01, 2.50365544e-01, 2.42030304e-01,\n",
       "        2.32393497e-01, 2.21634432e-01, 2.09946931e-01, 1.97533549e-01,\n",
       "        1.84599806e-01, 1.71348636e-01, 1.57975268e-01, 1.44662707e-01,\n",
       "        1.31577948e-01, 1.18869017e-01, 1.06662871e-01, 9.50641795e-02,\n",
       "        8.41549327e-02, 7.39948148e-02, 6.46222440e-02, 5.60559632e-02,\n",
       "        4.82970541e-02, 4.13312463e-02, 3.51313953e-02, 2.96600127e-02,\n",
       "        2.48717477e-02, 2.07157334e-02, 1.71377325e-02, 1.40820357e-02,\n",
       "        1.14930835e-02, 9.31679884e-03, 7.50163471e-03, 5.99934922e-03,\n",
       "        4.76553221e-03, 3.75991228e-03, 2.94647697e-03, 2.29344022e-03,\n",
       "        1.77309021e-03, 1.36154900e-03, 1.03847190e-03, 7.86711059e-04,\n",
       "        5.91963311e-04, 4.42418575e-04, 3.28421016e-04, 2.42151715e-04,\n",
       "        1.77338558e-04, 1.28996465e-04, 9.31990423e-05, 6.68812045e-05]))"
      ]
     },
     "execution_count": 23,
     "metadata": {},
     "output_type": "execute_result"
    }
   ],
   "source": [
    "model = models_linear['8000'][9]\n",
    "estimate_AID_lineardata(model, c_yt, c_yz, s_y, c_t, s_t, c_x, n=100, lim=6, nsample=10000)"
   ]
  },
  {
   "cell_type": "code",
   "execution_count": 83,
   "metadata": {},
   "outputs": [
    {
     "name": "stdout",
     "output_type": "stream",
     "text": [
      "500\n",
      "1000\n",
      "2000\n",
      "3000\n",
      "4000\n",
      "5000\n",
      "6000\n",
      "7000\n",
      "8000\n"
     ]
    }
   ],
   "source": [
    "AID_NN = np.zeros((param_times, len(labels)))\n",
    "#AID_linear = np.zeros((param_times, len(labels)))\n",
    "#AID_linear_zdim2 = np.zeros((param_times, len(labels)))\n",
    "\n",
    "#gothrough = [(AID_NN, models_NN),(AID_linear, models_linear),(AID_linear_zdim2, models_linear_zdim2)]\n",
    "gothrough = [(AID_NN, models_NN)]\n",
    "for AID_,models_ in gothrough:\n",
    "    for i,label in enumerate(labels):\n",
    "        print(label)\n",
    "        for j in range(param_times):\n",
    "            AID_[j,i] = estimate_AID_lineardata(models_[label][j], c_yt, \n",
    "                            c_yz, s_y, c_t, s_t, c_x, n=100, lim=6, nsample=1000)[0]"
   ]
  },
  {
   "cell_type": "code",
   "execution_count": 84,
   "metadata": {
    "scrolled": true
   },
   "outputs": [
    {
     "data": {
      "image/png": "[encoded data removed]",
      "text/plain": [
       "<Figure size 864x288 with 3 Axes>"
      ]
     },
     "metadata": {
      "needs_background": "light"
     },
     "output_type": "display_data"
    }
   ],
   "source": [
    "fig, ax = plt.subplots(1,3,figsize=(12,4))\n",
    "#plt.boxplot(AID_NN)\n",
    "for i in range(len(labels)):\n",
    "    ax[0].boxplot(AID_NN[~np.isnan(AID_NN[:,i])][:,i], positions=[datasize[i]], widths=[300])\n",
    "    ax[1].boxplot(AID_linear[~np.isnan(AID_linear[:,i])][:,i], positions=[datasize[i]], widths=[300])\n",
    "    ax[2].boxplot(AID_linear_zdim2[~np.isnan(AID_linear_zdim2[:,i])][:,i], positions=[datasize[i]], widths=[300])\n",
    "plt.show()"
   ]
  },
  {
   "cell_type": "markdown",
   "metadata": {},
   "source": [
    "# Binary data"
   ]
  },
  {
   "cell_type": "code",
   "execution_count": 85,
   "metadata": {},
   "outputs": [],
   "source": [
    "main_folder = \"binary_data_tests\""
   ]
  },
  {
   "cell_type": "code",
   "execution_count": 86,
   "metadata": {},
   "outputs": [],
   "source": [
    "# Load data gen parameters\n",
    "sub_folder_params = \"params1\"\n",
    "[z_probs,x_probs,t_probs,y_probs] = load_dataparameters(main_folder, sub_folder_params)"
   ]
  },
  {
   "cell_type": "code",
   "execution_count": 87,
   "metadata": {},
   "outputs": [],
   "source": [
    "data_sub_folder = \"params1data500to8000\"\n",
    "param_times = 10\n",
    "dfs, datasets = load_dfs(main_folder, data_sub_folder, param_times=param_times)"
   ]
  },
  {
   "cell_type": "code",
   "execution_count": 89,
   "metadata": {},
   "outputs": [],
   "source": [
    "device = 'cpu'\n",
    "\n",
    "datasize = [500,1000,3000,5000,10000,15000,20000]\n",
    "\n",
    "num_epochs=200\n",
    "lr_start=0.01\n",
    "lr_end=0.001\n",
    "z_dim=10\n",
    "p_y_zt_nn_layers=3\n",
    "p_y_zt_nn_width=30\n",
    "p_t_z_nn_layers=3\n",
    "p_t_z_nn_width=30\n",
    "p_x_z_nn_layers=3\n",
    "p_x_z_nn_width=30\n",
    "q_z_nn_layers=3\n",
    "q_z_nn_width=30\n",
    "t_mode=2\n",
    "y_mode=2\n",
    "x_mode=np.array([2,2])\n",
    "x_dim = 2\n",
    "ty_separate_enc=False\n",
    "z_mode=0\n",
    "x_loss_scaling=1\n",
    "common_stds = False\n",
    "\n",
    "train_arguments = [num_epochs, lr_start, lr_end, x_dim, z_dim,\n",
    "                p_y_zt_nn_layers, p_y_zt_nn_width, \n",
    "                p_t_z_nn_layers, p_t_z_nn_width,\n",
    "                p_x_z_nn_layers, p_x_z_nn_width,\n",
    "                q_z_nn_layers, q_z_nn_width, t_mode, y_mode,\n",
    "                x_mode, ty_separate_enc, z_mode, x_loss_scaling, common_stds]\n",
    "labels = [str(dsize) for dsize in datasize]\n",
    "sub_folder_model = \"params1data500to8000NNmodels\"\n",
    "models_NN, losses_NN = load_models_losses(main_folder, sub_folder_model, train_arguments, labels, device)"
   ]
  },
  {
   "cell_type": "code",
   "execution_count": 90,
   "metadata": {},
   "outputs": [],
   "source": [
    "num_epochs=200\n",
    "lr_start=0.01\n",
    "lr_end=0.001\n",
    "z_dim=1\n",
    "p_y_zt_nn_layers=3\n",
    "p_y_zt_nn_width=30\n",
    "p_t_z_nn_layers=3\n",
    "p_t_z_nn_width=30\n",
    "p_x_z_nn_layers=3\n",
    "p_x_z_nn_width=30\n",
    "q_z_nn_layers=3\n",
    "q_z_nn_width=30\n",
    "t_mode=2\n",
    "y_mode=2\n",
    "x_mode=np.array([2,2])\n",
    "x_dim = 2\n",
    "ty_separate_enc=False\n",
    "z_mode=0\n",
    "train_arguments = [num_epochs, lr_start, lr_end, x_dim, z_dim,\n",
    "                p_y_zt_nn_layers, p_y_zt_nn_width, \n",
    "                p_t_z_nn_layers, p_t_z_nn_width,\n",
    "                p_x_z_nn_layers, p_x_z_nn_width,\n",
    "                q_z_nn_layers, q_z_nn_width, t_mode, y_mode,\n",
    "                x_mode, ty_separate_enc, z_mode, x_loss_scaling, common_stds]\n",
    "sub_folder_model = \"params1data500to8000NNmodelszdim1\"\n",
    "\n",
    "models_NN_zdim1, losses_NN_zdim1 = load_models_losses(main_folder, sub_folder_model, train_arguments, labels, device)"
   ]
  },
  {
   "cell_type": "code",
   "execution_count": 91,
   "metadata": {},
   "outputs": [],
   "source": [
    "num_epochs=200\n",
    "lr_start=0.01\n",
    "lr_end=0.001\n",
    "z_dim=1\n",
    "p_y_zt_nn_layers=3\n",
    "p_y_zt_nn_width=30\n",
    "p_t_z_nn_layers=3\n",
    "p_t_z_nn_width=30\n",
    "p_x_z_nn_layers=3\n",
    "p_x_z_nn_width=30\n",
    "q_z_nn_layers=3\n",
    "q_z_nn_width=30\n",
    "t_mode=2\n",
    "y_mode=2\n",
    "x_mode=np.array([2,2])\n",
    "x_dim = 2\n",
    "ty_separate_enc=False\n",
    "z_mode=2\n",
    "train_arguments = [num_epochs, lr_start, lr_end, x_dim, z_dim,\n",
    "                p_y_zt_nn_layers, p_y_zt_nn_width, \n",
    "                p_t_z_nn_layers, p_t_z_nn_width,\n",
    "                p_x_z_nn_layers, p_x_z_nn_width,\n",
    "                q_z_nn_layers, q_z_nn_width, t_mode, y_mode,\n",
    "                x_mode, ty_separate_enc, z_mode, x_loss_scaling, common_stds]\n",
    "sub_folder_model = \"params1data500to8000NNmodelsbinaryz\"\n",
    "models_NN_binaryz, losses_NN_binaryz = load_models_losses(main_folder, sub_folder_model, train_arguments, labels, device)"
   ]
  },
  {
   "cell_type": "code",
   "execution_count": 92,
   "metadata": {
    "scrolled": true
   },
   "outputs": [
    {
     "name": "stdout",
     "output_type": "stream",
     "text": [
      "500\n",
      "1000\n",
      "3000\n",
      "5000\n",
      "10000\n",
      "15000\n",
      "20000\n",
      "500\n",
      "1000\n",
      "3000\n",
      "5000\n",
      "10000\n",
      "15000\n",
      "20000\n",
      "500\n",
      "1000\n",
      "3000\n",
      "5000\n",
      "10000\n",
      "15000\n",
      "20000\n"
     ]
    }
   ],
   "source": [
    "AID_NN = np.zeros((param_times, len(labels)))\n",
    "AID_NN_zdim1 = np.zeros((param_times, len(labels)))\n",
    "AID_NN_binaryz = np.zeros((param_times, len(labels)))\n",
    "\n",
    "gothrough = [(AID_NN, models_NN),(AID_NN_zdim1, models_NN_zdim1),(AID_NN_binaryz, models_NN_binaryz)]\n",
    "for AID_,models_ in gothrough:\n",
    "    for i,label in enumerate(labels):\n",
    "        print(label)\n",
    "        for j in range(param_times):\n",
    "            AID_[j,i] = estimate_AID(models_[label][j],z_probs,t_probs,y_probs,n=10000)"
   ]
  },
  {
   "cell_type": "code",
   "execution_count": 213,
   "metadata": {},
   "outputs": [],
   "source": [
    "# analytical AIDs\n",
    "from binary_analytical_methods import *\n",
    "AID_miao = np.zeros(len(labels))\n",
    "py_dots_miao = np.zeros((len(labels),2))\n",
    "for i, label in enumerate(labels):\n",
    "    py_dot1, py_dot0 = analytical_miao_pydot(dfs[label][0])\n",
    "    py_dot_miao = np.array([[1-py_dot0.item(), py_dot0.item()],[1-py_dot1.item(), py_dot1.item()]])\n",
    "    py_dots_miao[i,:] = np.array([py_dot0.item(),py_dot1.item()])\n",
    "    AID_miao[i] = estimate_AID_from_py_dot(py_dot_miao, z_probs, t_probs, y_probs)"
   ]
  },
  {
   "cell_type": "code",
   "execution_count": 217,
   "metadata": {
    "scrolled": true
   },
   "outputs": [
    {
     "data": {
      "image/png": "[encoded data removed]",
      "text/plain": [
       "<Figure size 1152x288 with 4 Axes>"
      ]
     },
     "metadata": {
      "needs_background": "light"
     },
     "output_type": "display_data"
    }
   ],
   "source": [
    "fig, ax = plt.subplots(1,4,figsize=(16,4))\n",
    "for i in range(len(labels)):\n",
    "    ax[0].boxplot(AID_NN[~np.isnan(AID_NN[:,i])][:,i], positions=[datasize[i]], widths=[500])\n",
    "    ax[1].boxplot(AID_NN_zdim1[~np.isnan(AID_NN_zdim1[:,i])][:,i], positions=[datasize[i]], widths=[500])\n",
    "    ax[2].boxplot(AID_NN_binaryz[~np.isnan(AID_NN_binaryz[:,i])][:,i], positions=[datasize[i]], widths=[500])\n",
    "ax[3].plot(datasize[2:], AID_miao[2:], 'o-')\n",
    "plt.show()"
   ]
  },
  {
   "cell_type": "code",
   "execution_count": 97,
   "metadata": {},
   "outputs": [
    {
     "name": "stdout",
     "output_type": "stream",
     "text": [
      "(array([[0.15771293]]), array([[0.33442923]]))\n"
     ]
    },
    {
     "data": {
      "text/plain": [
       "array([[0.65640439, 0.34359561],\n",
       "       [0.81790822, 0.18209178]])"
      ]
     },
     "execution_count": 97,
     "metadata": {},
     "output_type": "execute_result"
    }
   ],
   "source": [
    "from binary_analytical_methods import *\n",
    "print(analytical_miao_pydot(dfs['20000'][0]))\n",
    "estimate_true_py_dot(z_probs,y_probs)"
   ]
  }
 ],
 "metadata": {
  "anaconda-cloud": {},
  "kernelspec": {
   "display_name": "Python 3",
   "language": "python",
   "name": "python3"
  },
  "language_info": {
   "codemirror_mode": {
    "name": "ipython",
    "version": 3
   },
   "file_extension": ".py",
   "mimetype": "text/x-python",
   "name": "python",
   "nbconvert_exporter": "python",
   "pygments_lexer": "ipython3",
   "version": "3.7.3"
  }
 },
 "nbformat": 4,
 "nbformat_minor": 4
}
