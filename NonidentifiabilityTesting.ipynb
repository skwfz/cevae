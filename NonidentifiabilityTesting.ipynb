{
 "cells": [
  {
   "cell_type": "code",
   "execution_count": 460,
   "metadata": {},
   "outputs": [
    {
     "name": "stdout",
     "output_type": "stream",
     "text": [
      "The autoreload extension is already loaded. To reload it, use:\n",
      "  %reload_ext autoreload\n"
     ]
    }
   ],
   "source": [
    "from binarytoydata import *\n",
    "from binary_data_tools import *\n",
    "import pandas as pd\n",
    "import numpy as np\n",
    "import math\n",
    "from lineardatamodels import *\n",
    "from lineartoydata import *\n",
    "from lineardatatools import *\n",
    "%load_ext autoreload\n",
    "%autoreload 2"
   ]
  },
  {
   "cell_type": "markdown",
   "metadata": {},
   "source": [
    "## First Idea:\n",
    "- Two ways to generate binary (x,t,y) data: \n",
    "    - with binary z and conditional prob. tables\n",
    "    - with Gaussian z and linear + sigmoid functions\n",
    "- Can we generate identical (x,t,y) distributions from these (but maybe different causal effects?)\n",
    "    - First create the Gaussian z data -> use Pearls' method to reconstruct a matching data generating process with binary z\n",
    "    - End result: Doesn't work, seems that with gaussian z we can generate p(x,t,y) not expressible with binary z"
   ]
  },
  {
   "cell_type": "markdown",
   "metadata": {},
   "source": [
    "# Test if analytical methods work"
   ]
  },
  {
   "cell_type": "code",
   "execution_count": 302,
   "metadata": {},
   "outputs": [],
   "source": [
    "num_samples = 5000000\n",
    "z_expectation = torch.Tensor([0.6])\n",
    "x_expectations = torch.Tensor([[0.1,0.9],\n",
    "                              [0.8,0.1]])\n",
    "x_dim = len(x_expectations)\n",
    "t_expectations = torch.Tensor([[0.3,0.7]])\n",
    "y_expectations = torch.Tensor([[0.85,0.9,0.1,0.95]])\n",
    "\n",
    "df = binary_data_df(num_samples, z_expectation, x_expectations, t_expectations, y_expectations)"
   ]
  },
  {
   "cell_type": "code",
   "execution_count": 297,
   "metadata": {},
   "outputs": [],
   "source": [
    "calculate_prob = generate_calculate_prob(z_expectation, x_expectations, t_expectations, y_expectations)\n",
    "prob_df = pd.DataFrame([c + (calculate_prob(c[0], c[1:3], c[3], c[4]),) for c in itertools.product([0,1],repeat=5)], \n",
    "                       columns=['z'] + ['x{}'.format(i) for i in range(x_dim)] + ['t', 'yf', 'P'])"
   ]
  },
  {
   "cell_type": "code",
   "execution_count": 265,
   "metadata": {},
   "outputs": [],
   "source": [
    "def calculate_pydot(prob_df):#Same as in the tools, just returns p(y|do(t)) instead of ATE\n",
    "    true_py_do1 = 0\n",
    "    true_py_do0 = 0\n",
    "    for z in range(2):\n",
    "        true_py_do1 += prob_df[(prob_df.yf==1)&(prob_df.z==z)&(prob_df.t==1)].P.sum()\\\n",
    "                   *1/prob_df[(prob_df.z==z)&(prob_df.t==1)].P.sum()\\\n",
    "                   *prob_df[(prob_df.z==z)].P.sum()\n",
    "        true_py_do0 += prob_df[(prob_df.yf==1)&(prob_df.z==z)&(prob_df.t==0)].P.sum()\\\n",
    "                   *1/prob_df[(prob_df.z==z)&(prob_df.t==0)].P.sum()\\\n",
    "                   *prob_df[(prob_df.z==z)].P.sum()\n",
    "    return true_py_do1, true_py_do0"
   ]
  },
  {
   "cell_type": "code",
   "execution_count": 266,
   "metadata": {},
   "outputs": [
    {
     "name": "stdout",
     "output_type": "stream",
     "text": [
      "0.529999990106756\n",
      "(0.9299999720597829, 0.39999998195302694)\n"
     ]
    }
   ],
   "source": [
    "print(calculate_true_ate(prob_df))\n",
    "print(calculate_pydot(prob_df))"
   ]
  },
  {
   "cell_type": "markdown",
   "metadata": {},
   "source": [
    "### Estimation from exact prob dist"
   ]
  },
  {
   "cell_type": "code",
   "execution_count": 267,
   "metadata": {},
   "outputs": [],
   "source": [
    "def p(var,val):\n",
    "    return prob_df[(prob_df[var] == val).prod(1).map(bool)].P.sum()"
   ]
  },
  {
   "cell_type": "code",
   "execution_count": 268,
   "metadata": {},
   "outputs": [
    {
     "name": "stdout",
     "output_type": "stream",
     "text": [
      "[[0.92999997]]\n",
      "[[0.39999999]]\n"
     ]
    }
   ],
   "source": [
    "py_x0_te1 = np.array([[p([\"x0\",\"t\",\"yf\"],(1,1,1))/p([\"x0\",\"t\"],(1,1)), p([\"x0\",\"t\",\"yf\"],(0,1,1))/p([\"x0\",\"t\"],(0,1))]])\n",
    "px1_x0_te1 = np.array([[p([\"x1\",\"x0\",\"t\"],(1,1,1))/p([\"x0\",\"t\"],(1,1)), p([\"x1\",\"x0\",\"t\"],(1,0,1))/p([\"x0\",\"t\"],(0,1))],\n",
    "                      [p([\"x1\",\"x0\",\"t\"],(0,1,1))/p([\"x0\",\"t\"],(1,1)),p([\"x1\",\"x0\",\"t\"],(0,0,1))/p([\"x0\",\"t\"],(0,1))]])\n",
    "px1 = np.array([[p([\"x1\"],1)],[p([\"x1\"],0)]])\n",
    "\n",
    "py_x0_te0 = np.array([[p([\"x0\",\"t\",\"yf\"],(1,0,1))/p([\"x0\",\"t\"],(1,0)), p([\"x0\",\"t\",\"yf\"],(0,0,1))/p([\"x0\",\"t\"],(0,0))]])\n",
    "px1_x0_te0 = np.array([[p([\"x1\",\"x0\",\"t\"],(1,1,0))/p([\"x0\",\"t\"],(1,0)), p([\"x1\",\"x0\",\"t\"],(1,0,0))/p([\"x0\",\"t\"],(0,0))],\n",
    "                      [p([\"x1\",\"x0\",\"t\"],(0,1,0))/p([\"x0\",\"t\"],(1,0)),p([\"x1\",\"x0\",\"t\"],(0,0,0))/p([\"x0\",\"t\"],(0,0))]])\n",
    "\n",
    "print(py_x0_te1.dot(np.linalg.inv(px1_x0_te1)).dot(px1))\n",
    "print(py_x0_te0.dot(np.linalg.inv(px1_x0_te0)).dot(px1))"
   ]
  },
  {
   "cell_type": "markdown",
   "metadata": {},
   "source": [
    "### Estimation from data"
   ]
  },
  {
   "cell_type": "code",
   "execution_count": 303,
   "metadata": {},
   "outputs": [],
   "source": [
    "def get_p2_func(df):\n",
    "    def p2(var,val):\n",
    "        return (df[var]==val).prod(1).sum()/len(df)\n",
    "    return p2\n",
    "\n",
    "#def p2(var, val):\n",
    "#    return (df[var]==val).prod(1).sum()/len(df)"
   ]
  },
  {
   "cell_type": "code",
   "execution_count": 304,
   "metadata": {},
   "outputs": [
    {
     "name": "stdout",
     "output_type": "stream",
     "text": [
      "[[0.92995574]]\n",
      "[[0.40003858]]\n"
     ]
    }
   ],
   "source": [
    "p2 = get_p2_func(df)\n",
    "py_x0_te1 = np.array([[p2([\"x0\",\"t\",\"yf\"],(1,1,1))/p2([\"x0\",\"t\"],(1,1)), p2([\"x0\",\"t\",\"yf\"],(0,1,1))/p2([\"x0\",\"t\"],(0,1))]])\n",
    "px1_x0_te1 = np.array([[p2([\"x1\",\"x0\",\"t\"],(1,1,1))/p2([\"x0\",\"t\"],(1,1)), p2([\"x1\",\"x0\",\"t\"],(1,0,1))/p2([\"x0\",\"t\"],(0,1))],\n",
    "                      [p2([\"x1\",\"x0\",\"t\"],(0,1,1))/p2([\"x0\",\"t\"],(1,1)),p2([\"x1\",\"x0\",\"t\"],(0,0,1))/p2([\"x0\",\"t\"],(0,1))]])\n",
    "px1 = np.array([[p2([\"x1\"],1)],[p2([\"x1\"],0)]])\n",
    "\n",
    "py_x0_te0 = np.array([[p2([\"x0\",\"t\",\"yf\"],(1,0,1))/p2([\"x0\",\"t\"],(1,0)), p2([\"x0\",\"t\",\"yf\"],(0,0,1))/p2([\"x0\",\"t\"],(0,0))]])\n",
    "px1_x0_te0 = np.array([[p2([\"x1\",\"x0\",\"t\"],(1,1,0))/p2([\"x0\",\"t\"],(1,0)), p2([\"x1\",\"x0\",\"t\"],(1,0,0))/p2([\"x0\",\"t\"],(0,0))],\n",
    "                      [p2([\"x1\",\"x0\",\"t\"],(0,1,0))/p2([\"x0\",\"t\"],(1,0)),p2([\"x1\",\"x0\",\"t\"],(0,0,0))/p2([\"x0\",\"t\"],(0,0))]])\n",
    "\n",
    "print(py_x0_te1.dot(np.linalg.inv(px1_x0_te1)).dot(px1))\n",
    "print(py_x0_te0.dot(np.linalg.inv(px1_x0_te0)).dot(px1))"
   ]
  },
  {
   "cell_type": "markdown",
   "metadata": {},
   "source": [
    "### Estimation with Pearl's method (recover data generating process)"
   ]
  },
  {
   "cell_type": "code",
   "execution_count": 271,
   "metadata": {},
   "outputs": [
    {
     "data": {
      "text/plain": [
       "array([0.92999995])"
      ]
     },
     "execution_count": 271,
     "metadata": {},
     "output_type": "execute_result"
    }
   ],
   "source": [
    "#Case where we know p(x0|z)\n",
    "t=1\n",
    "y=1\n",
    "V_ty_x0 = np.array([[p([\"yf\",\"x0\",\"t\"],(y,0,t))/p([\"t\"],t)],[p([\"yf\",\"x0\",\"t\"],(y,1,t))/p([\"t\"],t)]])\n",
    "M_x0_z = np.array([1-x_expectations[0,:].detach().numpy(),x_expectations[0,:].detach().numpy()])#First row is x0=0\n",
    "V_ty_z = np.linalg.inv(M_x0_z).dot(V_ty_x0)\n",
    "\n",
    "V_t_x0 = np.array([[p([\"x0\",\"t\"],(0,t))/p([\"t\"],t)],[p([\"x0\",\"t\"],(1,t))/p([\"t\"],t)]])\n",
    "V_x0 = np.array([[p([\"x0\"],0)],[p([\"x0\"],1)]])\n",
    "\n",
    "V_t_z = np.linalg.inv(M_x0_z).dot(V_t_x0)\n",
    "V_z = np.linalg.inv(M_x0_z).dot(V_x0)\n",
    "\n",
    "sum(V_ty_z*V_z/V_t_z)"
   ]
  },
  {
   "cell_type": "code",
   "execution_count": 273,
   "metadata": {},
   "outputs": [
    {
     "name": "stdout",
     "output_type": "stream",
     "text": [
      "[0.94999999 0.89999998] [[ 0.66896472 -0.09950373]\n",
      " [-0.74329416  0.99503719]]\n"
     ]
    },
    {
     "data": {
      "text/plain": [
       "array([0.10000002, 0.89999998])"
      ]
     },
     "execution_count": 273,
     "metadata": {},
     "output_type": "execute_result"
    }
   ],
   "source": [
    "#Finding out p(x0|z)\n",
    "P_x1_x0 = np.array([[1,p([\"x0\", \"t\"],(0,t))/p([\"t\"],t), p([\"x0\", \"t\"],(0,t))/p([\"t\"],t)],\n",
    "                   [p([\"x1\",\"t\"],(0,t))/p([\"t\"],t), p([\"x1\",\"x0\",\"t\"],(0,0,t))/p([\"t\"],t),p([\"x1\",\"x0\",\"t\"],(0,1,t))/p([\"t\"],t)],\n",
    "                   [p([\"x1\",\"t\"],(1,t))/p([\"t\"],t) ,p([\"x1\",\"x0\",\"t\"],(1,0,t))/p([\"t\"],t), p([\"x1\",\"x0\",\"t\"],(1,1,t))/p([\"t\"],t)]])\n",
    "Q_x1_x0 = np.array([[p([\"yf\",\"t\"],(y,t))/p([\"t\"],t), p([\"yf\",\"x0\",\"t\"],(y,0,t))/p([\"t\"],t), p([\"yf\",\"x0\",\"t\"],(y,1,t))/p([\"t\"],t)],\n",
    "                   [p([\"yf\",\"x1\",\"t\"],(y,0,t))/p([\"t\"],t), p([\"yf\",\"x1\",\"x0\",\"t\"],(y,0,0,t))/p([\"t\"],t), p([\"yf\",\"x1\",\"x0\",\"t\"],(y,0,1,t))/p([\"t\"],t)],\n",
    "                   [p([\"yf\",\"x1\",\"t\"],(y,1,t))/p([\"t\"],t), p([\"yf\",\"x1\",\"x0\",\"t\"],(y,1,0,t))/p([\"t\"],t), p([\"yf\",\"x1\",\"x0\",\"t\"],(y,1,1,t))/p([\"t\"],t)]])\n",
    "P_x1_x0[:-1,:-1]\n",
    "e,v = np.linalg.eig(np.linalg.inv(P_x1_x0[:-1,:-1]).dot(Q_x1_x0[:-1,:-1]))\n",
    "print(e,v)\n",
    "inv = np.linalg.inv(v)\n",
    "inv[:,1]*1/inv[:,0]"
   ]
  },
  {
   "cell_type": "code",
   "execution_count": 332,
   "metadata": {},
   "outputs": [],
   "source": [
    "def p_x0_z_from_dist(p,y_label=\"y\"):\n",
    "    #Returns the probability of x0=0 given z=1 and z=0. The assignment to 1 and 0 is arbitrary\n",
    "    t = 1\n",
    "    y = 1#the valus of these don't actually matter for the final result\n",
    "    P_x1_x0 = np.array([[1,p([\"x0\", \"t\"],(0,t))/p([\"t\"],t)],\n",
    "                        [p([\"x1\",\"t\"],(0,t))/p([\"t\"],t), p([\"x1\",\"x0\",\"t\"],(0,0,t))/p([\"t\"],t)]])\n",
    "    Q_x1_x0 = np.array([[p([y_label,\"t\"],(y,t))/p([\"t\"],t), p([y_label,\"x0\",\"t\"],(y,0,t))/p([\"t\"],t)],\n",
    "                        [p([y_label,\"x1\",\"t\"],(y,0,t))/p([\"t\"],t), p([y_label,\"x1\",\"x0\",\"t\"],(y,0,0,t))/p([\"t\"],t)]])\n",
    "    e,v = np.linalg.eig(np.linalg.inv(P_x1_x0).dot(Q_x1_x0))\n",
    "    e = sorted(list(enumerate(list(e))), key=lambda x: -x[1])#Just sorting the v for consistent results, probably doesn't matter\n",
    "    sorted_v = np.concatenate([v[:,e[0][0]][:,None],v[:,e[1][0]][:,None]],1)\n",
    "    inv = np.linalg.inv(v)\n",
    "    return inv[:,1]*1/inv[:,0]"
   ]
  },
  {
   "cell_type": "code",
   "execution_count": 293,
   "metadata": {},
   "outputs": [],
   "source": [
    "def everything_from_dist(p,y_label=\"y\"):\n",
    "    p_x0_0_z = p_x0_z_from_dist(p,y_label)\n",
    "    p_x0_z = 1-p_x0_0_z#This is ready as is\n",
    "    \n",
    "    #Next figure out p(z), p(t|z),p(y|z,t)\n",
    "    p_y_tz = np.zeros((2,2))#p(y=1|t,z), dims (t,z)\n",
    "    p_t_z = np.zeros((2,))#p(y=1|z)\n",
    "    p_x1_z = np.zeros((2,))\n",
    "    p_z = np.zeros(1)\n",
    "    \n",
    "    for t in range(2):\n",
    "        for y in range(2):\n",
    "            V_ty_x0 = np.array([[p([y_label,\"x0\",\"t\"],(y,0,t))/p([\"t\"],t)],[p([y_label,\"x0\",\"t\"],(y,1,t))/p([\"t\"],t)]])\n",
    "            V_t_x0 = np.array([[p([\"x0\",\"t\"],(0,t))/p([\"t\"],t)],[p([\"x0\",\"t\"],(1,t))/p([\"t\"],t)]])\n",
    "            V_x0 = np.array([[p([\"x0\"],0)],[p([\"x0\"],1)]])\n",
    "\n",
    "            M_x0_z = np.array([p_x0_0_z, p_x0_z])\n",
    "\n",
    "            V_z = np.linalg.inv(M_x0_z).dot(V_x0)#p(z)\n",
    "            V_t_z = np.linalg.inv(M_x0_z).dot(V_t_x0)\n",
    "            V_ty_z = np.linalg.inv(M_x0_z).dot(V_ty_x0)\n",
    "            \n",
    "            p_z[0] = V_z[1,0]#Prob that \"z=1\"\n",
    "            p_y_tz[t,:] = (V_ty_z/V_t_z).squeeze() #In order z=0 and z=1\n",
    "            if t==1:\n",
    "                p_t_z[:] = (V_t_z*p([\"t\"],1)/V_z).squeeze()\n",
    "    x1 = 1\n",
    "    V_x1_x0 = np.array([[p([\"x0\",\"x1\"],(0,x1))/p([\"x1\"],x1)],[p([\"x0\",\"x1\"],(1,x1))/p([\"x1\"],x1)]])\n",
    "    M_x0_z = np.array([p_x0_0_z, p_x0_z])\n",
    "    V_x1_z = np.linalg.inv(M_x0_z).dot(V_x1_x0)#p(z|x1=1) (order z=0, z=1)\n",
    "    p_x1_z[:] = (V_x1_z*p([\"x1\"],1)/V_z).squeeze()#Reusing V_z\n",
    "    \n",
    "    return p_y_tz, p_t_z, p_z, p_x0_z, p_x1_z"
   ]
  },
  {
   "cell_type": "code",
   "execution_count": 294,
   "metadata": {},
   "outputs": [
    {
     "data": {
      "text/plain": [
       "(array([[0.09999998, 0.85000003],\n",
       "        [0.94999999, 0.89999998]]),\n",
       " array([0.70000001, 0.30000003]),\n",
       " array([0.39999997]),\n",
       " array([0.89999998, 0.10000002]),\n",
       " array([0.09999999, 0.8       ]))"
      ]
     },
     "execution_count": 294,
     "metadata": {},
     "output_type": "execute_result"
    }
   ],
   "source": [
    "everything_from_dist(p,\"yf\")"
   ]
  },
  {
   "cell_type": "code",
   "execution_count": 305,
   "metadata": {},
   "outputs": [
    {
     "data": {
      "text/plain": [
       "(array([[0.10321265, 0.84903324],\n",
       "        [0.95018365, 0.89986352]]),\n",
       " array([0.69953808, 0.30091649]),\n",
       " array([0.39994643]),\n",
       " array([0.90144503, 0.09830738]),\n",
       " array([0.10108753, 0.79833809]))"
      ]
     },
     "execution_count": 305,
     "metadata": {},
     "output_type": "execute_result"
    }
   ],
   "source": [
    "everything_from_dist(p2,\"yf\")"
   ]
  },
  {
   "cell_type": "code",
   "execution_count": 307,
   "metadata": {},
   "outputs": [],
   "source": [
    "#The true parameters were:\n",
    "#z_expectation = torch.Tensor([0.6])\n",
    "#x_expectations = torch.Tensor([[0.1,0.9],\n",
    "#                              [0.8,0.1]])\n",
    "#x_dim = len(x_expectations)\n",
    "#t_expectations = torch.Tensor([[0.3,0.7]])\n",
    "#y_expectations = torch.Tensor([[0.85,0.9,0.1,0.95]])"
   ]
  },
  {
   "cell_type": "markdown",
   "metadata": {},
   "source": [
    "# Generating binary data from Gaussian z"
   ]
  },
  {
   "cell_type": "code",
   "execution_count": 79,
   "metadata": {},
   "outputs": [
    {
     "data": {
      "text/plain": [
       "array([0])"
      ]
     },
     "execution_count": 79,
     "metadata": {},
     "output_type": "execute_result"
    }
   ],
   "source": [
    "def sigmoid(x):\n",
    "    return 1 / (1 + np.exp(-x))"
   ]
  },
  {
   "cell_type": "code",
   "execution_count": 80,
   "metadata": {},
   "outputs": [],
   "source": [
    "def gaussianz_binary_df(num_samples, x_a, x_b, t_a, t_b, y_a0, y_b0, y_a1, y_b1):\n",
    "    z = np.random.standard_normal((num_samples,1))\n",
    "    x_dim = len(x_a)\n",
    "    x_a = np.array(x_a)\n",
    "    x_b = np.array(x_b)\n",
    "    x = (np.random.random((num_samples, x_dim)) < sigmoid(x_a*z + x_b))\n",
    "    t = (np.random.random((num_samples, 1)) < sigmoid(t_a*z + t_b)).astype(int)\n",
    "    y = (np.random.random((num_samples, 1)) < sigmoid(y_a1*z + y_b1)).astype(int)*t \\\n",
    "        + (np.random.random((num_samples, 1)) < sigmoid(y_a0*z + y_b0)).astype(int)*(1-t)\n",
    "    df = pd.DataFrame(np.concatenate([z,x,t,y], axis=1), \n",
    "                      columns=['z'] + ['x{}'.format(i) for i in range(x_dim)] + ['t','y'])\n",
    "    return df"
   ]
  },
  {
   "cell_type": "code",
   "execution_count": 808,
   "metadata": {},
   "outputs": [],
   "source": [
    "num_samples=1000000\n",
    "x_a = np.array([1.4,1.4])*2\n",
    "x_b = np.array([-0.2,0.4])*2\n",
    "t_a = np.array([1])*2#Make this larger to amplify amplify nonlinearities\n",
    "t_b = np.array([0.2])*2\n",
    "y_a0 = np.array([2])*2\n",
    "y_b0 = np.array([-0.6])*2\n",
    "y_a1 = np.array([2])*2\n",
    "y_b1 = np.array([0.6])*2"
   ]
  },
  {
   "cell_type": "code",
   "execution_count": 809,
   "metadata": {},
   "outputs": [],
   "source": [
    "df2 = gaussianz_binary_df(num_samples, x_a, x_b, t_a, t_b, y_a0, y_b0, y_a1, y_b1)"
   ]
  },
  {
   "cell_type": "code",
   "execution_count": 810,
   "metadata": {},
   "outputs": [
    {
     "name": "stdout",
     "output_type": "stream",
     "text": [
      "0.21611171295671433\n",
      "(0.6080558564783571, 0.3919441435216428)\n"
     ]
    }
   ],
   "source": [
    "def linear_binary_ty_pydot(p_y_zt1_func, p_y_zt0_func):\n",
    "    \"\"\"Calculates the ATE assuming the standard normal p(z) distribution and given P(y|z,t).\n",
    "    Assumes z_dim==1 for the model.\"\"\"\n",
    "    p_y_dot1,_ = scipy.integrate.quad(lambda z: scipy.stats.norm.pdf(z)*p_y_zt1_func(z), -np.inf, np.inf)\n",
    "    p_y_dot0,_ = scipy.integrate.quad(lambda z: scipy.stats.norm.pdf(z)*p_y_zt0_func(z), -np.inf, np.inf)\n",
    "    return p_y_dot1, p_y_dot0\n",
    "\n",
    "p_y_zt1_true, p_y_zt0_true = p_y_zt_from_true_dist(y_a0, y_b0, y_a1, y_b1)\n",
    "true_ate = linear_binary_ty_ate(p_y_zt1_true, p_y_zt0_true)\n",
    "print(true_ate)\n",
    "print(linear_binary_ty_pydot(p_y_zt1_true, p_y_zt0_true))"
   ]
  },
  {
   "cell_type": "code",
   "execution_count": 811,
   "metadata": {
    "scrolled": false
   },
   "outputs": [
    {
     "data": {
      "text/plain": [
       "[<matplotlib.lines.Line2D at 0x1a781ee1288>]"
      ]
     },
     "execution_count": 811,
     "metadata": {},
     "output_type": "execute_result"
    },
    {
     "data": {
      "image/png": "[encoded data removed]",
      "text/plain": [
       "<Figure size 432x288 with 1 Axes>"
      ]
     },
     "metadata": {},
     "output_type": "display_data"
    }
   ],
   "source": [
    "p_y_zt1_true(np.array([0,1]))\n",
    "zrange = np.linspace(-1,1,100)\n",
    "plt.plot(zrange, p_y_zt1_true(zrange))"
   ]
  },
  {
   "cell_type": "code",
   "execution_count": 812,
   "metadata": {
    "scrolled": true
   },
   "outputs": [
    {
     "name": "stdout",
     "output_type": "stream",
     "text": [
      "[[0.61846586]]\n",
      "[[0.33117341]]\n"
     ]
    }
   ],
   "source": [
    "p2 = get_p2_func(df2)\n",
    "py_x0_te1 = np.array([[p2([\"x0\",\"t\",\"y\"],(1,1,1))/p2([\"x0\",\"t\"],(1,1)), p2([\"x0\",\"t\",\"y\"],(0,1,1))/p2([\"x0\",\"t\"],(0,1))]])\n",
    "px1_x0_te1 = np.array([[p2([\"x1\",\"x0\",\"t\"],(1,1,1))/p2([\"x0\",\"t\"],(1,1)), p2([\"x1\",\"x0\",\"t\"],(1,0,1))/p2([\"x0\",\"t\"],(0,1))],\n",
    "                      [p2([\"x1\",\"x0\",\"t\"],(0,1,1))/p2([\"x0\",\"t\"],(1,1)),p2([\"x1\",\"x0\",\"t\"],(0,0,1))/p2([\"x0\",\"t\"],(0,1))]])\n",
    "px1 = np.array([[p2([\"x1\"],1)],[p2([\"x1\"],0)]])\n",
    "\n",
    "py_x0_te0 = np.array([[p2([\"x0\",\"t\",\"y\"],(1,0,1))/p2([\"x0\",\"t\"],(1,0)), p2([\"x0\",\"t\",\"y\"],(0,0,1))/p2([\"x0\",\"t\"],(0,0))]])\n",
    "px1_x0_te0 = np.array([[p2([\"x1\",\"x0\",\"t\"],(1,1,0))/p2([\"x0\",\"t\"],(1,0)), p2([\"x1\",\"x0\",\"t\"],(1,0,0))/p2([\"x0\",\"t\"],(0,0))],\n",
    "                      [p2([\"x1\",\"x0\",\"t\"],(0,1,0))/p2([\"x0\",\"t\"],(1,0)),p2([\"x1\",\"x0\",\"t\"],(0,0,0))/p2([\"x0\",\"t\"],(0,0))]])\n",
    "\n",
    "print(py_x0_te1.dot(np.linalg.inv(px1_x0_te1)).dot(px1))\n",
    "print(py_x0_te0.dot(np.linalg.inv(px1_x0_te0)).dot(px1))"
   ]
  },
  {
   "cell_type": "code",
   "execution_count": 813,
   "metadata": {
    "scrolled": true
   },
   "outputs": [
    {
     "name": "stdout",
     "output_type": "stream",
     "text": [
      "[[0.9381805  0.04228069]\n",
      " [0.96903584 0.35434741]] [0.90270008 0.25724473] [0.53095397] [0.8106237  0.13414001] [0.97572593 0.25939466]\n"
     ]
    }
   ],
   "source": [
    "p_y_tz, p_t_z, p_z, p_x0_z, p_x1_z = everything_from_dist(p2,\"y\")\n",
    "print(p_y_tz, p_t_z, p_z, p_x0_z, p_x1_z)"
   ]
  },
  {
   "cell_type": "code",
   "execution_count": 814,
   "metadata": {},
   "outputs": [
    {
     "name": "stdout",
     "output_type": "stream",
     "text": [
      "[0.46249894]\n",
      "[0.64266458]\n"
     ]
    }
   ],
   "source": [
    "print(p_y_tz[0,0]*(1-p_z) + p_y_tz[0,1]*p_z)\n",
    "print(p_y_tz[1,0]*(1-p_z) + p_y_tz[1,1]*p_z)"
   ]
  },
  {
   "cell_type": "code",
   "execution_count": 815,
   "metadata": {},
   "outputs": [],
   "source": [
    "#z_expectation = torch.Tensor([0.6])\n",
    "#x_expectations = torch.Tensor([[0.1,0.9],\n",
    "#                              [0.8,0.1]])\n",
    "#x_dim = len(x_expectations)\n",
    "#t_expectations = torch.Tensor([[0.3,0.7]])\n",
    "#y_expectations = torch.Tensor([[0.85,0.9,0.1,0.95]])\n",
    "\n",
    "df3 = binary_data_df(1000000, \n",
    "                    torch.Tensor(p_z),\n",
    "                    torch.Tensor([p_x0_z,p_x1_z]),\n",
    "                    torch.Tensor([p_t_z]),\n",
    "                    torch.Tensor([[p_y_tz[0,0],p_y_tz[1,0],p_y_tz[0,1],p_y_tz[1,1]]]))\n",
    "\n",
    "calculate_prob = generate_calculate_prob(torch.Tensor(p_z), torch.Tensor([p_x0_z,p_x1_z]), \n",
    "                                         torch.Tensor([p_t_z]), torch.Tensor([[p_y_tz[0,0],p_y_tz[1,0],p_y_tz[0,1],p_y_tz[1,1]]]))\n",
    "prob_df3 = pd.DataFrame([c + (calculate_prob(c[0], c[1:3], c[3], c[4]),) for c in itertools.product([0,1],repeat=5)], \n",
    "                       columns=['z'] + ['x{}'.format(i) for i in range(x_dim)] + ['t', 'yf', 'P'])"
   ]
  },
  {
   "cell_type": "code",
   "execution_count": 816,
   "metadata": {},
   "outputs": [],
   "source": [
    "_, dist_data, dist_exact = getJointDistributions(torch.Tensor([[0,0,0,0,0]]), df3[['x0','x1','t','yf']],prob_df3)"
   ]
  },
  {
   "cell_type": "code",
   "execution_count": 817,
   "metadata": {},
   "outputs": [
    {
     "data": {
      "text/plain": [
       "0.10246287947026836"
      ]
     },
     "execution_count": 817,
     "metadata": {},
     "output_type": "execute_result"
    }
   ],
   "source": [
    "dist_data_original = getJointDistFromDataFrame(df2[['x0','x1','t','y']])\n",
    "(dist_exact.P - dist_data_original.P).abs().sum()"
   ]
  },
  {
   "cell_type": "code",
   "execution_count": 800,
   "metadata": {},
   "outputs": [
    {
     "data": {
      "text/html": [
       "<div>\n",
       "<style scoped>\n",
       "    .dataframe tbody tr th:only-of-type {\n",
       "        vertical-align: middle;\n",
       "    }\n",
       "\n",
       "    .dataframe tbody tr th {\n",
       "        vertical-align: top;\n",
       "    }\n",
       "\n",
       "    .dataframe thead th {\n",
       "        text-align: right;\n",
       "    }\n",
       "</style>\n",
       "<table border=\"1\" class=\"dataframe\">\n",
       "  <thead>\n",
       "    <tr style=\"text-align: right;\">\n",
       "      <th></th>\n",
       "      <th>x0</th>\n",
       "      <th>x1</th>\n",
       "      <th>t</th>\n",
       "      <th>y</th>\n",
       "      <th>P</th>\n",
       "    </tr>\n",
       "  </thead>\n",
       "  <tbody>\n",
       "    <tr>\n",
       "      <th>0</th>\n",
       "      <td>0</td>\n",
       "      <td>0</td>\n",
       "      <td>0</td>\n",
       "      <td>0</td>\n",
       "      <td>0.251419</td>\n",
       "    </tr>\n",
       "    <tr>\n",
       "      <th>1</th>\n",
       "      <td>0</td>\n",
       "      <td>0</td>\n",
       "      <td>0</td>\n",
       "      <td>1</td>\n",
       "      <td>0.006966</td>\n",
       "    </tr>\n",
       "    <tr>\n",
       "      <th>2</th>\n",
       "      <td>0</td>\n",
       "      <td>0</td>\n",
       "      <td>1</td>\n",
       "      <td>0</td>\n",
       "      <td>0.050503</td>\n",
       "    </tr>\n",
       "    <tr>\n",
       "      <th>3</th>\n",
       "      <td>0</td>\n",
       "      <td>0</td>\n",
       "      <td>1</td>\n",
       "      <td>1</td>\n",
       "      <td>0.032777</td>\n",
       "    </tr>\n",
       "    <tr>\n",
       "      <th>4</th>\n",
       "      <td>0</td>\n",
       "      <td>1</td>\n",
       "      <td>0</td>\n",
       "      <td>0</td>\n",
       "      <td>0.075205</td>\n",
       "    </tr>\n",
       "    <tr>\n",
       "      <th>5</th>\n",
       "      <td>0</td>\n",
       "      <td>1</td>\n",
       "      <td>0</td>\n",
       "      <td>1</td>\n",
       "      <td>0.015727</td>\n",
       "    </tr>\n",
       "    <tr>\n",
       "      <th>6</th>\n",
       "      <td>0</td>\n",
       "      <td>1</td>\n",
       "      <td>1</td>\n",
       "      <td>0</td>\n",
       "      <td>0.028147</td>\n",
       "    </tr>\n",
       "    <tr>\n",
       "      <th>7</th>\n",
       "      <td>0</td>\n",
       "      <td>1</td>\n",
       "      <td>1</td>\n",
       "      <td>1</td>\n",
       "      <td>0.086911</td>\n",
       "    </tr>\n",
       "    <tr>\n",
       "      <th>8</th>\n",
       "      <td>1</td>\n",
       "      <td>0</td>\n",
       "      <td>0</td>\n",
       "      <td>0</td>\n",
       "      <td>0.022336</td>\n",
       "    </tr>\n",
       "    <tr>\n",
       "      <th>9</th>\n",
       "      <td>1</td>\n",
       "      <td>0</td>\n",
       "      <td>0</td>\n",
       "      <td>1</td>\n",
       "      <td>0.004669</td>\n",
       "    </tr>\n",
       "    <tr>\n",
       "      <th>10</th>\n",
       "      <td>1</td>\n",
       "      <td>0</td>\n",
       "      <td>1</td>\n",
       "      <td>0</td>\n",
       "      <td>0.008429</td>\n",
       "    </tr>\n",
       "    <tr>\n",
       "      <th>11</th>\n",
       "      <td>1</td>\n",
       "      <td>0</td>\n",
       "      <td>1</td>\n",
       "      <td>1</td>\n",
       "      <td>0.026130</td>\n",
       "    </tr>\n",
       "    <tr>\n",
       "      <th>12</th>\n",
       "      <td>1</td>\n",
       "      <td>1</td>\n",
       "      <td>0</td>\n",
       "      <td>0</td>\n",
       "      <td>0.030928</td>\n",
       "    </tr>\n",
       "    <tr>\n",
       "      <th>13</th>\n",
       "      <td>1</td>\n",
       "      <td>1</td>\n",
       "      <td>0</td>\n",
       "      <td>1</td>\n",
       "      <td>0.032181</td>\n",
       "    </tr>\n",
       "    <tr>\n",
       "      <th>14</th>\n",
       "      <td>1</td>\n",
       "      <td>1</td>\n",
       "      <td>1</td>\n",
       "      <td>0</td>\n",
       "      <td>0.014118</td>\n",
       "    </tr>\n",
       "    <tr>\n",
       "      <th>15</th>\n",
       "      <td>1</td>\n",
       "      <td>1</td>\n",
       "      <td>1</td>\n",
       "      <td>1</td>\n",
       "      <td>0.313554</td>\n",
       "    </tr>\n",
       "  </tbody>\n",
       "</table>\n",
       "</div>"
      ],
      "text/plain": [
       "    x0  x1  t  y         P\n",
       "0    0   0  0  0  0.251419\n",
       "1    0   0  0  1  0.006966\n",
       "2    0   0  1  0  0.050503\n",
       "3    0   0  1  1  0.032777\n",
       "4    0   1  0  0  0.075205\n",
       "5    0   1  0  1  0.015727\n",
       "6    0   1  1  0  0.028147\n",
       "7    0   1  1  1  0.086911\n",
       "8    1   0  0  0  0.022336\n",
       "9    1   0  0  1  0.004669\n",
       "10   1   0  1  0  0.008429\n",
       "11   1   0  1  1  0.026130\n",
       "12   1   1  0  0  0.030928\n",
       "13   1   1  0  1  0.032181\n",
       "14   1   1  1  0  0.014118\n",
       "15   1   1  1  1  0.313554"
      ]
     },
     "metadata": {},
     "output_type": "display_data"
    },
    {
     "data": {
      "text/html": [
       "<div>\n",
       "<style scoped>\n",
       "    .dataframe tbody tr th:only-of-type {\n",
       "        vertical-align: middle;\n",
       "    }\n",
       "\n",
       "    .dataframe tbody tr th {\n",
       "        vertical-align: top;\n",
       "    }\n",
       "\n",
       "    .dataframe thead th {\n",
       "        text-align: right;\n",
       "    }\n",
       "</style>\n",
       "<table border=\"1\" class=\"dataframe\">\n",
       "  <thead>\n",
       "    <tr style=\"text-align: right;\">\n",
       "      <th></th>\n",
       "      <th>x0</th>\n",
       "      <th>x1</th>\n",
       "      <th>t</th>\n",
       "      <th>yf</th>\n",
       "      <th>P</th>\n",
       "    </tr>\n",
       "  </thead>\n",
       "  <tbody>\n",
       "    <tr>\n",
       "      <th>0</th>\n",
       "      <td>0</td>\n",
       "      <td>0</td>\n",
       "      <td>0</td>\n",
       "      <td>0</td>\n",
       "      <td>0.241309</td>\n",
       "    </tr>\n",
       "    <tr>\n",
       "      <th>1</th>\n",
       "      <td>0</td>\n",
       "      <td>0</td>\n",
       "      <td>0</td>\n",
       "      <td>1</td>\n",
       "      <td>0.011018</td>\n",
       "    </tr>\n",
       "    <tr>\n",
       "      <th>2</th>\n",
       "      <td>0</td>\n",
       "      <td>0</td>\n",
       "      <td>1</td>\n",
       "      <td>0</td>\n",
       "      <td>0.056421</td>\n",
       "    </tr>\n",
       "    <tr>\n",
       "      <th>3</th>\n",
       "      <td>0</td>\n",
       "      <td>0</td>\n",
       "      <td>1</td>\n",
       "      <td>1</td>\n",
       "      <td>0.032917</td>\n",
       "    </tr>\n",
       "    <tr>\n",
       "      <th>4</th>\n",
       "      <td>0</td>\n",
       "      <td>1</td>\n",
       "      <td>0</td>\n",
       "      <td>0</td>\n",
       "      <td>0.085315</td>\n",
       "    </tr>\n",
       "    <tr>\n",
       "      <th>5</th>\n",
       "      <td>0</td>\n",
       "      <td>1</td>\n",
       "      <td>0</td>\n",
       "      <td>1</td>\n",
       "      <td>0.011675</td>\n",
       "    </tr>\n",
       "    <tr>\n",
       "      <th>6</th>\n",
       "      <td>0</td>\n",
       "      <td>1</td>\n",
       "      <td>1</td>\n",
       "      <td>0</td>\n",
       "      <td>0.022229</td>\n",
       "    </tr>\n",
       "    <tr>\n",
       "      <th>7</th>\n",
       "      <td>0</td>\n",
       "      <td>1</td>\n",
       "      <td>1</td>\n",
       "      <td>1</td>\n",
       "      <td>0.086771</td>\n",
       "    </tr>\n",
       "    <tr>\n",
       "      <th>8</th>\n",
       "      <td>1</td>\n",
       "      <td>0</td>\n",
       "      <td>0</td>\n",
       "      <td>0</td>\n",
       "      <td>0.037061</td>\n",
       "    </tr>\n",
       "    <tr>\n",
       "      <th>9</th>\n",
       "      <td>1</td>\n",
       "      <td>0</td>\n",
       "      <td>0</td>\n",
       "      <td>1</td>\n",
       "      <td>0.002522</td>\n",
       "    </tr>\n",
       "    <tr>\n",
       "      <th>10</th>\n",
       "      <td>1</td>\n",
       "      <td>0</td>\n",
       "      <td>1</td>\n",
       "      <td>0</td>\n",
       "      <td>0.008909</td>\n",
       "    </tr>\n",
       "    <tr>\n",
       "      <th>11</th>\n",
       "      <td>1</td>\n",
       "      <td>0</td>\n",
       "      <td>1</td>\n",
       "      <td>1</td>\n",
       "      <td>0.013072</td>\n",
       "    </tr>\n",
       "    <tr>\n",
       "      <th>12</th>\n",
       "      <td>1</td>\n",
       "      <td>1</td>\n",
       "      <td>0</td>\n",
       "      <td>0</td>\n",
       "      <td>0.016203</td>\n",
       "    </tr>\n",
       "    <tr>\n",
       "      <th>13</th>\n",
       "      <td>1</td>\n",
       "      <td>1</td>\n",
       "      <td>0</td>\n",
       "      <td>1</td>\n",
       "      <td>0.034328</td>\n",
       "    </tr>\n",
       "    <tr>\n",
       "      <th>14</th>\n",
       "      <td>1</td>\n",
       "      <td>1</td>\n",
       "      <td>1</td>\n",
       "      <td>0</td>\n",
       "      <td>0.013638</td>\n",
       "    </tr>\n",
       "    <tr>\n",
       "      <th>15</th>\n",
       "      <td>1</td>\n",
       "      <td>1</td>\n",
       "      <td>1</td>\n",
       "      <td>1</td>\n",
       "      <td>0.326612</td>\n",
       "    </tr>\n",
       "  </tbody>\n",
       "</table>\n",
       "</div>"
      ],
      "text/plain": [
       "    x0  x1  t  yf         P\n",
       "0    0   0  0   0  0.241309\n",
       "1    0   0  0   1  0.011018\n",
       "2    0   0  1   0  0.056421\n",
       "3    0   0  1   1  0.032917\n",
       "4    0   1  0   0  0.085315\n",
       "5    0   1  0   1  0.011675\n",
       "6    0   1  1   0  0.022229\n",
       "7    0   1  1   1  0.086771\n",
       "8    1   0  0   0  0.037061\n",
       "9    1   0  0   1  0.002522\n",
       "10   1   0  1   0  0.008909\n",
       "11   1   0  1   1  0.013072\n",
       "12   1   1  0   0  0.016203\n",
       "13   1   1  0   1  0.034328\n",
       "14   1   1  1   0  0.013638\n",
       "15   1   1  1   1  0.326612"
      ]
     },
     "execution_count": 800,
     "metadata": {},
     "output_type": "execute_result"
    }
   ],
   "source": [
    "display(dist_data_original)\n",
    "dist_exact"
   ]
  },
  {
   "cell_type": "markdown",
   "metadata": {},
   "source": [
    "# Second idea:\n",
    "- Two categoricals: z with binary values and z with four values or eight\n",
    "    - First define the completely binary distribution\n",
    "    - Then figure out data generating process for more complex z that matches the binary z p(x,t,y) distribution\n",
    "- Probably larger z allows flexibility in explaining the data -> can match to different causal effects\n",
    "    - What happens if we increase the number of proxies? Would the causal effect have to match at some point?"
   ]
  },
  {
   "cell_type": "code",
   "execution_count": 66,
   "metadata": {},
   "outputs": [],
   "source": [
    "def binary_data_df_catZ(num_samples, z_prob, x_prob, t_prob, y_prob):\n",
    "    \"\"\"x_prob is (n_z,dim_x), t_prob is (n_z,) and y_prob is (n_z,2) (for different t)\"\"\"\n",
    "    n_z = len(z_prob)\n",
    "    dim_x = x_prob.shape[1]\n",
    "    z = np.random.multinomial(1,z_prob,num_samples)\n",
    "    x = np.zeros((num_samples, dim_x))\n",
    "    for i in range(dim_x):\n",
    "        probs = (x_prob[:,i]*z).sum(1)\n",
    "        x[:,i] = (np.random.rand() > probs).astype(int)\n",
    "    probs_t = (t_prob*z).sum(1)\n",
    "    t = (np.random.rand() > probs_t).astype(int)\n",
    "    probs_y_t0 = (y_prob[:,0]*z).sum(1)\n",
    "    y0 = (np.random.rand() > probs_y_t0).astype(int)\n",
    "    probs_y_t1 = (y_prob[:,1]*z).sum(1)\n",
    "    y1 = (np.random.rand() > probs_y_t1).astype(int)\n",
    "    y = y1*t + y0*(1-t)\n",
    "    return z,x,t,y"
   ]
  },
  {
   "cell_type": "code",
   "execution_count": null,
   "metadata": {},
   "outputs": [],
   "source": []
  },
  {
   "cell_type": "markdown",
   "metadata": {},
   "source": [
    "# Third idea:\n",
    "- Does CEVAE actually work for binary (z,x,t,y)? (does the gaussian+sigmoid data generating process include the binary z process?)\n",
    "- Maybe could test the previous idea by using CEVAE for the more complex categorical z"
   ]
  }
 ],
 "metadata": {
  "kernelspec": {
   "display_name": "Python 3",
   "language": "python",
   "name": "python3"
  },
  "language_info": {
   "codemirror_mode": {
    "name": "ipython",
    "version": 3
   },
   "file_extension": ".py",
   "mimetype": "text/x-python",
   "name": "python",
   "nbconvert_exporter": "python",
   "pygments_lexer": "ipython3",
   "version": "3.7.6"
  }
 },
 "nbformat": 4,
 "nbformat_minor": 4
}
