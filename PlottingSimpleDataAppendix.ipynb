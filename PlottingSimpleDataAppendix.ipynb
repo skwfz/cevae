{
 "cells": [
  {
   "cell_type": "code",
   "execution_count": 155,
   "metadata": {},
   "outputs": [
    {
     "name": "stdout",
     "output_type": "stream",
     "text": [
      "The autoreload extension is already loaded. To reload it, use:\n",
      "  %reload_ext autoreload\n"
     ]
    }
   ],
   "source": [
    "import numpy as np\n",
    "import pandas as pd\n",
    "import matplotlib.pyplot as plt\n",
    "from CEVAE import *\n",
    "from cevaetools import *\n",
    "from lineartoydata import *\n",
    "from lineargaussian_analytical_methods import *\n",
    "from binary_analytical_methods import *\n",
    "import seaborn as sns\n",
    "%load_ext autoreload\n",
    "%autoreload 2"
   ]
  },
  {
   "cell_type": "code",
   "execution_count": 314,
   "metadata": {},
   "outputs": [],
   "source": [
    "main_folder = \"linear_data_tests_appendix\""
   ]
  },
  {
   "cell_type": "code",
   "execution_count": 318,
   "metadata": {},
   "outputs": [
    {
     "name": "stdout",
     "output_type": "stream",
     "text": [
      "[-1.57882027  0.79555286] [-0.81765226] [0.98890266] [-1.13034777] [1.27598139 0.86828711] [1.04058315] [0.76975766]\n"
     ]
    }
   ],
   "source": [
    "# Load data gen parameters\n",
    "sub_folder_params = \"params3\"\n",
    "[c_x, c_t, c_yz, c_yt, s_x, s_t, s_y] = load_dataparameters(main_folder, sub_folder_params)\n",
    "print(c_x, c_t, c_yz, c_yt, s_x, s_t, s_y)"
   ]
  },
  {
   "cell_type": "code",
   "execution_count": 37,
   "metadata": {},
   "outputs": [],
   "source": [
    "data_sub_folder = sub_folder_params + \"data500to20000\"\n",
    "param_times = 10\n",
    "dfs, datasets = load_dfs(main_folder, data_sub_folder, param_times=param_times)\n",
    "datasize = sorted([int(ds) for ds in dfs.keys()])"
   ]
  },
  {
   "cell_type": "code",
   "execution_count": 38,
   "metadata": {},
   "outputs": [],
   "source": [
    "device=\"cpu\"\n",
    "\n",
    "num_epochs=100\n",
    "lr_start=0.01\n",
    "lr_end=0.001\n",
    "z_dim=10\n",
    "p_y_zt_nn_layers=3\n",
    "p_y_zt_nn_width=30\n",
    "p_t_z_nn_layers=3\n",
    "p_t_z_nn_width=30\n",
    "p_x_z_nn_layers=3\n",
    "p_x_z_nn_width=30\n",
    "q_z_nn_layers=3\n",
    "q_z_nn_width=30\n",
    "t_mode=0\n",
    "y_mode=0\n",
    "x_mode=np.array([0,0])\n",
    "x_dim = 2\n",
    "ty_separate_enc=False\n",
    "z_mode=0\n",
    "common_stds = False\n",
    "x_loss_scaling = 1\n",
    "\n",
    "train_arguments = [num_epochs, lr_start, lr_end, x_dim, z_dim,\n",
    "                p_y_zt_nn_layers, p_y_zt_nn_width, \n",
    "                p_t_z_nn_layers, p_t_z_nn_width,\n",
    "                p_x_z_nn_layers, p_x_z_nn_width,\n",
    "                q_z_nn_layers, q_z_nn_width, t_mode, y_mode,\n",
    "                x_mode, ty_separate_enc, z_mode, x_loss_scaling, common_stds]\n",
    "labels = [str(dsize) for dsize in datasize]\n",
    "\n",
    "sub_folder_model = sub_folder_params + \"data500to20000NNmodels\"\n",
    "models_NN, losses_NN = load_models_losses(main_folder, sub_folder_model, train_arguments, labels, device)"
   ]
  },
  {
   "cell_type": "code",
   "execution_count": 39,
   "metadata": {
    "scrolled": true
   },
   "outputs": [],
   "source": [
    "num_epochs=100\n",
    "lr_start=0.01\n",
    "lr_end=0.01\n",
    "z_dim=1\n",
    "p_y_zt_nn_layers=0\n",
    "p_y_zt_nn_width=30\n",
    "p_t_z_nn_layers=0\n",
    "p_t_z_nn_width=30\n",
    "p_x_z_nn_layers=0\n",
    "p_x_z_nn_width=30\n",
    "q_z_nn_layers=0\n",
    "q_z_nn_width=30\n",
    "t_mode=0\n",
    "y_mode=0\n",
    "x_mode=np.array([0,0])\n",
    "x_dim = 2\n",
    "ty_separate_enc=False\n",
    "z_mode=0\n",
    "common_stds = True\n",
    "x_loss_scaling = 1\n",
    "\n",
    "train_arguments = [num_epochs, lr_start, lr_end, x_dim, z_dim,\n",
    "                p_y_zt_nn_layers, p_y_zt_nn_width, \n",
    "                p_t_z_nn_layers, p_t_z_nn_width,\n",
    "                p_x_z_nn_layers, p_x_z_nn_width,\n",
    "                q_z_nn_layers, q_z_nn_width, t_mode, y_mode,\n",
    "                x_mode, ty_separate_enc, z_mode, x_loss_scaling, common_stds]\n",
    "\n",
    "sub_folder_model = sub_folder_params + \"data500to20000linearmodels\"\n",
    "models_linear, losses_linear = load_models_losses(main_folder, sub_folder_model, train_arguments, labels, device)"
   ]
  },
  {
   "cell_type": "code",
   "execution_count": 40,
   "metadata": {},
   "outputs": [
    {
     "name": "stdout",
     "output_type": "stream",
     "text": [
      "500\n",
      "1000\n",
      "2000\n",
      "5000\n",
      "10000\n",
      "15000\n",
      "20000\n",
      "500\n",
      "1000\n",
      "2000\n",
      "5000\n",
      "10000\n",
      "15000\n",
      "20000\n"
     ]
    }
   ],
   "source": [
    "AID_NN = np.zeros((param_times, len(labels)))\n",
    "AID_linear = np.zeros((param_times, len(labels)))\n",
    "\n",
    "gothrough = [(AID_NN, models_NN),(AID_linear, models_linear)]\n",
    "#gothrough = [(AID_NN, models_NN)]\n",
    "#gothrough = [(AID_linear, models_linear)]\n",
    "for AID_,models_ in gothrough:\n",
    "    for i,label in enumerate(labels):\n",
    "        print(label)\n",
    "        for j in range(param_times):\n",
    "            AID_[j,i] = estimate_AID_lineardata(models_[label][j], c_yt, \n",
    "                            c_yz, s_y, c_t, s_t, c_x, n=100, lim=6, nsample=10000)[0]"
   ]
  },
  {
   "cell_type": "code",
   "execution_count": 41,
   "metadata": {},
   "outputs": [],
   "source": [
    "AID_analytical = np.zeros((param_times,len(labels)))\n",
    "for i in range(len(labels)):\n",
    "    for j in range(param_times):\n",
    "        cov = cov_from_df(dfs[labels[i]][j])\n",
    "        est_c_yt = analytical_cyt_estimate(cov)\n",
    "        est_c_yz = np.sqrt(analytical_cyzsquared_estimate(cov))\n",
    "        est_s_y = analytical_sy_estimate(cov)\n",
    "        AID = analytical_method_AID(est_c_yz, est_c_yt, est_s_y, c_yt, c_yz, s_y, c_t, s_t)[0]\n",
    "        AID_analytical[j,i] = AID"
   ]
  },
  {
   "cell_type": "markdown",
   "metadata": {},
   "source": [
    "## AID convergence plot"
   ]
  },
  {
   "cell_type": "code",
   "execution_count": 42,
   "metadata": {},
   "outputs": [
    {
     "data": {
      "image/png": "[encoded data removed]",
      "text/plain": [
       "<Figure size 360x288 with 1 Axes>"
      ]
     },
     "metadata": {
      "needs_background": "light"
     },
     "output_type": "display_data"
    }
   ],
   "source": [
    "plt.figure(figsize=(5,4))\n",
    "palette = sns.color_palette(\"pastel\")#plt.get_cmap('Set3')\n",
    "places = list(range(len(labels)))\n",
    "width = 0.15\n",
    "diff = 0.21\n",
    "for i in range(len(labels)):\n",
    "    bplot1 = plt.boxplot(AID_NN[~np.isnan(AID_NN[:,i])][:,i], positions=[places[i]-diff*1], widths=[width],patch_artist=True)\n",
    "    bplot2 = plt.boxplot(AID_linear[~np.isnan(AID_linear[:,i])][:,i], positions=[places[i]-diff*0], widths=[width],patch_artist=True)\n",
    "    #bplot3 = plt.boxplot(AID_linear_zdim2[~np.isnan(AID_linear_zdim2[:,i])][:,i], positions=[places[i]+diff*0.5], widths=[width],patch_artist=True)\n",
    "    bplot4 = plt.boxplot(AID_analytical[:,i], positions=[places[i]+diff*1],widths=[width],patch_artist=True)\n",
    "    colors = [palette[num] for num in range(4)]\n",
    "    for j,bplot in enumerate([bplot1,bplot2,bplot4]):\n",
    "        for patch in bplot['boxes']:\n",
    "            patch.set_facecolor(colors[j])\n",
    "plt.xticks(places, datasize)\n",
    "from matplotlib.lines import Line2D\n",
    "from matplotlib.patches import Patch\n",
    "custom_lines = [Patch(facecolor=palette[i], edgecolor='black') for i in range(4)]\n",
    "plt.legend(custom_lines, [\"Full CEVAE\", \"Linear, 1D latent\", \"Analytical\"], frameon=False)\n",
    "plt.xlabel(\"Sample size\")\n",
    "plt.ylabel(\"AID\")\n",
    "\n",
    "plt.gca().spines[\"right\"].set_visible(False)\n",
    "plt.gca().spines[\"top\"].set_visible(False)\n",
    "\n",
    "plt.savefig(\"Figures/publication/supplementart_linGan_convergence_params?.png\", bbox_inches = 'tight',\n",
    "    pad_inches = 0.1)\n",
    "plt.tight_layout()\n",
    "plt.show()"
   ]
  },
  {
   "cell_type": "markdown",
   "metadata": {},
   "source": [
    "# Binary data"
   ]
  },
  {
   "cell_type": "code",
   "execution_count": 131,
   "metadata": {},
   "outputs": [],
   "source": [
    "main_folder = \"binary_data_tests_appendix\""
   ]
  },
  {
   "cell_type": "code",
   "execution_count": 153,
   "metadata": {},
   "outputs": [
    {
     "name": "stdout",
     "output_type": "stream",
     "text": [
      "[0.51240153 0.48759847]\n",
      "[[[0.75545065 0.24454935]\n",
      "  [0.4718047  0.5281953 ]]\n",
      "\n",
      " [[0.26506763 0.73493237]\n",
      "  [0.3694143  0.6305857 ]]]\n",
      "[[0.55896021 0.44103979]\n",
      " [0.70524749 0.29475251]]\n",
      "[[[0.57703665 0.42296335]\n",
      "  [0.8759038  0.1240962 ]]\n",
      "\n",
      " [[0.48439923 0.51560077]\n",
      "  [0.84653151 0.15346849]]]\n"
     ]
    },
    {
     "data": {
      "text/plain": [
       "array([[0.53186679, 0.46813321],\n",
       "       [0.86158192, 0.13841808]])"
      ]
     },
     "execution_count": 153,
     "metadata": {},
     "output_type": "execute_result"
    }
   ],
   "source": [
    "sub_folder_params = \"params1\"\n",
    "[z_probs,x_probs,t_probs,y_probs] = load_dataparameters(main_folder, sub_folder_params)\n",
    "print(z_probs)\n",
    "print(x_probs)\n",
    "print(t_probs)\n",
    "print(y_probs)\n",
    "estimate_true_py_dot(z_probs,y_probs)"
   ]
  },
  {
   "cell_type": "code",
   "execution_count": 154,
   "metadata": {},
   "outputs": [
    {
     "data": {
      "text/plain": [
       "array([[0.52649492, 0.47350508],\n",
       "       [0.86448564, 0.13551436]])"
      ]
     },
     "execution_count": 154,
     "metadata": {},
     "output_type": "execute_result"
    }
   ],
   "source": [
    "(z_probs[:,None]*t_probs).sum(0)\n",
    "(z_probs[:,None,None]*y_probs*t_probs[:,:,None]).sum(0) / (z_probs[:,None]*t_probs).sum(0)[:,None]"
   ]
  },
  {
   "cell_type": "code",
   "execution_count": 115,
   "metadata": {},
   "outputs": [],
   "source": [
    "data_sub_folder = sub_folder_params + \"data3000to80000\"\n",
    "param_times = 10\n",
    "dfs, datasets = load_dfs(main_folder, data_sub_folder, param_times=param_times)\n",
    "datasize = sorted([int(ds) for ds in dfs.keys()])\n",
    "\n",
    "data_sub_folder_extra = sub_folder_params + \"data3000to80000_additional\"\n",
    "param_times_extra = 40\n",
    "dfs_extra, datasets_extra = load_dfs(main_folder, data_sub_folder_extra, param_times=param_times_extra)\n",
    "datasize = sorted([int(ds) for ds in dfs.keys()])"
   ]
  },
  {
   "cell_type": "code",
   "execution_count": 116,
   "metadata": {},
   "outputs": [],
   "source": [
    "device = 'cpu'\n",
    "\n",
    "num_epochs=300\n",
    "lr_start=0.01\n",
    "lr_end=0.0005\n",
    "z_dim=10\n",
    "p_y_zt_nn_layers=3\n",
    "p_y_zt_nn_width=30\n",
    "p_t_z_nn_layers=3\n",
    "p_t_z_nn_width=30\n",
    "p_x_z_nn_layers=3\n",
    "p_x_z_nn_width=30\n",
    "q_z_nn_layers=3\n",
    "q_z_nn_width=30\n",
    "t_mode=2\n",
    "y_mode=2\n",
    "x_mode=np.array([2,2])\n",
    "x_dim = 2\n",
    "ty_separate_enc=False\n",
    "z_mode=0\n",
    "common_stds = False\n",
    "x_loss_scaling = 1\n",
    "\n",
    "train_arguments = [num_epochs, lr_start, lr_end, x_dim, z_dim,\n",
    "                p_y_zt_nn_layers, p_y_zt_nn_width, \n",
    "                p_t_z_nn_layers, p_t_z_nn_width,\n",
    "                p_x_z_nn_layers, p_x_z_nn_width,\n",
    "                q_z_nn_layers, q_z_nn_width, t_mode, y_mode,\n",
    "                x_mode, ty_separate_enc, z_mode, x_loss_scaling, common_stds]\n",
    "\n",
    "\n",
    "labels = [str(dsize) for dsize in datasize]\n",
    "sub_folder_model = sub_folder_params + \"data3000to40000NNmodels\"\n",
    "\n",
    "models_NN, losses_NN = load_models_losses(main_folder, sub_folder_model, train_arguments, labels, device)"
   ]
  },
  {
   "cell_type": "code",
   "execution_count": 324,
   "metadata": {},
   "outputs": [],
   "source": [
    "device = 'cpu'\n",
    "\n",
    "num_epochs=300\n",
    "lr_start=0.01\n",
    "lr_end=0.0005\n",
    "z_dim=1\n",
    "p_y_zt_nn_layers=3\n",
    "p_y_zt_nn_width=30\n",
    "p_t_z_nn_layers=3\n",
    "p_t_z_nn_width=30\n",
    "p_x_z_nn_layers=3\n",
    "p_x_z_nn_width=30\n",
    "q_z_nn_layers=3\n",
    "q_z_nn_width=30\n",
    "t_mode=2\n",
    "y_mode=2\n",
    "x_mode=np.array([2,2])\n",
    "x_dim = 2\n",
    "ty_separate_enc=False\n",
    "z_mode=2\n",
    "common_stds = False\n",
    "x_loss_scaling = 1\n",
    "\n",
    "train_arguments = [num_epochs, lr_start, lr_end, x_dim, z_dim,\n",
    "                p_y_zt_nn_layers, p_y_zt_nn_width, \n",
    "                p_t_z_nn_layers, p_t_z_nn_width,\n",
    "                p_x_z_nn_layers, p_x_z_nn_width,\n",
    "                q_z_nn_layers, q_z_nn_width, t_mode, y_mode,\n",
    "                x_mode, ty_separate_enc, z_mode, x_loss_scaling, common_stds]\n",
    "\n",
    "\n",
    "labels = [str(dsize) for dsize in datasize]\n",
    "sub_folder_model = sub_folder_params + \"data3000to40000NNmodelsbinaryz\"\n",
    "\n",
    "models_NN_binaryz, losses_NN_binaryz = load_models_losses(main_folder, sub_folder_model, train_arguments, labels, device)"
   ]
  },
  {
   "cell_type": "code",
   "execution_count": 117,
   "metadata": {
    "scrolled": false
   },
   "outputs": [
    {
     "name": "stdout",
     "output_type": "stream",
     "text": [
      "3000\n",
      "5000\n",
      "10000\n",
      "15000\n",
      "20000\n",
      "30000\n",
      "40000\n",
      "60000\n",
      "80000\n"
     ]
    }
   ],
   "source": [
    "bAID_NN = np.zeros((param_times, len(labels)))\n",
    "#AID_NN_binaryz = np.zeros((param_times, len(labels)))\n",
    "\n",
    "#gothrough = [(AID_NN, models_NN),(AID_NN_binaryz, models_NN_binaryz)]\n",
    "gothrough = [(bAID_NN, models_NN)]\n",
    "for AID_,models_ in gothrough:\n",
    "    for i,label in enumerate(labels):\n",
    "        print(label)\n",
    "        for j in range(param_times):\n",
    "            AID_[j,i] = estimate_AID(models_[label][j],z_probs,t_probs,y_probs,n=10000)"
   ]
  },
  {
   "cell_type": "code",
   "execution_count": 118,
   "metadata": {},
   "outputs": [
    {
     "name": "stdout",
     "output_type": "stream",
     "text": [
      "3000\n",
      "5000\n",
      "10000\n",
      "15000\n",
      "20000\n",
      "30000\n",
      "40000\n",
      "60000\n",
      "80000\n"
     ]
    }
   ],
   "source": [
    "# analytical AIDs\n",
    "from binary_analytical_methods import *\n",
    "AID_miao = np.zeros((param_times+param_times_extra,len(labels)))\n",
    "py_dots_miao = np.zeros((param_times+param_times_extra,len(labels),2))\n",
    "for i, label in enumerate(labels):\n",
    "    print(label)\n",
    "    for j in range(param_times):\n",
    "        py_dot1, py_dot0 = analytical_miao_pydot(dfs[label][j])\n",
    "        py_dot_miao = np.array([[1-py_dot0.item(), py_dot0.item()],[1-py_dot1.item(), py_dot1.item()]])\n",
    "        py_dots_miao[j,i,:] = np.array([py_dot0.item(),py_dot1.item()])\n",
    "        AID_miao[j,i] = estimate_AID_from_py_dot(py_dot_miao, z_probs, t_probs, y_probs)\n",
    "    for j in range(param_times, param_times + param_times_extra):\n",
    "        py_dot1, py_dot0 = analytical_miao_pydot(dfs_extra[label][j-param_times])\n",
    "        py_dot_miao = np.array([[1-py_dot0.item(), py_dot0.item()],[1-py_dot1.item(), py_dot1.item()]])\n",
    "        py_dots_miao[j,i,:] = np.array([py_dot0.item(),py_dot1.item()])\n",
    "        AID_miao[j,i] = estimate_AID_from_py_dot(py_dot_miao, z_probs, t_probs, y_probs)"
   ]
  },
  {
   "cell_type": "code",
   "execution_count": 119,
   "metadata": {},
   "outputs": [],
   "source": [
    "true_pydot = estimate_true_py_dot(z_probs,y_probs)[:,1]"
   ]
  },
  {
   "cell_type": "code",
   "execution_count": 120,
   "metadata": {},
   "outputs": [
    {
     "name": "stdout",
     "output_type": "stream",
     "text": [
      "0.3959075604434732 0.9492119231320884\n"
     ]
    }
   ],
   "source": [
    "pyzt1 = dfs['40000'][1][dfs['40000'][1]['t']==1].groupby('z').agg(['count','mean'])['y']\n",
    "pydot1 = (pyzt1['mean'] * z_probs).sum()\n",
    "pyzt0 = dfs['40000'][1][dfs['40000'][1]['t']==0].groupby('z').agg(['count','mean'])['y']\n",
    "pydot0 = (pyzt0['mean'] * z_probs).sum()\n",
    "print(pydot0,pydot1)"
   ]
  },
  {
   "cell_type": "code",
   "execution_count": 121,
   "metadata": {},
   "outputs": [],
   "source": [
    "py_dots_NN = np.zeros((param_times,len(labels),2))\n",
    "py_dots_binaryz = np.zeros((param_times,len(labels),2))\n",
    "#gothrough = [(py_dots_NN, models_NN),(py_dots_binaryz, models_NN_binaryz)]\n",
    "gothrough = [(py_dots_NN, models_NN)]\n",
    "for py_dots_,models_ in gothrough:\n",
    "    for i,label in enumerate(labels):\n",
    "        for j in range(param_times):\n",
    "            py_dot = estimate_model_py_dot(models_[label][j],n=10000)\n",
    "            py_dots_[j,i,:] = py_dot[:,1]"
   ]
  },
  {
   "cell_type": "code",
   "execution_count": 94,
   "metadata": {},
   "outputs": [],
   "source": [
    "plt.rcParams.update({\n",
    "    \"text.usetex\": True,\n",
    "    \"font.family\": \"serif\",\n",
    "    \"font.serif\": \"Times\"\n",
    "})"
   ]
  },
  {
   "cell_type": "code",
   "execution_count": 104,
   "metadata": {},
   "outputs": [],
   "source": []
  },
  {
   "cell_type": "code",
   "execution_count": 130,
   "metadata": {},
   "outputs": [
    {
     "data": {
      "image/png": "[encoded data removed]",
      "text/plain": [
       "<Figure size 1080x288 with 3 Axes>"
      ]
     },
     "metadata": {
      "needs_background": "light"
     },
     "output_type": "display_data"
    }
   ],
   "source": [
    "import seaborn as sns\n",
    "show_starting_from = 2\n",
    "fig, ax = plt.subplots(1,3,figsize=(15,4), gridspec_kw = {\"width_ratios\":[7,5,5]})\n",
    "#plt.figure(figsize=(6,5))\n",
    "palette = sns.color_palette(\"pastel\")#plt.get_cmap('Set3')\n",
    "places = list(range(len(labels)))\n",
    "width = 0.17\n",
    "diff = 0.25\n",
    "for i in range(show_starting_from,len(labels)):\n",
    "    bplot1 = ax[0].boxplot(bAID_NN[~np.isnan(bAID_NN[:,i])][:,i], positions=[places[i]-diff*0.5], widths=[width],patch_artist=True)\n",
    "    #bplot2 = ax[0].boxplot(bAID_NN_binaryz[~np.isnan(bAID_NN_binaryz[:,i])][:,i], positions=[places[i]], widths=[width],patch_artist=True)\n",
    "    bplot3 = ax[0].boxplot(AID_miao[:,i], positions=[places[i]+diff*0.5],widths=[width],patch_artist=True)\n",
    "    colors = [palette[num] for num in range(4)]\n",
    "    for j,bplot in [(0,bplot1),(2,bplot3)]:\n",
    "        for patch in bplot['boxes']:\n",
    "            patch.set_facecolor(colors[j])\n",
    "            \n",
    "for i in range(show_starting_from,len(labels)):\n",
    "    bplot1 = ax[1].boxplot(py_dots_NN[:,i,0], positions=[places[i]-diff*0.5], widths=[width], patch_artist=True)\n",
    "    #bplot2 = ax[0].boxplot(bAID_NN_binaryz[~np.isnan(bAID_NN_binaryz[:,i])][:,i], positions=[places[i]], widths=[width],patch_artist=True)\n",
    "    bplot3 = ax[1].boxplot(py_dots_miao[:,i,0], positions=[places[i]+diff*0.5], widths=[width], patch_artist=True)\n",
    "    colors = [palette[num] for num in range(4)]\n",
    "    for j,bplot in [(0,bplot1),(2,bplot3)]:\n",
    "        for patch in bplot['boxes']:\n",
    "            patch.set_facecolor(colors[j])\n",
    "\n",
    "for i in range(show_starting_from,len(labels)):\n",
    "    bplot1 = ax[2].boxplot(py_dots_NN[:,i,1], positions=[places[i]-diff*0.5], widths=[width], patch_artist=True)\n",
    "    #bplot2 = ax[0].boxplot(bAID_NN_binaryz[~np.isnan(bAID_NN_binaryz[:,i])][:,i], positions=[places[i]], widths=[width],patch_artist=True)\n",
    "    bplot3 = ax[2].boxplot(py_dots_miao[:,i,1], positions=[places[i]+diff*0.5], widths=[width], patch_artist=True)\n",
    "    colors = [palette[num] for num in range(4)]\n",
    "    for j,bplot in [(0,bplot1),(2,bplot3)]:\n",
    "        for patch in bplot['boxes']:\n",
    "            patch.set_facecolor(colors[j])\n",
    "\n",
    "from matplotlib.lines import Line2D\n",
    "from matplotlib.patches import Patch\n",
    "custom_lines = [Patch(facecolor=palette[i], edgecolor='black') for i in (0,2)] + \\\n",
    "    [Line2D([0], [0], linestyle='--', color=\"C1\")]\n",
    "ax[0].legend(custom_lines, [\"CEVAE\", \"Analytical\"], frameon=False, fontsize=12)\n",
    "ax[0].set_ylabel(\"AID\", fontsize=15)\n",
    "ax[0].set_title(\"1st parameter setup\", fontsize=18)\n",
    "ax[0].set_ylim(0,0.08)\n",
    "\n",
    "ax[1].set_title(\"$p(y=1|do(t=0))$\", fontsize=18)\n",
    "ax[1].plot([places[show_starting_from],places[-1]],[true_pydot[0],true_pydot[0]],'--', color='C1')\n",
    "ax[1].legend(custom_lines, [\"CEVAE\", \"Analytical\", \"True value\"], frameon=False, fontsize=12)\n",
    "ax[1].set_ylim(0.3,.5)\n",
    "\n",
    "ax[2].set_title(\"$p(y=1|do(t=1))$\", fontsize=18)\n",
    "ax[2].plot([places[show_starting_from],places[-1]],[true_pydot[1],true_pydot[1]],'--',color='C1')\n",
    "ax[2].legend(custom_lines, [\"CEVAE\", \"Analytical\", \"True value\"], frameon=False, fontsize=12)\n",
    "ax[2].set_ylim(0.93,.96)\n",
    "\n",
    "\"\"\"\n",
    "ax[1].plot([places[show_starting_from],places[-1]],[true_pydot[0],true_pydot[0]],'--')\n",
    "ax[1].plot([places[show_starting_from],places[-1]],[true_pydot[1],true_pydot[1]],'--')\n",
    "ax[1].legend([\"True $p(y=1|do(t=0))$\",\"True $p(y=1|do(t=1))$\"], frameon=False, fontsize=15, loc=\"right\",\n",
    "            bbox_to_anchor=(1.03,0.5))\n",
    "ax[1].boxplot(py_dots_NN[:,show_starting_from:,1], positions=places[show_starting_from:])\n",
    "ax[1].boxplot(py_dots_NN[:,show_starting_from:,0], positions=places[show_starting_from:])\n",
    "ax[1].set_ylabel(\"$p(y|do(t))$ estimate\", fontsize=15)\n",
    "ax[1].set_title(\"CEVAE\", fontsize=18)\n",
    "\n",
    "ax[2].plot([places[show_starting_from],places[-1]],[true_pydot[0],true_pydot[0]],'--')\n",
    "ax[2].plot([places[show_starting_from],places[-1]],[true_pydot[1],true_pydot[1]],'--')\n",
    "#ax[2].legend([\"True $p(y=1|do(t=1))$\",\"True $p(y=1|do(t=0))$\"], frameon=False, fontsize=12)\n",
    "ax[2].boxplot(py_dots_miao[:,show_starting_from:,1], positions=places[show_starting_from:])\n",
    "ax[2].boxplot(py_dots_miao[:,show_starting_from:,0], positions=places[show_starting_from:])\n",
    "ax[2].set_ylabel(\"$p(y|do(t))$ estimate\", fontsize=15)\n",
    "ax[2].set_title(\"Analytical method\", fontsize=18)\n",
    "ax[2].set_ylim(0.3,1)\"\"\"\n",
    "\n",
    "for i in range(3):\n",
    "    ax[i].set_xlabel(\"Sample size\", fontsize=15)\n",
    "    ax[i].set_xticks(places[show_starting_from:])\n",
    "    ax[i].set_xticklabels(datasize[show_starting_from:], fontsize=14, rotation=30)\n",
    "    ax[i].tick_params(axis='y', which='major', labelsize=14)\n",
    "ax[0].tick_params(axis='x', which='major', labelsize=14, rotation=30)\n",
    "        \n",
    "for i in range(3):\n",
    "    ax[i].spines[\"right\"].set_visible(False)\n",
    "    ax[i].spines[\"top\"].set_visible(False)\n",
    "\n",
    "#plt.tight_layout()\n",
    "plt.savefig(\"Figures/publication/appendix_binarydataconv_params0.png\", bbox_inches = 'tight',\n",
    "    pad_inches = 0, dpi=200)\n",
    "plt.show()"
   ]
  },
  {
   "cell_type": "code",
   "execution_count": 349,
   "metadata": {},
   "outputs": [
    {
     "data": {
      "text/plain": [
       "<matplotlib.lines.Line2D at 0x7f19e0ed8e80>"
      ]
     },
     "execution_count": 349,
     "metadata": {},
     "output_type": "execute_result"
    }
   ],
   "source": [
    "bplot1['boxes'][0]"
   ]
  }
 ],
 "metadata": {
  "anaconda-cloud": {},
  "kernelspec": {
   "display_name": "Python 3",
   "language": "python",
   "name": "python3"
  },
  "language_info": {
   "codemirror_mode": {
    "name": "ipython",
    "version": 3
   },
   "file_extension": ".py",
   "mimetype": "text/x-python",
   "name": "python",
   "nbconvert_exporter": "python",
   "pygments_lexer": "ipython3",
   "version": "3.7.3"
  }
 },
 "nbformat": 4,
 "nbformat_minor": 4
}
